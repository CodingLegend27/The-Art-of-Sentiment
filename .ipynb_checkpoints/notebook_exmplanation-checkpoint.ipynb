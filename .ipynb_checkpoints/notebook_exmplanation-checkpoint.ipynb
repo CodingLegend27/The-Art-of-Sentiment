{
 "cells": [
  {
   "cell_type": "markdown",
   "metadata": {
    "collapsed": true,
    "pycharm": {
     "name": "#%% md\n"
    }
   },
   "source": [
    "# The Art of Sentiment - Bw-KI\n",
    "Team: Legends\n",
    "## Trainieren eines Neuronalen Netwerks zum Erzeugen stimmungsbasierender Musik\n",
    "\n",
    "In diesem Notebook wird beschrieben, wie ein Neuronales Netzwerk erstellt wird, um neue, negativ- oder positiv-konotierte\n",
    "Musik erzeugen zu können.\n",
    "\n",
    "Dieses Notebook kann als ausführliche Beschreibung des Python-Scripts \"...\" verwendet werden.\n",
    "\n",
    "----\n",
    "\n",
    "Die Grundlage dieses Projekts ist das [Paper](http://www.lucasnferreira.com/papers/2019/ismir-learning.pdf)\n",
    " \"Learning to Generate Music with Sentiment\"\n",
    " von Ferreira, Lucas N. und Whitehead, Jim, das 2019 erschienen ist.\n",
    "\n",
    "In diesem Paper wird der [VGMIDI Dataset](https://github.com/lucasnfe/vgmidi)\n",
    "verwendet, der speziell für diesen Zweck erstellt wurde und jeder Midi-Datei eine Emotion zuordnet.\n",
    "\n",
    "----\n",
    "\n",
    "Die im Paper beschriebene Vorgehensweise wurde in Python mithilfe des Keras-Backend in Tensorflow implementiert.\n",
    "\n"
   ]
  },
  {
   "cell_type": "markdown",
   "metadata": {
    "pycharm": {
     "name": "#%% md\n"
    }
   },
   "source": [
    "Als erstes sollte die Datei setup.py ausgeführt werden, die den [VGMIDI Datensatz](https://github.com/lucasnfe/vgmidi)\n",
    "herunterlädt.\n",
    "\n",
    "_Falls kein Datensatz heruntergeladen worden sein, so erziehlt der Befehl\n",
    "```!git clone https://github.com/lucasnfe/vgmidi.git``` dasselbe Ergebnis._"
   ]
  },
  {
   "cell_type": "code",
   "execution_count": null,
   "metadata": {
    "pycharm": {
     "name": "#%%\n"
    }
   },
   "outputs": [],
   "source": [
    "### TODO geht noch nicht\n",
    "# Ausführen der Datei setup.py\n",
    "!python3 setup.py"
   ]
  },
  {
   "cell_type": "code",
   "execution_count": null,
   "metadata": {
    "pycharm": {
     "name": "#%%\n"
    }
   },
   "outputs": [],
   "source": [
    "# Herunterladen des Datensatzes\n",
    "!wget https://github.com/lucasnfe/vgmidi/archive/0.1.zip\n",
    "\n",
    "# Entpacken \n",
    "!!unzip 0.1.zip"
   ]
  },
  {
   "cell_type": "code",
   "execution_count": null,
   "metadata": {
    "pycharm": {
     "name": "#%%\n"
    }
   },
   "outputs": [],
   "source": []
  },
  {
   "cell_type": "code",
   "execution_count": null,
   "metadata": {},
   "outputs": [],
   "source": []
  }
 ],
 "metadata": {
  "kernelspec": {
   "display_name": "Python 3",
   "language": "python",
   "name": "python3"
  },
  "language_info": {
   "codemirror_mode": {
    "name": "ipython",
    "version": 3
   },
   "file_extension": ".py",
   "mimetype": "text/x-python",
   "name": "python",
   "nbconvert_exporter": "python",
   "pygments_lexer": "ipython3",
   "version": "3.8.3"
  }
 },
 "nbformat": 4,
 "nbformat_minor": 1
}
