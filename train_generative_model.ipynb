{
  "nbformat": 4,
  "nbformat_minor": 0,
  "metadata": {
    "language_info": {
      "codemirror_mode": {
        "name": "ipython",
        "version": 3
      },
      "file_extension": ".py",
      "mimetype": "text/x-python",
      "name": "python",
      "nbconvert_exporter": "python",
      "pygments_lexer": "ipython3",
      "version": "3.8.3-final"
    },
    "orig_nbformat": 2,
    "kernelspec": {
      "name": "Python 3.8.3 64-bit",
      "display_name": "Python 3.8.3 64-bit",
      "metadata": {
        "interpreter": {
          "hash": "4cd7ab41f5fca4b9b44701077e38c5ffd31fe66a6cab21e0214b68d958d0e462"
        }
      }
    },
    "colab": {
      "name": "train_generative_model.ipynb",
      "provenance": [],
      "collapsed_sections": [
        "BhSehwjBX6wz",
        "N5r4iqjyX6w5",
        "W401h3QjX6xG",
        "Fn11KLoAX6xP",
        "FQEWpSAiX6xQ",
        "ZFCcv7d7X6xa",
        "WEQahbrDX6xi"
      ],
      "toc_visible": true
    }
  },
  "cells": [
    {
      "cell_type": "code",
      "metadata": {
        "id": "z3w8RsqlX9gz",
        "outputId": "d88db654-e0da-4a3e-906a-a3496f8169c3",
        "colab": {
          "base_uri": "https://localhost:8080/",
          "height": 71
        }
      },
      "source": [
        "#########\n",
        "# Setup nur für Google Colab Verbindung zu Google Drive\n",
        "from google.colab import drive\n",
        "import os\n",
        "drive.mount('/content/gdrive')\n",
        "root_path = 'gdrive/My Drive/The_Art_of_Sentiment' \n",
        "\n",
        "# navigieren zu passendem Verzeichnis\n",
        "if os.getcwd() != ('/content/' + root_path):\n",
        "    os.chdir(root_path)\n",
        "\n",
        "OWD = os.getcwd()\n",
        "\n",
        "print(os.listdir())"
      ],
      "execution_count": null,
      "outputs": [
        {
          "output_type": "stream",
          "text": [
            "Mounted at /content/gdrive\n",
            "['.ipynb_checkpoints', 'Composing AI Dataset', 'Kaggle Classical Music Midi', 'erzeugtes', 'models', 'converted_notes.hkl', 'gewichtungen', 'VGMI-Fertiges Skript', 'midi_loader.py', '__pycache__', 'data', 'trained_alr', 'trained', 'text_classifier', 'text_classifier_small']\n"
          ],
          "name": "stdout"
        }
      ]
    },
    {
      "source": [
        "----\n",
        "\n",
        "Die Grundlage dieses Projekts ist das [Paper](http://www.lucasnferreira.com/papers/2019/ismir-learning.pdf)\n",
        " \"Learning to Generate Music with Sentiment\"\n",
        " von Ferreira, Lucas N. und Whitehead, Jim, das 2019 erschienen ist.\n",
        "\n",
        "In diesem Paper wird der [VGMIDI Dataset](https://github.com/lucasnfe/vgmidi)\n",
        "verwendet, der speziell für diesen Zweck erstellt wurde und jeder Midi-Datei eine Emotion zuordnet.\n",
        "\n",
        "----\n",
        "\n",
        "In diesem Notebook wird beschrieben, wie ein Neuronales Netzwerk erstellt wird, um neue, negativ- oder positiv-konotierte\n",
        "Musik erzeugen zu können.\n",
        "\n"
      ],
      "cell_type": "markdown",
      "metadata": {}
    },
    {
      "cell_type": "code",
      "execution_count": null,
      "metadata": {},
      "outputs": [],
      "source": [
        "# Herunterladen des Datensatzes\n",
        "!wget \"https://github.com/lucasnfe/vgmidi/archive/0.1.zip\"\n",
        "\n",
        "# Entpacken \n",
        "!unzip 0.1.zip"
      ]
    },
    {
      "cell_type": "markdown",
      "metadata": {
        "id": "RX9N0l1xX6wU"
      },
      "source": [
        "# The Art of Sentiment: Notebook zum Trainieren des Neuronalen Netzwerks zur Erzeugung von Musik \n",
        "Team: Legends\n"
      ]
    },
    {
      "source": [
        "Hier wird das Model auf den nicht-gelabelten Datensatz trainiert."
      ],
      "cell_type": "markdown",
      "metadata": {}
    },
    {
      "cell_type": "code",
      "metadata": {
        "id": "hJuoOPoVX6wW"
      },
      "source": [
        "# Imports\n",
        "import os\n",
        "import json\n",
        "import numpy as np\n",
        "import tensorflow as tf\n",
        "\n",
        "import midi_loader\n"
      ],
      "execution_count": null,
      "outputs": []
    },
    {
      "cell_type": "code",
      "metadata": {
        "id": "_gZW1KsQX6wb"
      },
      "source": [
        "# Speicherort der Checkpoints\n",
        "TRAIN_DIR = \"./trained\""
      ],
      "execution_count": null,
      "outputs": []
    },
    {
      "cell_type": "code",
      "metadata": {
        "id": "J_S08oMGX6wf"
      },
      "source": [
        "# Codierung\n",
        "def build_char_to_index(train_vocab, test_vocab):\n",
        "    # Mergen von Train und Test Vocab\n",
        "    vocab = list(train_vocab | test_vocab)\n",
        "    vocab.sort()\n",
        "\n",
        "    vocab_size = len(vocab)\n",
        "\n",
        "    # Dictionary zur Codierung\n",
        "    char_to_index = { char : index for index, char in enumerate(vocab)}\n",
        "\n",
        "    # Speichern der char_to_index Codierung in einer Json-Datei\n",
        "    # damit später midi-Dateien erzeugt werden können\n",
        "    with open(os.path.join(TRAIN_DIR, \"char_to_index.json\"), \"w\") as f:\n",
        "        json.dump(char_to_index, f)\n",
        "    \n",
        "    return char_to_index, vocab_size"
      ],
      "execution_count": null,
      "outputs": []
    },
    {
      "cell_type": "code",
      "metadata": {
        "id": "D6nvchTIX6wh"
      },
      "source": [
        "def _split_input(chunk):\n",
        "    input_text = chunk[:-1]\n",
        "    target_text = chunk[1:]\n",
        "    return input_text, target_text\n",
        "\n",
        "def build_dataset(text, char_to_index, seq_length, batch_size, buffer_size=10000):\n",
        "    text_as_int = np.array([char_to_index[c] for c in text.split(\" \")])\n",
        "    char_dataset = tf.data.Dataset.from_tensor_slices(text_as_int)\n",
        "\n",
        "    sequences = char_dataset.batch(seq_length+1, drop_remainder=True)\n",
        "\n",
        "    dataset = sequences.map(_split_input)\n",
        "\n",
        "    dataset = dataset.shuffle(buffer_size).batch(batch_size, drop_remainder=True)\n",
        "\n",
        "    return dataset"
      ],
      "execution_count": null,
      "outputs": []
    },
    {
      "cell_type": "markdown",
      "metadata": {
        "id": "_0Jt3oHhX6wk"
      },
      "source": [
        "## Laden des (ungelabelten) Datensatztes"
      ]
    },
    {
      "cell_type": "markdown",
      "metadata": {
        "id": "VoYEW2XoX6wk"
      },
      "source": [
        "Dazu muss im Ordner 'trained' eine leere Json-Datei mit dem Namen 'char_to_index.json' erstellt werden.\n",
        "\n",
        "_Anmerkung: Bei erstmaligen Laden des Datensatzes müssen alle Midi-Dateien erst codiert werden. Daher benötigt die nächste Zelle bei erstamliger Ausführung ca. 2 Stunden._\n",
        "\n",
        "_Wird die Zelle erneut ausgeführt, dann geht dies deutlich schneller, da nur noch die txt-Dateien geladen werden müssen (ca. 1 Minute)_"
      ]
    },
    {
      "cell_type": "code",
      "metadata": {
        "tags": [
          "outputPrepend"
        ],
        "id": "yjoncrPvX6wl",
        "outputId": "f6756bde-9f26-4348-9756-707ae45faef2",
        "colab": {
          "base_uri": "https://localhost:8080/",
          "height": 1000
        }
      },
      "source": [
        "# Datensatz wird codiert geladen\n",
        "# Pfad muss eventuell angepasst werden\n",
        "train_text, train_vocab = midi_loader.load_midi(\"./data/vgmidi-0.1/unlabelled/train/\")\n",
        "\n",
        "# Datensatz zum Testen des NN\n",
        "test_text, test_vocab = midi_loader.load_midi(\"./data/vgmidi-0.1/unlabelled/test/\")"
      ],
      "execution_count": null,
      "outputs": [
        {
          "output_type": "stream",
          "text": [
            "> Parse MIDI-File: ./data/vgmidi-0.1/unlabelled/train/Donkey_Kong_Country_3_JangleBells.mid\n",
            "> Parse MIDI-File: ./data/vgmidi-0.1/unlabelled/train/Crash_Bandicoot_2_NGin.mid\n",
            "> Parse MIDI-File: ./data/vgmidi-0.1/unlabelled/train/Terranigma_Sadness.mid\n",
            "> Parse MIDI-File: ./data/vgmidi-0.1/unlabelled/train/Yoshis_Story_PianoMedley.mid\n",
            "> Parse MIDI-File: ./data/vgmidi-0.1/unlabelled/train/Sonic_the_Hedgehog_2_Death_Egg_Zone_by_Shazomei.mid\n",
            "> Parse MIDI-File: ./data/vgmidi-0.1/unlabelled/train/Chrono_Cross_AnotherGuldove.mid\n",
            "> Parse MIDI-File: ./data/vgmidi-0.1/unlabelled/train/Sims_Building_Theme_6_-_The_Simple_Life_by_Pseudo.mid\n",
            "> Parse MIDI-File: ./data/vgmidi-0.1/unlabelled/train/Mega_Man_3_PasswordScreen.mid\n",
            "> Parse MIDI-File: ./data/vgmidi-0.1/unlabelled/train/Street_Fighter_II_Ken_Stage.mid\n",
            "> Parse MIDI-File: ./data/vgmidi-0.1/unlabelled/train/Chrono_Trigger_600AD.mid\n",
            "> Parse MIDI-File: ./data/vgmidi-0.1/unlabelled/train/Monkey_Island_1_-_The_Secret_of_Monkey_Island_-_Elaine_Marley_by_w3sp.mid\n",
            "> Parse MIDI-File: ./data/vgmidi-0.1/unlabelled/train/Monkey_Island_1_-_The_Secret_of_Monkey_Island_-_Opening_by_w3sp.mid\n",
            "> Parse MIDI-File: ./data/vgmidi-0.1/unlabelled/train/Sonic_the_Hedgehog_2_EmeraldHillZone.mid\n",
            "> Parse MIDI-File: ./data/vgmidi-0.1/unlabelled/train/Battle_of_Olympus_TheStoryofaLostLove.mid\n",
            "> Parse MIDI-File: ./data/vgmidi-0.1/unlabelled/train/Terranigma_Royalty.mid\n",
            "> Parse MIDI-File: ./data/vgmidi-0.1/unlabelled/train/Mega_Man_3_SnakeMansStage.mid\n",
            "> Parse MIDI-File: ./data/vgmidi-0.1/unlabelled/train/Donkey_Kong_Land_Cloud.mid\n",
            "> Parse MIDI-File: ./data/vgmidi-0.1/unlabelled/train/StarTropics_UpontheIslands.mid\n",
            "> Parse MIDI-File: ./data/vgmidi-0.1/unlabelled/train/BanjoKazooie_RustyBucketBayAquatic.mid\n",
            "> Parse MIDI-File: ./data/vgmidi-0.1/unlabelled/train/Final_Fantasy_Tactics_BackFire.mid\n",
            "> Parse MIDI-File: ./data/vgmidi-0.1/unlabelled/train/Mega_Man_2_FlashMansStage.mid\n",
            "> Parse MIDI-File: ./data/vgmidi-0.1/unlabelled/train/Fire_Emblem_Path_of_Radiance_ToMyLove.mid\n",
            "> Parse MIDI-File: ./data/vgmidi-0.1/unlabelled/train/Suikoden_II_Reminiscence.mid\n",
            "> Parse MIDI-File: ./data/vgmidi-0.1/unlabelled/train/Donkey_Kong_Country_Bonus_Lose.mid\n",
            "> Parse MIDI-File: ./data/vgmidi-0.1/unlabelled/train/Indiana_Jones_and_the_Last_Crusade_-_Zeppelin_by_w3sp.mid\n",
            "> Parse MIDI-File: ./data/vgmidi-0.1/unlabelled/train/StarTropics_II_Zodas_Revenge_Dungeons56.mid\n",
            "> Parse MIDI-File: ./data/vgmidi-0.1/unlabelled/train/Secret_of_Evermore_Tinker.mid\n",
            "> Parse MIDI-File: ./data/vgmidi-0.1/unlabelled/train/Donkey_Kong_Country_3_BaddiesOnParade.mid\n",
            "> Parse MIDI-File: ./data/vgmidi-0.1/unlabelled/train/Super_Mario_Bros_3_EndingIntro.mid\n",
            "> Parse MIDI-File: ./data/vgmidi-0.1/unlabelled/train/Final_Fantasy_10_DaughteroftheGreatSummonerWarrior.mid\n",
            "> Parse MIDI-File: ./data/vgmidi-0.1/unlabelled/train/Final_Fantasy_8_ShuffleorBoogie.mid\n",
            "> Parse MIDI-File: ./data/vgmidi-0.1/unlabelled/train/Super_Mario_Galaxy_Gusty_Garden_Galaxy.mid\n",
            "> Parse MIDI-File: ./data/vgmidi-0.1/unlabelled/train/Super_Mario_Sunshine_DelfinoPlaza.mid\n",
            "> Parse MIDI-File: ./data/vgmidi-0.1/unlabelled/train/Golden_Sun_VenusLighthouse.mid\n",
            "> Parse MIDI-File: ./data/vgmidi-0.1/unlabelled/train/BanjoTooie_Terry.mid\n",
            "> Parse MIDI-File: ./data/vgmidi-0.1/unlabelled/train/Battle_of_Olympus_OrpheusJourneyArranged.mid\n",
            "> Parse MIDI-File: ./data/vgmidi-0.1/unlabelled/train/Castlevania_Dawn_of_Sorrow_DemonCastlePinnacle.mid\n",
            "> Parse MIDI-File: ./data/vgmidi-0.1/unlabelled/train/Sonic_the_Hedgehog_2_Mystic_Cave_Zone_Two_Players_by_Shazomei.mid\n",
            "> Parse MIDI-File: ./data/vgmidi-0.1/unlabelled/train/Sonic_the_Hedgehog_2_Casino_Night_Zone_Two_Players_by_Shazomei.mid\n",
            "> Parse MIDI-File: ./data/vgmidi-0.1/unlabelled/train/Sonic_the_Hedgehog_-_Title_Screen_by_Gori_Fater.mid\n",
            "> Parse MIDI-File: ./data/vgmidi-0.1/unlabelled/train/Mystical_Ninja_Starring_Goemon_GhostToysCastle.mid\n",
            "> Parse MIDI-File: ./data/vgmidi-0.1/unlabelled/train/Pokemon_Red_Blue_Yellow_SSAnne.mid\n",
            "> Parse MIDI-File: ./data/vgmidi-0.1/unlabelled/train/Final_Fantasy_8_BalambGarden.mid\n",
            "> Parse MIDI-File: ./data/vgmidi-0.1/unlabelled/train/Spelunker_Title.mid\n",
            "> Parse MIDI-File: ./data/vgmidi-0.1/unlabelled/train/Kirbys_Dreamland_3_SandCanyon3.mid\n",
            "> Parse MIDI-File: ./data/vgmidi-0.1/unlabelled/train/Pokemon_Red_Blue_Yellow_TheEliteFour.mid\n",
            "> Parse MIDI-File: ./data/vgmidi-0.1/unlabelled/train/Legend_Of_Zelda_The_The_Wind_Waker_ForsakenFortress.mid\n",
            "> Parse MIDI-File: ./data/vgmidi-0.1/unlabelled/train/Mega_Man_X_Storm_Eagle.mid\n",
            "> Parse MIDI-File: ./data/vgmidi-0.1/unlabelled/train/Final_Fantasy_8_EyesonMe.mid\n",
            "> Parse MIDI-File: ./data/vgmidi-0.1/unlabelled/train/Super_Bomberman_Stage1.mid\n",
            "> Parse MIDI-File: ./data/vgmidi-0.1/unlabelled/train/Legend_Of_Zelda_The_The_Wind_Waker_OutsetIsland.mid\n",
            "> Parse MIDI-File: ./data/vgmidi-0.1/unlabelled/train/Legend_Of_Zelda_The_The_Wind_Waker_HyruleCastle.mid\n",
            "> Parse MIDI-File: ./data/vgmidi-0.1/unlabelled/train/Final_Fantasy_3_FigaroCastle.mid\n",
            "> Parse MIDI-File: ./data/vgmidi-0.1/unlabelled/train/Runescape_Harmony.mid\n",
            "> Parse MIDI-File: ./data/vgmidi-0.1/unlabelled/train/Gang_Garrison_2_InGameMusic.mid\n",
            "> Parse MIDI-File: ./data/vgmidi-0.1/unlabelled/train/Super_Mario_World_MarioDeath.mid\n",
            "> Parse MIDI-File: ./data/vgmidi-0.1/unlabelled/train/Mother_MtItoi.mid\n",
            "> Parse MIDI-File: ./data/vgmidi-0.1/unlabelled/train/Final_Fantasy_Crystal_Chronicles_ShudderMonster.mid\n",
            "> Parse MIDI-File: ./data/vgmidi-0.1/unlabelled/train/Mega_Man_9_PianoMedley.mid\n",
            "> Parse MIDI-File: ./data/vgmidi-0.1/unlabelled/train/Legend_Of_Zelda_The_The_Wind_Waker_ForsakenFortressInvasion2.mid\n",
            "> Parse MIDI-File: ./data/vgmidi-0.1/unlabelled/train/Age_of_Empires_Title_Theme.mid\n",
            "> Parse MIDI-File: ./data/vgmidi-0.1/unlabelled/train/Xenogears_TreasureWhichCannotBeStolen.mid\n",
            "> Parse MIDI-File: ./data/vgmidi-0.1/unlabelled/train/Earthworm_Jim_3D_Poultrygeist.mid\n",
            "> Parse MIDI-File: ./data/vgmidi-0.1/unlabelled/train/Mega_Man_X_Command_Mission_RedipsMovement.mid\n",
            "> Parse MIDI-File: ./data/vgmidi-0.1/unlabelled/train/Warioware_Touched_RocktheMike.mid\n",
            "> Parse MIDI-File: ./data/vgmidi-0.1/unlabelled/train/Legend_of_Zelda_A_Link_to_the_Past_Flute_Theme_by_Gori_Fater.mid\n",
            "> Parse MIDI-File: ./data/vgmidi-0.1/unlabelled/train/Super_Mario_Land_Easton_Kingdom_by_Knightlitespeed.mid\n",
            "> Parse MIDI-File: ./data/vgmidi-0.1/unlabelled/train/Donkey_Kong_Land_ConstructionSite.mid\n",
            "> Parse MIDI-File: ./data/vgmidi-0.1/unlabelled/train/Super_Mario_Bros_3_IcedLand.mid\n",
            "> Parse MIDI-File: ./data/vgmidi-0.1/unlabelled/train/Suikoden_II_Cookoff.mid\n",
            "> Parse MIDI-File: ./data/vgmidi-0.1/unlabelled/train/Super_Smash_Bros_Melee_VenomArranged.mid\n",
            "> Parse MIDI-File: ./data/vgmidi-0.1/unlabelled/train/SimCity_Town.mid\n",
            "> Parse MIDI-File: ./data/vgmidi-0.1/unlabelled/train/No_More_Heroes_HISSATSUJamba.mid\n",
            "> Parse MIDI-File: ./data/vgmidi-0.1/unlabelled/train/Pokemon_Red_Blue_Yellow_ShowMeAround.mid\n",
            "> Parse MIDI-File: ./data/vgmidi-0.1/unlabelled/train/Harvest_Moon_64_FlowerBudVillage.mid\n",
            "> Parse MIDI-File: ./data/vgmidi-0.1/unlabelled/train/Pokemon_Trading_Card_Game_TitleScreen.mid\n",
            "> Parse MIDI-File: ./data/vgmidi-0.1/unlabelled/train/Legend_Of_Zelda_A_Link_to_the_Past_Ending_Theme_by_Gori_Fater.mid\n",
            "> Parse MIDI-File: ./data/vgmidi-0.1/unlabelled/train/Final_Fantasy_8_ForceYourWay.mid\n",
            "> Parse MIDI-File: ./data/vgmidi-0.1/unlabelled/train/Phoenix_Wright_Ace_Attorney_ReminiscenceDL6.mid\n",
            "> Parse MIDI-File: ./data/vgmidi-0.1/unlabelled/train/Punch_Out_Fight_Theme.mid\n",
            "> Parse MIDI-File: ./data/vgmidi-0.1/unlabelled/train/Mega_Man_5_DarkmanStages.mid\n",
            "> Parse MIDI-File: ./data/vgmidi-0.1/unlabelled/train/Mega_Man_ElecMansStage.mid\n",
            "> Parse MIDI-File: ./data/vgmidi-0.1/unlabelled/train/Princess_Tomato_in_the_Salad_Kingdom_MainTheme.mid\n",
            "> Parse MIDI-File: ./data/vgmidi-0.1/unlabelled/train/Advance_Wars_EaglesTheme.mid\n",
            "> Parse MIDI-File: ./data/vgmidi-0.1/unlabelled/train/Mystical_Ninja_Starring_Goemon_Yamato.mid\n",
            "> Parse MIDI-File: ./data/vgmidi-0.1/unlabelled/train/Pokemon_Trading_Card_Game_PauseScreen.mid\n",
            "> Parse MIDI-File: ./data/vgmidi-0.1/unlabelled/train/Sonic_the_Hedgehog_-_Final_Zone_by_Gori_Fater.mid\n",
            "> Parse MIDI-File: ./data/vgmidi-0.1/unlabelled/train/Final_Fantasy_Tactics_Antipyretic.mid\n",
            "> Parse MIDI-File: ./data/vgmidi-0.1/unlabelled/train/Super_Mario_Bros_BowserDefeated.mid\n",
            "> Parse MIDI-File: ./data/vgmidi-0.1/unlabelled/train/Final_Fantasy_3_ForeverRachelVariations.mid\n",
            "> Parse MIDI-File: ./data/vgmidi-0.1/unlabelled/train/Chrono_Trigger_SecretoftheForest.mid\n",
            "> Parse MIDI-File: ./data/vgmidi-0.1/unlabelled/train/Super_Mario_RPG_MushroomKingdom.mid\n",
            "> Parse MIDI-File: ./data/vgmidi-0.1/unlabelled/train/Legend_of_Mana_DreamseedFruit.mid\n",
            "> Parse MIDI-File: ./data/vgmidi-0.1/unlabelled/train/Pokemon_Red_Blue_Yellow_Route2_by_ALF.mid\n",
            "> Parse MIDI-File: ./data/vgmidi-0.1/unlabelled/train/Final_Fantasy_10_AuronsTheme.mid\n",
            "> Parse MIDI-File: ./data/vgmidi-0.1/unlabelled/train/Kirby_Super_Star_MetaKnightsRevenge.mid\n",
            "> Parse MIDI-File: ./data/vgmidi-0.1/unlabelled/train/Luigis_Mansion_EGaddsLaboratory.mid\n",
            "> Parse MIDI-File: ./data/vgmidi-0.1/unlabelled/train/Legend_of_Zelda_Ocarina_of_Time_Links_House_by_w3sp.mid\n",
            "> Parse MIDI-File: ./data/vgmidi-0.1/unlabelled/train/Final_Fantasy_7_CosmoCanyon.mid\n",
            "> Parse MIDI-File: ./data/vgmidi-0.1/unlabelled/train/Terranigma_ArksLastDayPiano.mid\n",
            "> Parse MIDI-File: ./data/vgmidi-0.1/unlabelled/train/Castlevania_Portrait_of_Ruin_HailFromthePast.mid\n",
            "> Parse MIDI-File: ./data/vgmidi-0.1/unlabelled/train/BanjoTooie_IsleOHags.mid\n",
            "> Parse MIDI-File: ./data/vgmidi-0.1/unlabelled/train/Mario_Kart_Double_Dash_Results4thorWorse.mid\n",
            "> Parse MIDI-File: ./data/vgmidi-0.1/unlabelled/train/Legend_of_Zelda_A_Link_to_the_Past_Fairy_Fountain_by_Gori_Fater.mid\n",
            "> Parse MIDI-File: ./data/vgmidi-0.1/unlabelled/train/Sonic_the_Hedgehog_-_Invincibility_by_Gori_Fater.mid\n",
            "> Parse MIDI-File: ./data/vgmidi-0.1/unlabelled/train/Ultima_V_Stones.mid\n",
            "> Parse MIDI-File: ./data/vgmidi-0.1/unlabelled/train/Sonic_the_Hedgehog_2_Hill_Top_Zone_by_Shazomei.mid\n",
            "> Parse MIDI-File: ./data/vgmidi-0.1/unlabelled/train/Monkey_Island_1_-_The_Secret_of_Monkey_Island_-_LeChuck_by_w3sp.mid\n",
            "> Parse MIDI-File: ./data/vgmidi-0.1/unlabelled/train/Super_Mario_RPG_Smithy_Battle.mid\n",
            "> Parse MIDI-File: ./data/vgmidi-0.1/unlabelled/train/Legend_Of_Zelda_Links_Awakening_Overworld.mid\n",
            "> Parse MIDI-File: ./data/vgmidi-0.1/unlabelled/train/World_of_Warcraft_-_Wrath_of_the_Lich_King_-_Arthas_my_Son_by_Gori_Fater.mid\n",
            "> Parse MIDI-File: ./data/vgmidi-0.1/unlabelled/train/Legend_Of_Zelda_The_SaveContinueRetryScreen.mid\n",
            "> Parse MIDI-File: ./data/vgmidi-0.1/unlabelled/train/Batman_FlugelheimMuseumBeginnerPianoVer.mid\n",
            "> Parse MIDI-File: ./data/vgmidi-0.1/unlabelled/train/Mega_Man_2_AirMansStage.mid\n",
            "> Parse MIDI-File: ./data/vgmidi-0.1/unlabelled/train/Zelda_II_The_Adventure_of_Link_Overworld.mid\n",
            "> Parse MIDI-File: ./data/vgmidi-0.1/unlabelled/train/Pokemon_Omega_Ruby_Alpha_Sapphire_SoaringDay.mid\n",
            "> Parse MIDI-File: ./data/vgmidi-0.1/unlabelled/train/Metroid_Prime_Artifact.mid\n",
            "> Parse MIDI-File: ./data/vgmidi-0.1/unlabelled/train/Sonic_the_Hedgehog_-_Star_Light_Zone_by_Gori_Fater.mid\n",
            "> Parse MIDI-File: ./data/vgmidi-0.1/unlabelled/train/Lemmings_ABeastofaLevelII.mid\n",
            "> Parse MIDI-File: ./data/vgmidi-0.1/unlabelled/train/Zelda_II_The_Adventure_of_Link_Palace.mid\n",
            "> Parse MIDI-File: ./data/vgmidi-0.1/unlabelled/train/Grim_Fandango_-_Glottis_the_Pianist_by_Gori_Fater.mid\n",
            "> Parse MIDI-File: ./data/vgmidi-0.1/unlabelled/train/Mega_Man_X_Capsule.mid\n",
            "> Parse MIDI-File: ./data/vgmidi-0.1/unlabelled/train/Telengard_TitleTheme.mid\n",
            "> Parse MIDI-File: ./data/vgmidi-0.1/unlabelled/train/Resident_Evil_Code_Veronica_Infants.mid\n",
            "> Parse MIDI-File: ./data/vgmidi-0.1/unlabelled/train/Monkey_Island_2_-_LeChucks_Revenge_-_Stan_by_w3sp.mid\n",
            "> Parse MIDI-File: ./data/vgmidi-0.1/unlabelled/train/Mega_Man_7_BurstMan.mid\n",
            "> Parse MIDI-File: ./data/vgmidi-0.1/unlabelled/train/Super_Mario_Galaxy_Battlerock.mid\n",
            "> Parse MIDI-File: ./data/vgmidi-0.1/unlabelled/train/Sonic_and_Knuckles_-_Doomsday_Zone_by_Shazomei.mid\n",
            "> Parse MIDI-File: ./data/vgmidi-0.1/unlabelled/train/Tetris_MusicABossRemix.mid\n",
            "> Parse MIDI-File: ./data/vgmidi-0.1/unlabelled/train/Super_Mario_Bros_2_Boss.mid\n",
            "> Parse MIDI-File: ./data/vgmidi-0.1/unlabelled/train/Final_Fantasy_Crystal_Chronicles_AGentleWindBlows.mid\n",
            "> Parse MIDI-File: ./data/vgmidi-0.1/unlabelled/train/Final_Fantasy_11_Awakening.mid\n",
            "> Parse MIDI-File: ./data/vgmidi-0.1/unlabelled/train/Final_Fantasy_7_CaitSithsTheme.mid\n",
            "> Parse MIDI-File: ./data/vgmidi-0.1/unlabelled/train/Mega_Man_Battle_Network_4_ACDCTown.mid\n",
            "> Parse MIDI-File: ./data/vgmidi-0.1/unlabelled/train/Ragnarok_Online_ClassicalChristmasinthe13thMonth.mid\n",
            "> Parse MIDI-File: ./data/vgmidi-0.1/unlabelled/train/Sonic_the_Hedgehog_-_Credits_by_Gori_Fater.mid\n",
            "> Parse MIDI-File: ./data/vgmidi-0.1/unlabelled/train/Final_Fantasy_2_Fight1.mid\n",
            "> Parse MIDI-File: ./data/vgmidi-0.1/unlabelled/train/Phoenix_Wright_Ace_Attorney_GyakutenSistersBallad.mid\n",
            "> Parse MIDI-File: ./data/vgmidi-0.1/unlabelled/train/Mystical_Ninja_Starring_Goemon_TransformedOedoCastleRescuetheFeudalLord.mid\n",
            "> Parse MIDI-File: ./data/vgmidi-0.1/unlabelled/train/Sonic_the_Hedgehog_2_Hidden_Palace_Zone_by_Shazomei.mid\n",
            "> Parse MIDI-File: ./data/vgmidi-0.1/unlabelled/train/Final_Fantasy_8_UltimeciasCastle.mid\n",
            "> Parse MIDI-File: ./data/vgmidi-0.1/unlabelled/train/Monkey_Island_1_-_The_Secret_of_Monkey_Island_-_Intro_by_w3sp.mid\n",
            "> Parse MIDI-File: ./data/vgmidi-0.1/unlabelled/train/Final_Fantasy_Crystal_Chronicles_MagMail.mid\n",
            "> Parse MIDI-File: ./data/vgmidi-0.1/unlabelled/train/Pokemon_Diamond_Pearl_SandgemTown.mid\n",
            "> Parse MIDI-File: ./data/vgmidi-0.1/unlabelled/train/Monkey_Island_1_-_The_Secret_of_Monkey_Island_-_Fettucini_Brothers_by_w3sp.mid\n",
            "> Parse MIDI-File: ./data/vgmidi-0.1/unlabelled/train/Worms_Wormsong.mid\n",
            "> Parse MIDI-File: ./data/vgmidi-0.1/unlabelled/train/Pokemon_Diamond_Pearl_PokemonLeagueDay.mid\n",
            "> Parse MIDI-File: ./data/vgmidi-0.1/unlabelled/train/Okami_TribeofHeavenlyGods.mid\n",
            "> Parse MIDI-File: ./data/vgmidi-0.1/unlabelled/train/Pokemon_Gold_Silver_Route38.mid\n",
            "> Parse MIDI-File: ./data/vgmidi-0.1/unlabelled/train/Legend_Of_Zelda_The_Twilight_Princess_PlummsMinigame.mid\n",
            "> Parse MIDI-File: ./data/vgmidi-0.1/unlabelled/train/Circus_Charlie_Stage14.mid\n",
            "> Parse MIDI-File: ./data/vgmidi-0.1/unlabelled/train/Secret_of_Mana_RoseandGhost.mid\n",
            "> Parse MIDI-File: ./data/vgmidi-0.1/unlabelled/train/Super_Mario_Land_World4Chai.mid\n",
            "> Parse MIDI-File: ./data/vgmidi-0.1/unlabelled/train/Xenogears_ShipofRegretandSleep.mid\n",
            "> Parse MIDI-File: ./data/vgmidi-0.1/unlabelled/train/Donkey_Kong_Land_Blimp.mid\n",
            "> Parse MIDI-File: ./data/vgmidi-0.1/unlabelled/train/Sonic_the_Hedgehog_-_Spring_Yard_Zone_by_Gori_Fater.mid\n",
            "> Parse MIDI-File: ./data/vgmidi-0.1/unlabelled/train/Mike_Tysons_PunchOut_Training.mid\n",
            "> Parse MIDI-File: ./data/vgmidi-0.1/unlabelled/train/Bubble_Bobble_Secondary.mid\n",
            "> Parse MIDI-File: ./data/vgmidi-0.1/unlabelled/train/Sonic_the_Hedgehog_-_1_Up_by_Gori_Fater.mid\n",
            "> Parse MIDI-File: ./data/vgmidi-0.1/unlabelled/train/Chrono_Trigger_CorridorsofTime.mid\n",
            "> Parse MIDI-File: ./data/vgmidi-0.1/unlabelled/train/Mirrors_Edge_StillAlive.mid\n",
            "> Parse MIDI-File: ./data/vgmidi-0.1/unlabelled/train/Legend_Of_Zelda_A_Link_To_the_Past_Church.mid\n",
            "> Parse MIDI-File: ./data/vgmidi-0.1/unlabelled/train/Legend_of_Mana_HometownDomina.mid\n",
            "> Parse MIDI-File: ./data/vgmidi-0.1/unlabelled/train/Xenogears_TheWoundedShallAdvanceIntotheLight.mid\n",
            "> Parse MIDI-File: ./data/vgmidi-0.1/unlabelled/train/Legend_Of_Zelda_Ocarina_Of_Time_ForestTemple.mid\n",
            "> Parse MIDI-File: ./data/vgmidi-0.1/unlabelled/train/Super_Mario_RPG_HeresSomeWeapons.mid\n",
            "> Parse MIDI-File: ./data/vgmidi-0.1/unlabelled/train/Final_Fantasy_2_ThemeofLove.mid\n",
            "> Parse MIDI-File: ./data/vgmidi-0.1/unlabelled/train/Mega_Man_7_BurstManHeavier.mid\n",
            "> Parse MIDI-File: ./data/vgmidi-0.1/unlabelled/train/Final_Fantasy_Battle.mid\n",
            "> Parse MIDI-File: ./data/vgmidi-0.1/unlabelled/train/Metroid_Prime_ItemAcquired.mid\n",
            "> Parse MIDI-File: ./data/vgmidi-0.1/unlabelled/train/Gensou_Suikoden_V_TheLightMoaningIntheDarkness.mid\n",
            "> Parse MIDI-File: ./data/vgmidi-0.1/unlabelled/train/Legend_of_Zelda_Ocarina_of_Time_Kakariko_Village_by_BlueSCD.mid\n",
            "> Parse MIDI-File: ./data/vgmidi-0.1/unlabelled/train/Final_Fantasy_2_Town.mid\n",
            "> Parse MIDI-File: ./data/vgmidi-0.1/unlabelled/train/Metroid_Zero_Mission_TitleScreen.mid\n",
            "> Parse MIDI-File: ./data/vgmidi-0.1/unlabelled/train/Columns_Atropos.mid\n",
            "> Parse MIDI-File: ./data/vgmidi-0.1/unlabelled/train/Last_Battle_-_Mini_Boss_by_Shazomei.mid\n",
            "> Parse MIDI-File: ./data/vgmidi-0.1/unlabelled/train/Legend_of_Zelda_A_Link_to_the_Past_-_Victory_and_Crystal_by_Gori_Fater.mid\n",
            "> Parse MIDI-File: ./data/vgmidi-0.1/unlabelled/train/Magi_Nation_BossBattle.mid\n",
            "> Parse MIDI-File: ./data/vgmidi-0.1/unlabelled/train/Tales_of_Symphonia_ColletesTheme.mid\n",
            "> Parse MIDI-File: ./data/vgmidi-0.1/unlabelled/train/Dragon_Warrior_Battle_Theme.mid\n",
            "> Parse MIDI-File: ./data/vgmidi-0.1/unlabelled/train/Legend_Of_Zelda_The_The_Wind_Waker_LandBattle.mid\n",
            "> Parse MIDI-File: ./data/vgmidi-0.1/unlabelled/train/Pokemon_Ruby_Sapphire_OceanicMuseum.mid\n",
            "> Parse MIDI-File: ./data/vgmidi-0.1/unlabelled/train/Final_Fantasy_9_Battle.mid\n",
            "> Parse MIDI-File: ./data/vgmidi-0.1/unlabelled/train/Mega_Man_5_GravityMansStage.mid\n",
            "> Parse MIDI-File: ./data/vgmidi-0.1/unlabelled/train/Metroid_Prime_VsMetaRidley.mid\n",
            "> Parse MIDI-File: ./data/vgmidi-0.1/unlabelled/train/Final_Fantasy_DeathSlain.mid\n",
            "> Parse MIDI-File: ./data/vgmidi-0.1/unlabelled/train/Legend_of_Mana_MoonlitCityLumina.mid\n",
            "> Parse MIDI-File: ./data/vgmidi-0.1/unlabelled/train/Super_Mario_Bros_3_Airship.mid\n",
            "> Parse MIDI-File: ./data/vgmidi-0.1/unlabelled/train/Legend_Of_Zelda_The_Phantom_Hourglass_WithinaHouse.mid\n",
            "> Parse MIDI-File: ./data/vgmidi-0.1/unlabelled/train/Super_Mario_Galaxy_GoodEggGalaxy.mid\n",
            "> Parse MIDI-File: ./data/vgmidi-0.1/unlabelled/train/Final_Fantasy_8_SlideShowII.mid\n",
            "> Parse MIDI-File: ./data/vgmidi-0.1/unlabelled/train/Legend_of_Mana_ToTheSea.mid\n",
            "> Parse MIDI-File: ./data/vgmidi-0.1/unlabelled/train/Super_Mario_World_Underwater.mid\n",
            "> Parse MIDI-File: ./data/vgmidi-0.1/unlabelled/train/Mike_Tysons_PunchOut_GetUp.mid\n",
            "> Parse MIDI-File: ./data/vgmidi-0.1/unlabelled/train/Mega_Man_BombMansStage.mid\n",
            "> Parse MIDI-File: ./data/vgmidi-0.1/unlabelled/train/Zombies_Ate_My_Neighbors_DrTounguesCastle.mid\n",
            "> Parse MIDI-File: ./data/vgmidi-0.1/unlabelled/train/Sonic_the_Hedgehog_2_CasinoNightZone.mid\n",
            "> Parse MIDI-File: ./data/vgmidi-0.1/unlabelled/train/Legend_of_Mana_TheDarknessNova.mid\n",
            "> Parse MIDI-File: ./data/vgmidi-0.1/unlabelled/train/Myst_MystTheme.mid\n",
            "> Parse MIDI-File: ./data/vgmidi-0.1/unlabelled/train/Legend_Of_Zelda_The_The_Wind_Waker_MysteriousBirdAttack.mid\n",
            "> Parse MIDI-File: ./data/vgmidi-0.1/unlabelled/train/Kirby_Super_Star_KingDedede.mid\n",
            "> Parse MIDI-File: ./data/vgmidi-0.1/unlabelled/train/Final_Fantasy_10_SutekiDaNe.mid\n",
            "> Parse MIDI-File: ./data/vgmidi-0.1/unlabelled/train/Final_Fantasy_3_Epitaph.mid\n",
            "> Parse MIDI-File: ./data/vgmidi-0.1/unlabelled/train/Grand_Theft_Auto_Vice_City_OpeningTheme.mid\n",
            "> Parse MIDI-File: ./data/vgmidi-0.1/unlabelled/train/Odin_Sphere_HopeFollowingtheToughBattleArranged.mid\n",
            "> Parse MIDI-File: ./data/vgmidi-0.1/unlabelled/train/Super_Metroid_VsRidley.mid\n",
            "> Parse MIDI-File: ./data/vgmidi-0.1/unlabelled/train/Final_Fantasy_2_TheAirship.mid\n",
            "> Parse MIDI-File: ./data/vgmidi-0.1/unlabelled/train/Mario__Luigi_TeeheeValley.mid\n",
            "> Parse MIDI-File: ./data/vgmidi-0.1/unlabelled/train/StarTropics_Argonia.mid\n",
            "> Parse MIDI-File: ./data/vgmidi-0.1/unlabelled/train/7th_Saga_Church.mid\n",
            "> Parse MIDI-File: ./data/vgmidi-0.1/unlabelled/train/Monkey_Island_3_-_The_Curse_of_Monkey_Island_-_Chapter_by_w3sp.mid\n",
            "> Parse MIDI-File: ./data/vgmidi-0.1/unlabelled/train/Mystical_Ninja_Starring_Goemon_FestivalVillageTheMeltingSnowGoesAlongWiththeFestival.mid\n",
            "> Parse MIDI-File: ./data/vgmidi-0.1/unlabelled/train/Donkey_Kong_Country_3_WrinklysSaveCaveWrinkly64.mid\n",
            "> Parse MIDI-File: ./data/vgmidi-0.1/unlabelled/train/Mega_Man_X_Intro_Stage.mid\n",
            "> Parse MIDI-File: ./data/vgmidi-0.1/unlabelled/train/Mega_Man_2_WoodMansStage.mid\n",
            "> Parse MIDI-File: ./data/vgmidi-0.1/unlabelled/train/Zombies_Ate_My_Neighbors_ZombiePanic.mid\n",
            "> Parse MIDI-File: ./data/vgmidi-0.1/unlabelled/train/Yoshis_Island_Castle_Theme.mid\n",
            "> Parse MIDI-File: ./data/vgmidi-0.1/unlabelled/train/Comix_Zone_CurseoftheDeadShips.mid\n",
            "> Parse MIDI-File: ./data/vgmidi-0.1/unlabelled/train/Secret_of_Evermore_Merchant_Theme.mid\n",
            "> Parse MIDI-File: ./data/vgmidi-0.1/unlabelled/train/Mother_3_Japan_EtudeforGhosts.mid\n",
            "> Parse MIDI-File: ./data/vgmidi-0.1/unlabelled/train/Zelda_II_The_Adventure_of_Link_House.mid\n",
            "> Parse MIDI-File: ./data/vgmidi-0.1/unlabelled/train/Final_Fantasy_7_OneWingedAngelRebornArrangement.mid\n",
            "> Parse MIDI-File: ./data/vgmidi-0.1/unlabelled/train/Legend_Of_Zelda_The_The_Wind_Waker_ForsakenFortressInvasion1.mid\n",
            "> Parse MIDI-File: ./data/vgmidi-0.1/unlabelled/train/Super_Mario_Land_World1BirabutoArranged.mid\n",
            "> Parse MIDI-File: ./data/vgmidi-0.1/unlabelled/train/Mother_Introduction.mid\n",
            "> Parse MIDI-File: ./data/vgmidi-0.1/unlabelled/train/Pokemon_Gold_Silver_RivalBattle.mid\n",
            "> Parse MIDI-File: ./data/vgmidi-0.1/unlabelled/train/Animaniacs_MainTheme.mid\n",
            "> Parse MIDI-File: ./data/vgmidi-0.1/unlabelled/train/Super_Smash_Bros_Melee_FountainofDreams.mid\n",
            "> Parse MIDI-File: ./data/vgmidi-0.1/unlabelled/train/Legend_of_Zelda_A_Link_Between_Worlds_RaviosTheme.mid\n",
            "> Parse MIDI-File: ./data/vgmidi-0.1/unlabelled/train/Sonic_the_Hedgehog_2_Super_Sonic_Theme_by_Shazomei.mid\n",
            "> Parse MIDI-File: ./data/vgmidi-0.1/unlabelled/train/Shovel_Knight_OfDeviousMachinationsClockworkTower.mid\n",
            "> Parse MIDI-File: ./data/vgmidi-0.1/unlabelled/train/Paper_Mario_The_ThousandYear_Door_Glitzville.mid\n",
            "> Parse MIDI-File: ./data/vgmidi-0.1/unlabelled/train/Sonic_the_Hedgehog_2_BossBattle.mid\n",
            "> Parse MIDI-File: ./data/vgmidi-0.1/unlabelled/train/Betrayal_at_Krondor_-_Riddle_Chests_by_w3sp.mid\n",
            "> Parse MIDI-File: ./data/vgmidi-0.1/unlabelled/train/Suikoden_II_Homesickness.mid\n",
            "> Parse MIDI-File: ./data/vgmidi-0.1/unlabelled/train/Final_Fantasy_3_LastDungeon.mid\n",
            "> Parse MIDI-File: ./data/vgmidi-0.1/unlabelled/train/Mario_Kart_Koopa_Troopa_Beach.mid\n",
            "> Parse MIDI-File: ./data/vgmidi-0.1/unlabelled/train/Sonic_the_Hedgehog_-_Marble_Zone_by_Gori_Fater.mid\n",
            "> Parse MIDI-File: ./data/vgmidi-0.1/unlabelled/train/Super_Smash_Bros_Melee_HyruleTemple.mid\n",
            "> Parse MIDI-File: ./data/vgmidi-0.1/unlabelled/train/Fire_Emblem_The_Sacred_Stones_Theme.mid\n",
            "> Parse MIDI-File: ./data/vgmidi-0.1/unlabelled/train/Final_Fantasy_8_LiberiFataliPiano.mid\n",
            "> Parse MIDI-File: ./data/vgmidi-0.1/unlabelled/train/Mega_Man_5_Chargeman.mid\n",
            "> Parse MIDI-File: ./data/vgmidi-0.1/unlabelled/train/Professor_Layton_and_the_Miracle_Mask_PuzzlesAbound.mid\n",
            "> Parse MIDI-File: ./data/vgmidi-0.1/unlabelled/train/Gothic_MainTheme.mid\n",
            "> Parse MIDI-File: ./data/vgmidi-0.1/unlabelled/train/Final_Fantasy_Crystal_Chronicles_MonstersDance.mid\n",
            "> Parse MIDI-File: ./data/vgmidi-0.1/unlabelled/train/Rozen_Kodokunakokoro.mid\n",
            "> Parse MIDI-File: ./data/vgmidi-0.1/unlabelled/train/Sonic_the_Hedgehog_4_EGGStation.mid\n",
            "> Parse MIDI-File: ./data/vgmidi-0.1/unlabelled/train/Secret_of_Mana_CloseYourEyelids.mid\n",
            "> Parse MIDI-File: ./data/vgmidi-0.1/unlabelled/train/Final_Fantasy_3_KefkasTowerDancingMadKefka.mid\n",
            "> Parse MIDI-File: ./data/vgmidi-0.1/unlabelled/train/Raiden_Trad_GallantTears.mid\n",
            "> Parse MIDI-File: ./data/vgmidi-0.1/unlabelled/train/Mystical_Ninja_Starring_Goemon_BambooForestAncientBamboo.mid\n",
            "> Parse MIDI-File: ./data/vgmidi-0.1/unlabelled/train/Pokemon_Gold_Silver_Route29.mid\n",
            "> Parse MIDI-File: ./data/vgmidi-0.1/unlabelled/train/Legend_Of_Zelda_Ocarina_Of_Time_SerenadeofWater.mid\n",
            "> Parse MIDI-File: ./data/vgmidi-0.1/unlabelled/train/Harvest_Moon_64_Summer.mid\n",
            "> Parse MIDI-File: ./data/vgmidi-0.1/unlabelled/train/Terranigma_Lhasa.mid\n",
            "> Parse MIDI-File: ./data/vgmidi-0.1/unlabelled/train/Final_Fantasy_2_Japan_Town.mid\n",
            "> Parse MIDI-File: ./data/vgmidi-0.1/unlabelled/train/Disney_Adventures_in_the_Magic_Kingdom_TheMagicKingdom.mid\n",
            "> Parse MIDI-File: ./data/vgmidi-0.1/unlabelled/train/Bubble_Bobble_Main.mid\n",
            "> Parse MIDI-File: ./data/vgmidi-0.1/unlabelled/train/Pokemon_Red_Blue_Yellow_Title_Screen_by_ALF.mid\n",
            "> Parse MIDI-File: ./data/vgmidi-0.1/unlabelled/train/Kirbys_Dreamland_3_SandCanyon1.mid\n",
            "> Parse MIDI-File: ./data/vgmidi-0.1/unlabelled/train/Final_Fantasy_10_PathofRepentance.mid\n",
            "> Parse MIDI-File: ./data/vgmidi-0.1/unlabelled/train/Warcraft_III_-_Reign_of_Chaos_-_Blackrock_and_Roll_Human_Theme_1_by_Gori_Fater.mid\n",
            "> Parse MIDI-File: ./data/vgmidi-0.1/unlabelled/train/Lemmings_Tim1.mid\n",
            "> Parse MIDI-File: ./data/vgmidi-0.1/unlabelled/train/Mega_Man_6_PlantMan.mid\n",
            "> Parse MIDI-File: ./data/vgmidi-0.1/unlabelled/train/Final_Fantasy_3_Fanfare.mid\n",
            "> Parse MIDI-File: ./data/vgmidi-0.1/unlabelled/train/Legend_of_Mana_JoyfulSong.mid\n",
            "> Parse MIDI-File: ./data/vgmidi-0.1/unlabelled/train/Legend_of_Mana_NostalgicSong.mid\n",
            "> Parse MIDI-File: ./data/vgmidi-0.1/unlabelled/train/Columns_Clothos.mid\n",
            "> Parse MIDI-File: ./data/vgmidi-0.1/unlabelled/train/Suikoden_II_NameEntryScreen.mid\n",
            "> Parse MIDI-File: ./data/vgmidi-0.1/unlabelled/train/Metroid_Brinstar.mid\n",
            "> Parse MIDI-File: ./data/vgmidi-0.1/unlabelled/train/Chrono_Trigger_SilentLight.mid\n",
            "> Parse MIDI-File: ./data/vgmidi-0.1/unlabelled/train/Kirbys_Epic_Yarn_-_Trailer_Theme_by_Gori_Fater.mid\n",
            "> Parse MIDI-File: ./data/vgmidi-0.1/unlabelled/train/Final_Fantasy_3_Japan_Battle.mid\n",
            "> Parse MIDI-File: ./data/vgmidi-0.1/unlabelled/train/Donkey_Kong_Land_Boss.mid\n",
            "> Parse MIDI-File: ./data/vgmidi-0.1/unlabelled/train/World_of_Warcraft_-_Stormwind_by_Gori_Fater.mid\n",
            "> Parse MIDI-File: ./data/vgmidi-0.1/unlabelled/train/Metal_Gear_Solid_2_Sons_of_Liberty_WhoAmIReally.mid\n",
            "> Parse MIDI-File: ./data/vgmidi-0.1/unlabelled/train/Chrono_Trigger_ChronoTrigger.mid\n",
            "> Parse MIDI-File: ./data/vgmidi-0.1/unlabelled/train/Mega_Man_6_TomahawkmansStage.mid\n",
            "> Parse MIDI-File: ./data/vgmidi-0.1/unlabelled/train/Pokemon_Red_Blue_Yellow_PokemonCenter.mid\n",
            "> Parse MIDI-File: ./data/vgmidi-0.1/unlabelled/train/Xenogears_ValleyWheretheWindIsBorn.mid\n",
            "> Parse MIDI-File: ./data/vgmidi-0.1/unlabelled/train/Kingdom_Hearts_PiratesGigue.mid\n",
            "> Parse MIDI-File: ./data/vgmidi-0.1/unlabelled/train/Mega_Man_3_MagnetMansStage.mid\n",
            "> Parse MIDI-File: ./data/vgmidi-0.1/unlabelled/train/Super_Mario_Galaxy_BuoyBaseGalaxy.mid\n",
            "> Parse MIDI-File: ./data/vgmidi-0.1/unlabelled/train/Mario_Kart_64_KalimariDesert.mid\n",
            "> Parse MIDI-File: ./data/vgmidi-0.1/unlabelled/train/Pokemon_Red_Blue_Yellow_Surfing.mid\n",
            "> Parse MIDI-File: ./data/vgmidi-0.1/unlabelled/train/Kirby_Super_Star_GrassyPath.mid\n",
            "> Parse MIDI-File: ./data/vgmidi-0.1/unlabelled/train/Mother_BeinFriends.mid\n",
            "> Parse MIDI-File: ./data/vgmidi-0.1/unlabelled/train/ActRaiser_NorthWall.mid\n",
            "> Parse MIDI-File: ./data/vgmidi-0.1/unlabelled/train/Legend_of_Zelda_Spirit_Tracks_SpiritDuet.mid\n",
            "> Parse MIDI-File: ./data/vgmidi-0.1/unlabelled/train/Donkey_Kong_Country_3_CrazyCalypso.mid\n",
            "> Parse MIDI-File: ./data/vgmidi-0.1/unlabelled/train/Drakkhen_EarthDayNight.mid\n",
            "> Parse MIDI-File: ./data/vgmidi-0.1/unlabelled/train/Final_Fantasy_2_Rydia.mid\n",
            "> Parse MIDI-File: ./data/vgmidi-0.1/unlabelled/train/Mother_QueenMarysCastle.mid\n",
            "> Parse MIDI-File: ./data/vgmidi-0.1/unlabelled/train/Sonic_the_Hedgehog_-_Labyrinth_Zone_by_Gori_Fater.mid\n",
            "> Parse MIDI-File: ./data/vgmidi-0.1/unlabelled/train/Legend_Of_Zelda_The_The_Wind_Waker_WindfallIsland.mid\n",
            "> Parse MIDI-File: ./data/vgmidi-0.1/unlabelled/train/World_of_Warcraft_-_Song_of_Elune_by_Gori_Fater.mid\n",
            "> Parse MIDI-File: ./data/vgmidi-0.1/unlabelled/train/Secret_of_Mana_MeridianDance.mid\n",
            "> Parse MIDI-File: ./data/vgmidi-0.1/unlabelled/train/Donkey_Kong_Country_3_NorthernKremisphere.mid\n",
            "> Parse MIDI-File: ./data/vgmidi-0.1/unlabelled/train/Mario_Kart_64_Victory_Theme.mid\n",
            "> Parse MIDI-File: ./data/vgmidi-0.1/unlabelled/train/Legend_Of_Zelda_Majoras_Mask_InvertedSongofTime.mid\n",
            "> Parse MIDI-File: ./data/vgmidi-0.1/unlabelled/train/Chrono_Cross_AnotherArniVillage.mid\n",
            "> Parse MIDI-File: ./data/vgmidi-0.1/unlabelled/train/Wonder_Boy_3_The_Dragons_Trap_GameMelody.mid\n",
            "> Parse MIDI-File: ./data/vgmidi-0.1/unlabelled/train/StarTropics_SubC.mid\n",
            "> Parse MIDI-File: ./data/vgmidi-0.1/unlabelled/train/Legend_Of_Zelda_The_Twilight_Princess_MidnasDesperation.mid\n",
            "> Parse MIDI-File: ./data/vgmidi-0.1/unlabelled/train/Lemmings_Tim2.mid\n",
            "> Parse MIDI-File: ./data/vgmidi-0.1/unlabelled/train/Sonic_the_Hedgehog_3_Act_Clear_by_Hyper_Sonic.mid\n",
            "> Parse MIDI-File: ./data/vgmidi-0.1/unlabelled/train/Resident_Evil_CODE_Veronica_SetFree.mid\n",
            "> Parse MIDI-File: ./data/vgmidi-0.1/unlabelled/train/Dragon_Warrior_Town_Theme.mid\n",
            "> Parse MIDI-File: ./data/vgmidi-0.1/unlabelled/train/Legend_of_Zelda_Oracle_of_Ages_LynnaCityPresent.mid\n",
            "> Parse MIDI-File: ./data/vgmidi-0.1/unlabelled/train/City_Connection_HitACat.mid\n",
            "> Parse MIDI-File: ./data/vgmidi-0.1/unlabelled/train/Gyromite_Stage.mid\n",
            "> Parse MIDI-File: ./data/vgmidi-0.1/unlabelled/train/Xenogears_KnightofFire.mid\n",
            "> Parse MIDI-File: ./data/vgmidi-0.1/unlabelled/train/Final_Fantasy_5_Japan_AheadonourWay.mid\n",
            "> Parse MIDI-File: ./data/vgmidi-0.1/unlabelled/train/Xenosaga_Kokoro.mid\n",
            "> Parse MIDI-File: ./data/vgmidi-0.1/unlabelled/train/Legend_of_Zelda_Ocarina_of_Time_Zeldas_Lullaby_by_BlueSCD.mid\n",
            "> Parse MIDI-File: ./data/vgmidi-0.1/unlabelled/train/Mega_Man_6_FinalBattle.mid\n",
            "> Parse MIDI-File: ./data/vgmidi-0.1/unlabelled/train/Sonic_the_Hedgehog_2_Emerald_Hill_Zone_Two_Players_by_Shazomei.mid\n",
            "> Parse MIDI-File: ./data/vgmidi-0.1/unlabelled/train/Dragonlance_Goldmoon.mid\n",
            "> Parse MIDI-File: ./data/vgmidi-0.1/unlabelled/train/Sonic_the_Hedgehog_-_Scrap_Brain_Zone_by_Gori_Fater.mid\n",
            "> Parse MIDI-File: ./data/vgmidi-0.1/unlabelled/train/Super_Mario_Bros_2_ADreamyEnding.mid\n",
            "> Parse MIDI-File: ./data/vgmidi-0.1/unlabelled/train/Metroid_Prime_CreditsPianoRemix.mid\n",
            "> Parse MIDI-File: ./data/vgmidi-0.1/unlabelled/train/Sims_Building_Theme_3_-_Since_We_Met_by_Pseudo.mid\n",
            "> Parse MIDI-File: ./data/vgmidi-0.1/unlabelled/train/Street_Fighter_II_Vega_Stage.mid\n",
            "> Parse MIDI-File: ./data/vgmidi-0.1/unlabelled/train/Super_Smash_Bros_SectorZ.mid\n",
            "> Parse MIDI-File: ./data/vgmidi-0.1/unlabelled/train/Grandia_Title.mid\n",
            "> Parse MIDI-File: ./data/vgmidi-0.1/unlabelled/train/Aion_Tower_of_Eternity_SongofMoonlight.mid\n",
            "> Parse MIDI-File: ./data/vgmidi-0.1/unlabelled/train/Super_Smash_Bros_Dreamland.mid\n",
            "> Parse MIDI-File: ./data/vgmidi-0.1/unlabelled/train/Sonic_the_Hedgehog_-_Sound_Effects_by_Gori_Fater.mid\n",
            "> Parse MIDI-File: ./data/vgmidi-0.1/unlabelled/train/Super_Mario_Bros_3_Battle.mid\n",
            "> Parse MIDI-File: ./data/vgmidi-0.1/unlabelled/train/Mystical_Ninja_Starring_Goemon_IyoRegionSunsetWantYou.mid\n",
            "> Parse MIDI-File: ./data/vgmidi-0.1/unlabelled/train/Sonic_the_Hedgehog_2_RaceResults.mid\n",
            "> Parse MIDI-File: ./data/vgmidi-0.1/unlabelled/train/Mega_Man_2_CrashMansStage.mid\n",
            "> Parse MIDI-File: ./data/vgmidi-0.1/unlabelled/train/Mother_TwinkleElementarySchool.mid\n",
            "> Parse MIDI-File: ./data/vgmidi-0.1/unlabelled/train/Final_Fantasy_13_TeaserIntro.mid\n",
            "> Parse MIDI-File: ./data/vgmidi-0.1/unlabelled/train/Xenogears_BondsofSeaandFire.mid\n",
            "> Parse MIDI-File: ./data/vgmidi-0.1/unlabelled/train/Warcraft_II_-_Human_Theme_1_by_Gori_Fater.mid\n",
            "> Parse MIDI-File: ./data/vgmidi-0.1/unlabelled/train/Metroid_KraidsLair.mid\n",
            "> Parse MIDI-File: ./data/vgmidi-0.1/unlabelled/train/Mother_Youngtown.mid\n",
            "> Parse MIDI-File: ./data/vgmidi-0.1/unlabelled/train/Pokemon_Ruby_Sapphire_VerdanturfTown.mid\n",
            "> Parse MIDI-File: ./data/vgmidi-0.1/unlabelled/train/Final_Fantasy_10_AtZanarkand.mid\n",
            "> Parse MIDI-File: ./data/vgmidi-0.1/unlabelled/train/Battle_of_Olympus_3MagicHearts.mid\n",
            "> Parse MIDI-File: ./data/vgmidi-0.1/unlabelled/train/Donkey_Kong_Country_3_CavernCaprice.mid\n",
            "> Parse MIDI-File: ./data/vgmidi-0.1/unlabelled/train/Snowboard_Kids_2_WendysHouse.mid\n",
            "> Parse MIDI-File: ./data/vgmidi-0.1/unlabelled/train/Chrono_Trigger_MagussTheme.mid\n",
            "> Parse MIDI-File: ./data/vgmidi-0.1/unlabelled/train/Fire_Emblem_WindsacrossthePlains.mid\n",
            "> Parse MIDI-File: ./data/vgmidi-0.1/unlabelled/train/BanjoTooie_Witchyworld.mid\n",
            "> Parse MIDI-File: ./data/vgmidi-0.1/unlabelled/train/Legend_of_Mana_CityofFlickeringDestruction.mid\n",
            "> Parse MIDI-File: ./data/vgmidi-0.1/unlabelled/train/Pokemon_Red_Blue_Yellow_Silph_Co_Building_by_ALF.mid\n",
            "> Parse MIDI-File: ./data/vgmidi-0.1/unlabelled/train/Final_Fantasy_13_SabersEdge.mid\n",
            "> Parse MIDI-File: ./data/vgmidi-0.1/unlabelled/train/Sonic_the_Hedgehog_-_Green_Hill_Zone_by_Gori_Fater.mid\n",
            "> Parse MIDI-File: ./data/vgmidi-0.1/unlabelled/train/Legend_of_Zelda_A_Link_to_the_Past_-_Title_Theme_by_Gori_Fater.mid\n",
            "> Parse MIDI-File: ./data/vgmidi-0.1/unlabelled/train/Super_Mario_Bros_3_ToadHouse.mid\n",
            "> Parse MIDI-File: ./data/vgmidi-0.1/unlabelled/train/Last_Battle_-_End_of_Level_Boss_by_Shazomei.mid\n",
            "> Parse MIDI-File: ./data/vgmidi-0.1/unlabelled/train/Super_Mario_Bros_Starman.mid\n",
            "> Parse MIDI-File: ./data/vgmidi-0.1/unlabelled/train/Silent_Hill_NotTomorrow.mid\n",
            "> Parse MIDI-File: ./data/vgmidi-0.1/unlabelled/train/Super_Smash_Bros_Melee_StarFoxMedley.mid\n",
            "> Parse MIDI-File: ./data/vgmidi-0.1/unlabelled/train/Sam_and_Max_-_Carnival_of_the_Odd_by_w3sp.mid\n",
            "> Parse MIDI-File: ./data/vgmidi-0.1/unlabelled/train/Indiana_Jones_and_the_Fate_of_Atlantis_-_Crossing_by_w3sp.mid\n",
            "> Parse MIDI-File: ./data/vgmidi-0.1/unlabelled/train/SpongeBob_SquarePants_Battle_for_Bikini_Bottom_SpongeBobsNeighborhood.mid\n",
            "> Parse MIDI-File: ./data/vgmidi-0.1/unlabelled/train/Bioshock_CohensMasterpiece.mid\n",
            "> Parse MIDI-File: ./data/vgmidi-0.1/unlabelled/train/Mega_Man_Battle_Chip_Challenge_RegularBattle.mid\n",
            "> Parse MIDI-File: ./data/vgmidi-0.1/unlabelled/train/Pokemon_Red_Blue_Yellow_GameCorner.mid\n",
            "> Parse MIDI-File: ./data/vgmidi-0.1/unlabelled/train/Halo_2_Peril.mid\n",
            "> Parse MIDI-File: ./data/vgmidi-0.1/unlabelled/train/Xenogears_LostBrokenShards.mid\n",
            "> Parse MIDI-File: ./data/vgmidi-0.1/unlabelled/train/Monkey_Island_2_-_LeChucks_Revenge_-_Woodtick_by_w3sp.mid\n",
            "> Parse MIDI-File: ./data/vgmidi-0.1/unlabelled/train/Indiana_Jones_and_the_Last_Crusade_-_The_Holy_Grail_by_w3sp.mid\n",
            "> Parse MIDI-File: ./data/vgmidi-0.1/unlabelled/train/Legend_of_Mana_Pastoral.mid\n",
            "> Parse MIDI-File: ./data/vgmidi-0.1/unlabelled/train/Mega_Man_2_DrWilyStage1.mid\n",
            "> Parse MIDI-File: ./data/vgmidi-0.1/unlabelled/train/Donkey_Kong_Country_3_WrinklysSaveCave.mid\n",
            "> Parse MIDI-File: ./data/vgmidi-0.1/unlabelled/train/Battle_of_Olympus_OlympusNoTatakai.mid\n",
            "> Parse MIDI-File: ./data/vgmidi-0.1/unlabelled/train/Aion_Tower_of_Eternity_DeathWaltz.mid\n",
            "> Parse MIDI-File: ./data/vgmidi-0.1/unlabelled/train/Metal_Slug_Stage_1.mid\n",
            "> Parse MIDI-File: ./data/vgmidi-0.1/unlabelled/train/Monkey_Island_1_-_The_Secret_of_Monkey_Island_-_The_Scumm_Bar_by_w3sp.mid\n",
            "> Parse MIDI-File: ./data/vgmidi-0.1/unlabelled/train/Sims_Building_Theme_5_by_Pseudo.mid\n",
            "> Parse MIDI-File: ./data/vgmidi-0.1/unlabelled/train/Pokemon_Red_Blue_Yellow_WelcometotheWorldofPokemon.mid\n",
            "> Parse MIDI-File: ./data/vgmidi-0.1/unlabelled/train/Resident_Evil_Code_Veronica_MusicBoxClockVersion.mid\n",
            "> Parse MIDI-File: ./data/vgmidi-0.1/unlabelled/train/Legend_Of_Zelda_Ocarina_Of_Time_MedleyofTime.mid\n",
            "> Parse MIDI-File: ./data/vgmidi-0.1/unlabelled/train/EarthBound_SnowWoodBoardingSchool.mid\n",
            "> Parse MIDI-File: ./data/vgmidi-0.1/unlabelled/train/Battle_of_Olympus_APrayertoZeus.mid\n",
            "> Parse MIDI-File: ./data/vgmidi-0.1/unlabelled/train/Final_Fantasy_Crystal_Chronicles_RiverBellePath.mid\n",
            "> Parse MIDI-File: ./data/vgmidi-0.1/unlabelled/train/Zombies_Ate_My_Neighbors_PyramidofFear.mid\n",
            "> Parse MIDI-File: ./data/vgmidi-0.1/unlabelled/train/Pokemon_Red_Blue_Yellow_HallofFame.mid\n",
            "> Parse MIDI-File: ./data/vgmidi-0.1/unlabelled/train/Snowboard_Kids_2_SunnyMountain.mid\n",
            "> Parse MIDI-File: ./data/vgmidi-0.1/unlabelled/train/Portal_StillAlive.mid\n",
            "> Parse MIDI-File: ./data/vgmidi-0.1/unlabelled/train/3D_Battles_Of_Worldrunner_The_MainLevel.mid\n",
            "> Parse MIDI-File: ./data/vgmidi-0.1/unlabelled/train/Sonic_the_Hedgehog_2_OilOceanZone.mid\n",
            "> Parse MIDI-File: ./data/vgmidi-0.1/unlabelled/train/Dragon_Warrior_Final_Battle.mid\n",
            "> Parse MIDI-File: ./data/vgmidi-0.1/unlabelled/train/Legend_Of_Zelda_The_Twilight_Princess_MidnasTheme.mid\n",
            "> Parse MIDI-File: ./data/vgmidi-0.1/unlabelled/train/Chrono_Trigger_MillenialFair.mid\n",
            "> Parse MIDI-File: ./data/vgmidi-0.1/unlabelled/train/Final_Fantasy_Crystal_Chronicles_OhLight.mid\n",
            "> Parse MIDI-File: ./data/vgmidi-0.1/unlabelled/train/Legend_of_Mana_CliffTownGato.mid\n",
            "> Parse MIDI-File: ./data/vgmidi-0.1/unlabelled/train/Runescape_Medieval.mid\n",
            "> Parse MIDI-File: ./data/vgmidi-0.1/unlabelled/train/Sonic_Advance_VSWait.mid\n",
            "> Parse MIDI-File: ./data/vgmidi-0.1/unlabelled/train/Legend_of_Zelda_A_Link_to_the_Past_-_Death_Mountain_by_Gori_Fater.mid\n",
            "> Parse MIDI-File: ./data/vgmidi-0.1/unlabelled/train/Final_Fantasy_8_DontBeAfraid.mid\n",
            "> Parse MIDI-File: ./data/vgmidi-0.1/unlabelled/train/Final_Fantasy_3_EdgarandSabin.mid\n",
            "> Parse MIDI-File: ./data/vgmidi-0.1/unlabelled/train/Monkey_Island_1_-_The_Secret_of_Monkey_Island_-_Organ_Prelude_by_w3sp.mid\n",
            "> Parse MIDI-File: ./data/vgmidi-0.1/unlabelled/train/Conkers_Pocket_Tales_ClawSwamp.mid\n",
            "> Parse MIDI-File: ./data/vgmidi-0.1/unlabelled/train/Legend_of_Zelda_Ocarina_of_Time_Song_of_Storms_by_BlueSCD.mid\n",
            "> Parse MIDI-File: ./data/vgmidi-0.1/unlabelled/train/Pokemon_Diamond_Pearl_TwinleafTownDay.mid\n",
            "> Parse MIDI-File: ./data/vgmidi-0.1/unlabelled/train/Sonic_Advance_3_TwinkleSnowZoneAct2.mid\n",
            "> Parse MIDI-File: ./data/vgmidi-0.1/unlabelled/train/Final_Fantasy_3_TheDecisiveBattle.mid\n",
            "> Parse MIDI-File: ./data/vgmidi-0.1/unlabelled/train/Cave_Story_Gestation.mid\n",
            "> Parse MIDI-File: ./data/vgmidi-0.1/unlabelled/train/Legend_Of_Zelda_The_The_Wind_Waker_Ocean.mid\n",
            "> Parse MIDI-File: ./data/vgmidi-0.1/unlabelled/train/Monkey_Island_1_-_The_Secret_of_Monkey_Island_-_Chapter_by_w3sp.mid\n",
            "> Parse MIDI-File: ./data/vgmidi-0.1/unlabelled/train/Bubble_Bobble_Boss_Theme.mid\n",
            "> Parse MIDI-File: ./data/vgmidi-0.1/unlabelled/train/Metroid_Prime_Hunters_FightwithKanden.mid\n",
            "> Parse MIDI-File: ./data/vgmidi-0.1/unlabelled/train/Kingdom_Hearts_DearlyBeloved.mid\n",
            "> Parse MIDI-File: ./data/vgmidi-0.1/unlabelled/train/Mega_Man_5_ChargeMansStage.mid\n",
            "> Parse MIDI-File: ./data/vgmidi-0.1/unlabelled/train/Legend_Of_Zelda_A_Link_To_the_Past_HyruleCastle.mid\n",
            "> Parse MIDI-File: ./data/vgmidi-0.1/unlabelled/train/BanjoTooie_SpiralMountain.mid\n",
            "> Parse MIDI-File: ./data/vgmidi-0.1/unlabelled/train/Seiken_Densetsu_3_Japan_SacrificePart3.mid\n",
            "> Parse MIDI-File: ./data/vgmidi-0.1/unlabelled/train/Kirby_Triple_Deluxe_BossBattle.mid\n",
            "> Parse MIDI-File: ./data/vgmidi-0.1/unlabelled/train/Fable_Oakvale.mid\n",
            "> Parse MIDI-File: ./data/vgmidi-0.1/unlabelled/train/Aion_Tower_of_Eternity_ForgottenSorrow.mid\n",
            "> Parse MIDI-File: ./data/vgmidi-0.1/unlabelled/train/Mega_Man_9_GalaxyMansStageGalaxyFantasy.mid\n",
            "> Parse MIDI-File: ./data/vgmidi-0.1/unlabelled/train/Chrono_Cross_HeSangofFeeling.mid\n",
            "> Parse MIDI-File: ./data/vgmidi-0.1/unlabelled/train/BanjoTooie_CauldronKeep.mid\n",
            "> Parse MIDI-File: ./data/vgmidi-0.1/unlabelled/train/StarTropics_II_Zodas_Revenge_ZodaBattle.mid\n",
            "> Parse MIDI-File: ./data/vgmidi-0.1/unlabelled/train/Final_Fantasy_9_ViviinAlexandria.mid\n",
            "> Parse MIDI-File: ./data/vgmidi-0.1/unlabelled/train/Mega_Man_6_CentaurMan.mid\n",
            "> Parse MIDI-File: ./data/vgmidi-0.1/unlabelled/train/Kingdom_Hearts_Hikari.mid\n",
            "> Parse MIDI-File: ./data/vgmidi-0.1/unlabelled/train/Legend_of_Zelda_A_Link_to_the_Past_Master_Sword_by_Gori_Fater.mid\n",
            "> Parse MIDI-File: ./data/vgmidi-0.1/unlabelled/train/Super_Mario_Galaxy_RosettasCometObservatory1.mid\n",
            "> Parse MIDI-File: ./data/vgmidi-0.1/unlabelled/train/Legend_Of_Zelda_The_The_Wind_Waker_WindGodsAria.mid\n",
            "> Parse MIDI-File: ./data/vgmidi-0.1/unlabelled/train/BanjoTooie_EndCredits.mid\n",
            "> Parse MIDI-File: ./data/vgmidi-0.1/unlabelled/train/Sonic_the_Hedgehog_2_Aquatic_Ruin_Zone_by_Shazomei.mid\n",
            "> Parse MIDI-File: ./data/vgmidi-0.1/unlabelled/train/Legend_Of_Zelda_The_Overworld.mid\n",
            "> Parse MIDI-File: ./data/vgmidi-0.1/unlabelled/train/Pokemon_Trading_Card_Game_WaterGym.mid\n",
            "> Parse MIDI-File: ./data/vgmidi-0.1/unlabelled/train/Donkey_Kong_Land_Temple.mid\n",
            "> Parse MIDI-File: ./data/vgmidi-0.1/unlabelled/train/Final_Fantasy_2_RedWings.mid\n",
            "> Parse MIDI-File: ./data/vgmidi-0.1/unlabelled/train/Starcraft_-_Terran_Theme_1_by_Gori_Fater.mid\n",
            "> Parse MIDI-File: ./data/vgmidi-0.1/unlabelled/train/Legend_of_Zelda_A_Link_to_the_Past_Sanctuary_by_Gori_Fater.mid\n",
            "> Parse MIDI-File: ./data/vgmidi-0.1/unlabelled/train/Mystical_Ninja_Starring_Goemon_GourmetSoupCastle.mid\n",
            "> Parse MIDI-File: ./data/vgmidi-0.1/unlabelled/train/Castlevania_Stage1VampireKiller.mid\n",
            "> Parse MIDI-File: ./data/vgmidi-0.1/unlabelled/train/Sonic_the_Hedgehog_2_WingFortressZone.mid\n",
            "> Parse MIDI-File: ./data/vgmidi-0.1/unlabelled/train/Sonic_the_Hedgehog_3_IceCapZone.mid\n",
            "> Parse MIDI-File: ./data/vgmidi-0.1/unlabelled/train/Pokemon_Red_Blue_Yellow_Route1.mid\n",
            "> Parse MIDI-File: ./data/vgmidi-0.1/unlabelled/train/Super_Mario_RPG_Intro.mid\n",
            "> Parse MIDI-File: ./data/vgmidi-0.1/unlabelled/train/Secret_of_Mana_TellAStrangeTale.mid\n",
            "> Parse MIDI-File: ./data/vgmidi-0.1/unlabelled/train/Final_Fantasy_7_JENOVA.mid\n",
            "> Parse MIDI-File: ./data/vgmidi-0.1/unlabelled/train/Mega_Man_X5_BossStageIntroduction.mid\n",
            "> Parse MIDI-File: ./data/vgmidi-0.1/unlabelled/train/Super_Mario_Bros_3_EndingLoop.mid\n",
            "> Parse MIDI-File: ./data/vgmidi-0.1/unlabelled/train/Super_Mario_Bros_3_Overworld2.mid\n",
            "> Parse MIDI-File: ./data/vgmidi-0.1/unlabelled/train/Harvest_Moon_64_Winter.mid\n",
            "> Parse MIDI-File: ./data/vgmidi-0.1/unlabelled/train/Super_Smash_Bros_Melee_HittheTargets.mid\n",
            "> Parse MIDI-File: ./data/vgmidi-0.1/unlabelled/train/Castlevania_2_Simons_Quest_BloodyTears.mid\n",
            "> Parse MIDI-File: ./data/vgmidi-0.1/unlabelled/train/Super_Smash_Bros_Melee_HyruleTempleFireEmblem.mid\n",
            "> Parse MIDI-File: ./data/vgmidi-0.1/unlabelled/train/Final_Fantasy_10_Ending.mid\n",
            "> Parse MIDI-File: ./data/vgmidi-0.1/unlabelled/train/Sonic_the_Hedgehog_2_Ending_Sequence_by_Shazomei.mid\n",
            "> Parse MIDI-File: ./data/vgmidi-0.1/unlabelled/train/Chrono_Cross_RadicalDreamersUnstolenGem.mid\n",
            "> Parse MIDI-File: ./data/vgmidi-0.1/unlabelled/train/Legend_Of_Zelda_A_Link_To_the_Past_DarkWorldDungeon.mid\n",
            "> Parse MIDI-File: ./data/vgmidi-0.1/unlabelled/train/Pokemon_Diamond_Pearl_DialgaandPalkiaBattle.mid\n",
            "> Parse MIDI-File: ./data/vgmidi-0.1/unlabelled/train/Legend_Of_Zelda_The_Twilight_Princess_HyruleField.mid\n",
            "> Parse MIDI-File: ./data/vgmidi-0.1/unlabelled/train/Suikoden_II_Opening.mid\n",
            "> Parse MIDI-File: ./data/vgmidi-0.1/unlabelled/train/Kid_Icarus_TitleScreenUnderworldandGameOver.mid\n",
            "> Parse MIDI-File: ./data/vgmidi-0.1/unlabelled/train/Legend_Of_Zelda_The_The_Wind_Waker_WindTemple.mid\n",
            "> Parse MIDI-File: ./data/vgmidi-0.1/unlabelled/train/Castlevania_Aria_of_Sorrow_HearthofFire.mid\n",
            "> Parse MIDI-File: ./data/vgmidi-0.1/unlabelled/train/Mega_Man_4_DrCossacksCitadelStages34.mid\n",
            "> Parse MIDI-File: ./data/vgmidi-0.1/unlabelled/train/Mega_Man_7_CloudMan.mid\n",
            "> Parse MIDI-File: ./data/vgmidi-0.1/unlabelled/train/Pokemon_Gold_Silver_Route30.mid\n",
            "> Parse MIDI-File: ./data/vgmidi-0.1/unlabelled/train/Kirbys_Block_Ball_GameOverWaltzArrangement.mid\n",
            "> Parse MIDI-File: ./data/vgmidi-0.1/unlabelled/train/Pokemon_Red_Blue_Yellow_IndigoPlateau.mid\n",
            "> Parse MIDI-File: ./data/vgmidi-0.1/unlabelled/train/Final_Fantasy_3_TheDayAfter.mid\n",
            "> Parse MIDI-File: ./data/vgmidi-0.1/unlabelled/train/Legend_of_Zelda_A_Link_to_the_Past_-_Shop_by_Gori_Fater.mid\n",
            "> Parse MIDI-File: ./data/vgmidi-0.1/unlabelled/train/Baldurs_Gate_SafeinBeregost.mid\n",
            "> Parse MIDI-File: ./data/vgmidi-0.1/unlabelled/train/Dance_Dance_Revolution_Max_2_SoDeepPerfectSphereRemix.mid\n",
            "> Parse MIDI-File: ./data/vgmidi-0.1/unlabelled/train/FZero_X_MuteCity.mid\n",
            "> Parse MIDI-File: ./data/vgmidi-0.1/unlabelled/train/Katamari_Demacy_TitleScreen.mid\n",
            "> Parse MIDI-File: ./data/vgmidi-0.1/unlabelled/train/Sims_Building_Theme_1_-_New_Beginnings_by_Pseudo.mid\n",
            "> Parse MIDI-File: ./data/vgmidi-0.1/unlabelled/train/Pokemon_Gold_Silver_Route36.mid\n",
            "> Parse MIDI-File: ./data/vgmidi-0.1/unlabelled/train/Pokemon_Red_Blue_Yellow_LavenderTown.mid\n",
            "> Parse MIDI-File: ./data/vgmidi-0.1/unlabelled/train/Final_Fantasy_9_RoseofMay.mid\n",
            "> Parse MIDI-File: ./data/vgmidi-0.1/unlabelled/train/The_Sims_2_Simsation.mid\n",
            "> Parse MIDI-File: ./data/vgmidi-0.1/unlabelled/train/Sonic_the_Hedgehog_-_Game_Over_by_Gori_Fater.mid\n",
            "> Parse MIDI-File: ./data/vgmidi-0.1/unlabelled/train/Pokemon_Gold_Silver_Route27.mid\n",
            "> Parse MIDI-File: ./data/vgmidi-0.1/unlabelled/train/Monkey_Island_2_-_LeChucks_Revenge_-_Captain_Dread_by_w3sp.mid\n",
            "> Parse MIDI-File: ./data/vgmidi-0.1/unlabelled/train/Mega_Man_X2_XHunterStages12.mid\n",
            "> Parse MIDI-File: ./data/vgmidi-0.1/unlabelled/train/Final_Fantasy_2_DreadfulBattle.mid\n",
            "> Parse MIDI-File: ./data/vgmidi-0.1/unlabelled/train/Chrono_Trigger_WingsThatCrossTime.mid\n",
            "> Parse MIDI-File: ./data/vgmidi-0.1/unlabelled/train/Chrono_Trigger_OceanPalace.mid\n",
            "> Parse MIDI-File: ./data/vgmidi-0.1/unlabelled/train/Mega_Man_3_DrWilyStage2.mid\n",
            "> Parse MIDI-File: ./data/vgmidi-0.1/unlabelled/train/Shadow_the_Hedgehog_TheStoryisOver.mid\n",
            "> Parse MIDI-File: ./data/vgmidi-0.1/unlabelled/train/Pokemon_Gold_Silver_Route12.mid\n",
            "> Parse MIDI-File: ./data/vgmidi-0.1/unlabelled/train/Dragon_Warrior_Cave_Theme.mid\n",
            "> Parse MIDI-File: ./data/vgmidi-0.1/unlabelled/train/Max_Payne_MaxPayneTheme.mid\n",
            "> Parse MIDI-File: ./data/vgmidi-0.1/unlabelled/train/Sonic_the_Hedgehog_2_FinalBoss.mid\n",
            "> Parse MIDI-File: ./data/vgmidi-0.1/unlabelled/train/Donkey_Kong_Country_Map.mid\n",
            "> Parse MIDI-File: ./data/vgmidi-0.1/unlabelled/train/Castlevania_StageClear.mid\n",
            "> Parse MIDI-File: ./data/vgmidi-0.1/unlabelled/train/Legend_Of_Zelda_Level9.mid\n",
            "> Parse MIDI-File: ./data/vgmidi-0.1/unlabelled/train/Super_Mario_RPG_BewaretheForestsMushrooms.mid\n",
            "> Parse MIDI-File: ./data/vgmidi-0.1/unlabelled/train/Sonic_the_Hedgehog_3_Carnival_Night_Zone_by_coasterkrazy.mid\n",
            "> Parse MIDI-File: ./data/vgmidi-0.1/unlabelled/train/Yoshis_Island_Athletic.mid\n",
            "> Parse MIDI-File: ./data/vgmidi-0.1/unlabelled/train/Castlevania_Symphony_of_the_Night_WoodCarvingPartita.mid\n",
            "> Parse MIDI-File: ./data/vgmidi-0.1/unlabelled/train/Final_Fantasy_9_CleyraDanceEternalHarvest.mid\n",
            "> Parse MIDI-File: ./data/vgmidi-0.1/unlabelled/train/Super_Mario_Bros_3_KoopahariDesert.mid\n",
            "> Parse MIDI-File: ./data/vgmidi-0.1/unlabelled/train/Mario_Kart_Character_Select.mid\n",
            "> Parse MIDI-File: ./data/vgmidi-0.1/unlabelled/train/Xenogears_GatheringStarsIntheNightSky.mid\n",
            "> Parse MIDI-File: ./data/vgmidi-0.1/unlabelled/train/Dragon_Warrior_Castle_Theme.mid\n",
            "> Parse MIDI-File: ./data/vgmidi-0.1/unlabelled/train/Super_Mario_Galaxy_SpaceJunkGalaxy.mid\n",
            "> Parse MIDI-File: ./data/vgmidi-0.1/unlabelled/train/Castlevania_Symphony_of_the_Night_DanceofGold.mid\n",
            "> Parse MIDI-File: ./data/vgmidi-0.1/unlabelled/train/Legend_Of_Zelda_Links_Awakening_CreditsDuet.mid\n",
            "> Parse MIDI-File: ./data/vgmidi-0.1/unlabelled/train/Super_Mario_Bros_2_CharacterSelect.mid\n",
            "> Parse MIDI-File: ./data/vgmidi-0.1/unlabelled/train/Legend_Of_Zelda_The_The_Wind_Waker_GanonsCastle.mid\n",
            "> Parse MIDI-File: ./data/vgmidi-0.1/unlabelled/train/Legend_Of_Zelda_Adventure_of_Link_BossBattle.mid\n",
            "> Parse MIDI-File: ./data/vgmidi-0.1/unlabelled/train/Legend_Of_Zelda_The_OverworldRachmaninoffRemix.mid\n",
            "> Parse MIDI-File: ./data/vgmidi-0.1/unlabelled/train/Pokemon_Red_Blue_Yellow_Route3_by_ALF.mid\n",
            "> Parse MIDI-File: ./data/vgmidi-0.1/unlabelled/train/Mega_Man_3_TopMansStage.mid\n",
            "> Parse MIDI-File: ./data/vgmidi-0.1/unlabelled/train/Shin_Megami_Tensei_Nocturne_TitleLoop2.mid\n",
            "> Parse MIDI-File: ./data/vgmidi-0.1/unlabelled/train/Super_Smash_Bros_Brawl_-_Main_Theme_Accompaniment.mid\n",
            "> Parse MIDI-File: ./data/vgmidi-0.1/unlabelled/train/Monkey_Island_1_-_The_Secret_of_Monkey_Island_-_Forest_by_w3sp.mid\n",
            "> Parse MIDI-File: ./data/vgmidi-0.1/unlabelled/train/Final_Fantasy_7_AheadOnOurWayRemix.mid\n",
            "> Parse MIDI-File: ./data/vgmidi-0.1/unlabelled/train/Faxanadu_Overworld.mid\n",
            "> Parse MIDI-File: ./data/vgmidi-0.1/unlabelled/train/Sonic_the_Hedgehog_-_Special_Stage_by_Gori_Fater.mid\n",
            "> Parse MIDI-File: ./data/vgmidi-0.1/unlabelled/train/Donkey_Kong_Country_3_MillFever.mid\n",
            "> Parse MIDI-File: ./data/vgmidi-0.1/unlabelled/train/Warcraft_II_-_Orc_Theme_1_by_Gori_Fater.mid\n",
            "> Parse MIDI-File: ./data/vgmidi-0.1/unlabelled/train/Breath_of_Fire_Arad.mid\n",
            "> Parse MIDI-File: ./data/vgmidi-0.1/unlabelled/train/Indiana_Jones_and_the_Last_Crusade_-_Venice_by_w3sp.mid\n",
            "> Parse MIDI-File: ./data/vgmidi-0.1/unlabelled/train/Aion_Tower_of_Eternity_MainTheme.mid\n",
            "> Parse MIDI-File: ./data/vgmidi-0.1/unlabelled/train/Phoenix_Wright_Ace_Attorney_InvestigationCornered.mid\n",
            "> Parse MIDI-File: ./data/vgmidi-0.1/unlabelled/train/Ghost_n_Goblins_MainTheme.mid\n",
            "> Parse MIDI-File: ./data/vgmidi-0.1/unlabelled/train/Legend_of_Zelda_Twilight_Princess_-_Trailer_Theme.mid\n",
            "> Parse MIDI-File: ./data/vgmidi-0.1/unlabelled/train/Mission_Impossible_EmbassyFunction.mid\n",
            "> Parse MIDI-File: ./data/vgmidi-0.1/unlabelled/train/Pokemon_Red_Blue_Yellow_Intro_by_ALF.mid\n",
            "> Parse MIDI-File: ./data/vgmidi-0.1/unlabelled/train/Super_Mario_Sunshine_PinnaPark.mid\n",
            "> Parse MIDI-File: ./data/vgmidi-0.1/unlabelled/train/Anno_1602_IrishTouch.mid\n",
            "> Parse MIDI-File: ./data/vgmidi-0.1/unlabelled/train/Sims_Building_Theme_2_-_Bittersweet_by_Pseudo.mid\n",
            "> Parse MIDI-File: ./data/vgmidi-0.1/unlabelled/train/Super_Mario_Bros_MainTheme2.mid\n",
            "> Parse MIDI-File: ./data/vgmidi-0.1/unlabelled/train/Super_Mario_64_Princess_Secret_Slide.mid\n",
            "> Parse MIDI-File: ./data/vgmidi-0.1/unlabelled/train/Super_Mario_Galaxy_StarbitFestival.mid\n",
            "> Parse MIDI-File: ./data/vgmidi-0.1/unlabelled/train/Sonic_the_Hedgehog_2_Metropolis_Zone_by_Shazomei.mid\n",
            "> Parse MIDI-File: ./data/vgmidi-0.1/unlabelled/train/Sonic_the_Hedgehog_-_Boss_by_Gori_Fater.mid\n",
            "> Parse MIDI-File: ./data/vgmidi-0.1/unlabelled/train/Pokemon_Ruby_Sapphire_Surfing.mid\n",
            "> Parse MIDI-File: ./data/vgmidi-0.1/unlabelled/train/Ico_Beginning.mid\n",
            "> Parse MIDI-File: ./data/vgmidi-0.1/unlabelled/train/Battle_of_Olympus_ABraveWarrior.mid\n",
            "> Parse MIDI-File: ./data/vgmidi-0.1/unlabelled/train/Age_of_Empires_II_Main_Theme.mid\n",
            "> Parse MIDI-File: ./data/vgmidi-0.1/unlabelled/train/Legend_Of_Zelda_Links_Awakening_Level7EagleTower.mid\n",
            "> Parse MIDI-File: ./data/vgmidi-0.1/unlabelled/train/Dragon_Warrior_Title_Screen.mid\n",
            "> Parse MIDI-File: ./data/vgmidi-0.1/unlabelled/train/Mega_Man_6_BlizzardMan.mid\n",
            "> Parse MIDI-File: ./data/vgmidi-0.1/unlabelled/train/Castlevania_Symphony_of_the_Night_LostPainting.mid\n",
            "> Parse MIDI-File: ./data/vgmidi-0.1/unlabelled/train/Kirby_64_FinalBattle.mid\n",
            "> Parse MIDI-File: ./data/vgmidi-0.1/unlabelled/train/Mother_Magicant.mid\n",
            "> Parse MIDI-File: ./data/vgmidi-0.1/unlabelled/train/Pokemon_Red_Blue_Yellow_ViridianCity.mid\n",
            "> Parse MIDI-File: ./data/vgmidi-0.1/unlabelled/train/Super_Mario_64_Haunted_Merry_Go_Round.mid\n",
            "> Parse MIDI-File: ./data/vgmidi-0.1/unlabelled/train/Street_Fighter_II_Blanka_Stage.mid\n",
            "> Parse MIDI-File: ./data/vgmidi-0.1/unlabelled/train/Kirby_Super_Star_MineCart.mid\n",
            "> Parse MIDI-File: ./data/vgmidi-0.1/unlabelled/train/Monkey_Island_2_-_LeChucks_Revenge_-_Phatt_Island_Jail_by_w3sp.mid\n",
            "> Parse MIDI-File: ./data/vgmidi-0.1/unlabelled/train/Secret_of_Mana_SpiritoftheNight.mid\n",
            "> Parse MIDI-File: ./data/vgmidi-0.1/unlabelled/train/Kingdom_Hearts_TraverseTown.mid\n",
            "> Parse MIDI-File: ./data/vgmidi-0.1/unlabelled/train/Conkers_Bad_Fur_Day_BatulasTheme.mid\n",
            "> Parse MIDI-File: ./data/vgmidi-0.1/unlabelled/train/Final_Fantasy_9_YoureNotAlone.mid\n",
            "> Parse MIDI-File: ./data/vgmidi-0.1/unlabelled/train/Warioware_Touched_AshleysTheme.mid\n",
            "> Parse MIDI-File: ./data/vgmidi-0.1/unlabelled/train/Circus_Charlie_Theme1.mid\n",
            "> Parse MIDI-File: ./data/vgmidi-0.1/unlabelled/train/Pokemon_Black_White_Bicycle.mid\n",
            "> Parse MIDI-File: ./data/vgmidi-0.1/unlabelled/train/Mario_Kart_64_ChocoMountainwithOutro.mid\n",
            "> Parse MIDI-File: ./data/vgmidi-0.1/unlabelled/train/Kingdom_Hearts_BattleEndoftheWorld.mid\n",
            "> Parse MIDI-File: ./data/vgmidi-0.1/unlabelled/train/Aladdin_-_Rug_Ride_by_Gori_Fater.mid\n",
            "> Parse MIDI-File: ./data/vgmidi-0.1/unlabelled/train/Mega_Man_X5_TitleTheme.mid\n",
            "> Parse MIDI-File: ./data/vgmidi-0.1/unlabelled/train/Final_Fantasy_9_APlacetoCallHome.mid\n",
            "> Parse MIDI-File: ./data/vgmidi-0.1/unlabelled/train/Mega_Man_2_MetalMansStage.mid\n",
            "> Parse MIDI-File: ./data/vgmidi-0.1/unlabelled/train/The_Game_Game_HymntotheHiss.mid\n",
            "> Parse MIDI-File: ./data/vgmidi-0.1/unlabelled/train/Ys_Book_I__II_Feena.mid\n",
            "> Parse MIDI-File: ./data/vgmidi-0.1/unlabelled/train/Legend_of_Mana_APlacewithHeart.mid\n",
            "> Parse MIDI-File: ./data/vgmidi-0.1/unlabelled/train/Final_Fantasy_7_OneWingedAngel.mid\n",
            "> Parse MIDI-File: ./data/vgmidi-0.1/unlabelled/train/Wonderland_TrainingGrounds.mid\n",
            "> Parse MIDI-File: ./data/vgmidi-0.1/unlabelled/train/Sonic_the_Hedgehog_2_Invincibility_Theme_by_Shazomei.mid\n",
            "> Parse MIDI-File: ./data/vgmidi-0.1/unlabelled/train/Sonic_the_Hedgehog_2_Special_Stage_by_Shazomei.mid\n",
            "> Parse MIDI-File: ./data/vgmidi-0.1/unlabelled/train/Super_Monkey_Ball_Banana_Blitz_MonkeyIsland.mid\n",
            "> Parse MIDI-File: ./data/vgmidi-0.1/unlabelled/train/Mother_Podunk.mid\n",
            "> Parse MIDI-File: ./data/vgmidi-0.1/unlabelled/train/Final_Fantasy_3_ForeverRachel.mid\n",
            "> Parse MIDI-File: ./data/vgmidi-0.1/unlabelled/train/Pokemon_Silver_Gold_Crystal_Champion_Battle_by_ALF.mid\n",
            "> Parse MIDI-File: ./data/vgmidi-0.1/unlabelled/train/Legend_of_Mana_MysticCityGeo.mid\n",
            "> Parse MIDI-File: ./data/vgmidi-0.1/unlabelled/train/Sonic_the_Hedgehog_-_Drowning_Timer_by_Gori_Fater.mid\n",
            "> Parse MIDI-File: ./data/vgmidi-0.1/unlabelled/train/Final_Fantasy_3_RelmsTheme.mid\n",
            "> Parse MIDI-File: ./data/vgmidi-0.1/unlabelled/train/Legend_of_Zelda_A_Link_to_the_Past_Kakariko_Village_by_Gori_Fater.mid\n",
            "> Parse MIDI-File: ./data/vgmidi-0.1/unlabelled/train/Legend_of_Mana_MakersGallop.mid\n",
            "> Parse MIDI-File: ./data/vgmidi-0.1/unlabelled/train/Final_Fantasy_5_Japan_Gilgamesh.mid\n",
            "> Parse MIDI-File: ./data/vgmidi-0.1/unlabelled/train/Aion_Tower_of_Eternity_TheStillSadWorld.mid\n",
            "> Parse MIDI-File: ./data/vgmidi-0.1/unlabelled/train/Plants_Vs_Zombies_PlantSelectionScreen.mid\n",
            "> Parse MIDI-File: ./data/vgmidi-0.1/unlabelled/train/Pokemon_Red_Blue_Yellow_Gym.mid\n",
            "> Parse MIDI-File: ./data/vgmidi-0.1/unlabelled/train/Guilty_Gear_XX_TheMidnightCarnival.mid\n",
            "> Parse MIDI-File: ./data/vgmidi-0.1/unlabelled/train/Brigandine_CaeleonAttack.mid\n",
            "> Parse MIDI-File: ./data/vgmidi-0.1/unlabelled/train/Final_Fantasy_2_MainTheme.mid\n",
            "> Parse MIDI-File: ./data/vgmidi-0.1/unlabelled/train/Final_Fantasy_3_Battle.mid\n",
            "> Parse MIDI-File: ./data/vgmidi-0.1/unlabelled/train/Secret_of_Evermore_Ivor_Tower.mid\n",
            "> Parse MIDI-File: ./data/vgmidi-0.1/unlabelled/train/Secret_of_Mana_KindMemories.mid\n",
            "> Parse MIDI-File: ./data/vgmidi-0.1/unlabelled/train/Animal_Crossing_-_City_Folk_-_The_Roost_by_Knightlitespeed.mid\n",
            "> Parse MIDI-File: ./data/vgmidi-0.1/unlabelled/train/Sonic_the_Hedgehog_2_SkyChaseZone.mid\n",
            "> Parse MIDI-File: ./data/vgmidi-0.1/unlabelled/train/Legend_Of_Zelda_A_Link_To_the_Past_DarkWorldOverworld.mid\n",
            "> Parse MIDI-File: ./data/vgmidi-0.1/unlabelled/train/Legend_of_Mana_TheWindSingsOfAJourney.mid\n",
            "> Parse MIDI-File: ./data/vgmidi-0.1/unlabelled/train/Mega_Man_2_BubbleMansStage.mid\n",
            "> Parse MIDI-File: ./data/vgmidi-0.1/unlabelled/train/Final_Fantasy_3_TheFierceBattle.mid\n",
            "> Parse MIDI-File: ./data/vgmidi-0.1/unlabelled/train/Street_Fighter_II_Balrog_Stage.mid\n",
            "> Parse MIDI-File: ./data/vgmidi-0.1/unlabelled/train/Secret_of_Mana_Danger.mid\n",
            "> Parse MIDI-File: ./data/vgmidi-0.1/unlabelled/train/Sonic_the_Hedgehog_-_Chaos_Emerald_by_Gori_Fater.mid\n",
            "> Parse MIDI-File: ./data/vgmidi-0.1/unlabelled/train/Tales_of_Symphonia_FloatingintheAir.mid\n",
            "> Parse MIDI-File: ./data/vgmidi-0.1/unlabelled/train/Mega_Man_7_ShadeManRemix.mid\n",
            "> Parse MIDI-File: ./data/vgmidi-0.1/unlabelled/train/Atelier_Iris_Eternal_Mana_EternalManaThemeWhiteNightImagination.mid\n",
            "> Parse MIDI-File: ./data/vgmidi-0.1/unlabelled/train/Metal_Gear_Solid_GameOver.mid\n",
            "> Parse MIDI-File: ./data/vgmidi-0.1/unlabelled/train/Donkey_Kong_Title.mid\n",
            "> Parse MIDI-File: ./data/vgmidi-0.1/unlabelled/train/Xenoblad_Chronicles_Japan_Europe_BeyondtheSky.mid\n",
            "> Parse MIDI-File: ./data/vgmidi-0.1/unlabelled/train/Pokemon_Gold_Silver_Route1.mid\n",
            "> Parse MIDI-File: ./data/vgmidi-0.1/unlabelled/train/BanjoTooie_HereComesTrouble.mid\n",
            "> Parse MIDI-File: ./data/vgmidi-0.1/unlabelled/train/Final_Fantasy_Crystal_Chronicles_LeavingtheBodyFreely.mid\n",
            "> Parse MIDI-File: ./data/vgmidi-0.1/unlabelled/train/Metal_Gear_Solid_2_Sons_of_Liberty_MainTheme.mid\n",
            "> Parse MIDI-File: ./data/vgmidi-0.1/unlabelled/train/Legend_Of_Zelda_The_Twilight_Princess_OrdonVillage.mid\n",
            "> Parse MIDI-File: ./data/vgmidi-0.1/unlabelled/train/Sims_TheNeighbourhood.mid\n",
            "> Parse MIDI-File: ./data/vgmidi-0.1/unlabelled/train/Yoshis_Island_TouchFuzzyGetDizzy.mid\n",
            "> Parse MIDI-File: ./data/vgmidi-0.1/unlabelled/train/Heroes_of_Might_and_Magic_3_MainMenu.mid\n",
            "> Parse MIDI-File: ./data/vgmidi-0.1/unlabelled/train/Sims_Building_Theme_4_by_Pseudo.mid\n",
            "> Parse MIDI-File: ./data/vgmidi-0.1/unlabelled/train/Mystical_Ninja_Starring_Goemon_ChugokuRegion.mid\n",
            "> Parse MIDI-File: ./data/vgmidi-0.1/unlabelled/train/Donkey_Kong_Land_FileSelect.mid\n",
            "> Parse MIDI-File: ./data/vgmidi-0.1/unlabelled/train/Super_Mario_Bros_2_Overworld.mid\n",
            "> Parse MIDI-File: ./data/vgmidi-0.1/unlabelled/train/Pokemon_Trading_Card_Game_NormalDuel.mid\n",
            "> Parse MIDI-File: ./data/vgmidi-0.1/unlabelled/train/Legend_of_Zelda_Oracle_of_Seasons_DinsDance.mid\n",
            "> Parse MIDI-File: ./data/vgmidi-0.1/unlabelled/train/Monkey_Island_1_-_The_Secret_of_Monkey_Island_-_Cave_by_w3sp.mid\n",
            "> Parse MIDI-File: ./data/vgmidi-0.1/unlabelled/train/Monkey_Island_2_-_LeChucks_Revenge_-_Swamp_by_w3sp.mid\n",
            "> Parse MIDI-File: ./data/vgmidi-0.1/unlabelled/train/Halo_3_FinishtheFight.mid\n",
            "> Parse MIDI-File: ./data/vgmidi-0.1/unlabelled/train/Legend_of_Zelda_The_The_Wind_Waker_CommandMelody.mid\n",
            "> Parse MIDI-File: ./data/vgmidi-0.1/unlabelled/train/Metroid_EndingFDSversion.mid\n",
            "> Parse MIDI-File: ./data/vgmidi-0.1/unlabelled/train/Super_Mario_Sunshine_BiancoHills.mid\n",
            "> Parse MIDI-File: ./data/vgmidi-0.1/unlabelled/train/Super_Smash_Bros_Brawl_KidIcarusUnderworld.mid\n",
            "> Parse MIDI-File: ./data/vgmidi-0.1/unlabelled/train/Sonic_the_Hedgehog_-_Act_Finish_by_Gori_Fater.mid\n",
            "> Parse MIDI-File: ./data/vgmidi-0.1/unlabelled/train/Metal_Gear_OuterHeaven1FThemeOfTara.mid\n",
            "> Parse MIDI-File: ./data/vgmidi-0.1/unlabelled/train/Final_Fantasy_9_QusMarsh.mid\n",
            "> Parse MIDI-File: ./data/vgmidi-0.1/unlabelled/train/Terranigma_Creation.mid\n",
            "> Parse MIDI-File: ./data/vgmidi-0.1/unlabelled/train/Battle_of_Olympus_AtheneSonata.mid\n",
            "> Parse MIDI-File: ./data/vgmidi-0.1/unlabelled/train/Mega_Man_X_Boss_Select.mid\n",
            "> Parse MIDI-File: ./data/vgmidi-0.1/unlabelled/train/Donkey_Kong_Country_Gang_Plank_Galleon.mid\n",
            "> Parse MIDI-File: ./data/vgmidi-0.1/unlabelled/train/Super_Mario_Bros_3_Boss.mid\n",
            "> Parse MIDI-File: ./data/vgmidi-0.1/unlabelled/train/Final_Fantasy_2_BattleMedley.mid\n",
            "> Parse MIDI-File: ./data/vgmidi-0.1/unlabelled/train/Super_Monkey_Ball_Banana_Blitz_JumbleJungle.mid\n",
            "> Parse MIDI-File: ./data/vgmidi-0.1/unlabelled/train/Mega_Man_2_HeatMansStage.mid\n",
            "> Parse MIDI-File: ./data/vgmidi-0.1/unlabelled/train/Secret_of_Mana_TheHolyIntruder.mid\n",
            "> Parse MIDI-File: ./data/vgmidi-0.1/unlabelled/train/Street_Fighter_II_Title_Screen.mid\n",
            "> Parse MIDI-File: ./data/vgmidi-0.1/unlabelled/train/Dragon_Warrior_Overworld_Theme.mid\n",
            "> Parse MIDI-File: ./data/vgmidi-0.1/unlabelled/train/Final_Fantasy_9_OpeningTheme.mid\n",
            "> Parse MIDI-File: ./data/vgmidi-0.1/unlabelled/train/Suikoden_II_RokkakuHamlet.mid\n",
            "> Parse MIDI-File: ./data/vgmidi-0.1/unlabelled/train/Aion_Tower_of_Eternity_FairyofthePeace.mid\n",
            "> Parse MIDI-File: ./data/vgmidi-0.1/unlabelled/train/Super_Mario_Land_World1.mid\n",
            "> Parse MIDI-File: ./data/vgmidi-0.1/unlabelled/train/Sonic_the_Hedgehog_2_Credits_Roll_by_Shazomei.mid\n",
            "> Parse MIDI-File: ./data/vgmidi-0.1/unlabelled/train/Yoshis_Story_TreasureHuntYoshisSong17secondRemix.mid\n",
            "> Parse MIDI-File: ./data/vgmidi-0.1/unlabelled/train/Secret_of_Mana_AWish.mid\n",
            "> Parse MIDI-File: ./data/vgmidi-0.1/unlabelled/train/Xenogears_TearsoftheStarsHeartsofthePeople.mid\n",
            "> Parse MIDI-File: ./data/vgmidi-0.1/unlabelled/train/Terranigma_Europe.mid\n",
            "> Parse MIDI-File: ./data/vgmidi-0.1/unlabelled/train/Sonic_the_Hedgehog_3_LaunchBaseZoneAct1.mid\n",
            "> Parse MIDI-File: ./data/vgmidi-0.1/unlabelled/train/Mario_Kart_Ghost_Valley.mid\n",
            "> Parse MIDI-File: ./data/vgmidi-0.1/unlabelled/train/Final_Fantasy_8_FithosLusecWecosVinosec.mid\n",
            "> Parse MIDI-File: ./data/vgmidi-0.1/unlabelled/train/Pokemon_Red_Blue_Yellow_Champion_Battle_by_ALF.mid\n",
            "> Parse MIDI-File: ./data/vgmidi-0.1/unlabelled/train/Legend_of_Zelda_A_Link_to_the_Past_-_Victory_by_Gori_Fater.mid\n",
            "> Parse MIDI-File: ./data/vgmidi-0.1/unlabelled/train/Legend_of_Zelda_Ocarina_of_Time_Hyrule_Castle_Courtyard_by_BlueSCD.mid\n",
            "> Parse MIDI-File: ./data/vgmidi-0.1/unlabelled/train/Legend_Of_Zelda_The_The_Wind_Waker_FarewellHyruleKing.mid\n",
            "> Parse MIDI-File: ./data/vgmidi-0.1/unlabelled/train/Star_Wars_Cantina.mid\n",
            "> Parse MIDI-File: ./data/vgmidi-0.1/unlabelled/train/Legend_Of_Zelda_Labyrinth.mid\n",
            "> Parse MIDI-File: ./data/vgmidi-0.1/unlabelled/train/Sonic_the_Hedgehog_-_Continue_by_Gori_Fater.mid\n",
            "> Parse MIDI-File: ./data/vgmidi-0.1/unlabelled/train/Pokemon_Trading_Card_Game_EliteBattle.mid\n",
            "> Parse MIDI-File: ./data/vgmidi-0.1/unlabelled/train/Shenmue_II_YouCouldHaveKnocked.mid\n",
            "> Parse MIDI-File: ./data/vgmidi-0.1/unlabelled/train/Athena_WorldofCavern.mid\n",
            "> Parse MIDI-File: ./data/vgmidi-0.1/unlabelled/train/Kingdom_Hearts_3582_Days_XionsTheme.mid\n",
            "> Parse MIDI-File: ./data/vgmidi-0.1/unlabelled/train/Street_Fighter_II_Ryu_Stage.mid\n",
            "> Parse MIDI-File: ./data/vgmidi-0.1/unlabelled/train/hackMutation_Loop2Vol2.mid\n",
            "> Parse MIDI-File: ./data/vgmidi-0.1/unlabelled/train/Street_Fighter_II_Zangief_Stage.mid\n",
            "> Parse MIDI-File: ./data/vgmidi-0.1/unlabelled/train/Super_Mario_64_Cool_Cool_Mountain.mid\n",
            "> Parse MIDI-File: ./data/vgmidi-0.1/unlabelled/train/Rise_of_Nations_BattleatWitchCreek.mid\n",
            "> Parse MIDI-File: ./data/vgmidi-0.1/unlabelled/train/Legend_of_Mana_DiddlesOrgan.mid\n",
            "> Parse MIDI-File: ./data/vgmidi-0.1/unlabelled/train/Sonic_the_Hedgehog_2_Results_Screen_by_Shazomei.mid\n",
            "> Parse MIDI-File: ./data/vgmidi-0.1/unlabelled/train/Final_Fantasy_3_OperaHouseGrandFinale.mid\n",
            "> Parse MIDI-File: ./data/vgmidi-0.1/unlabelled/train/Sims_Buying_Theme_1_by_Gori_Fater.mid\n",
            "> Parse MIDI-File: ./data/vgmidi-0.1/unlabelled/train/Sonic_the_Hedgehog_3_BalloonParkCompetitionCourse.mid\n",
            "> Parse MIDI-File: ./data/vgmidi-0.1/unlabelled/train/Tomb_Raider_SweetDreams.mid\n",
            "> Parse MIDI-File: ./data/vgmidi-0.1/unlabelled/train/Legend_Of_Zelda_The_Twilight_Princess_FairyQuestLog.mid\n",
            "> Parse MIDI-File: ./data/vgmidi-0.1/unlabelled/train/Super_Mario_64_DireDireDocks.mid\n",
            "> Parse MIDI-File: ./data/vgmidi-0.1/unlabelled/train/Sonic_the_Hedgehog_2_MysticCaveZoneTwoplayer.mid\n",
            "> Parse MIDI-File: ./data/vgmidi-0.1/unlabelled/train/Donkey_Kong_Country_Bonus_Stage.mid\n",
            "> Parse MIDI-File: ./data/vgmidi-0.1/unlabelled/train/Animal_Crossing_SaveScreen.mid\n",
            "> Parse MIDI-File: ./data/vgmidi-0.1/unlabelled/train/Ys_Book_I__II_FirstStepTowardsWars.mid\n",
            "> Parse MIDI-File: ./data/vgmidi-0.1/unlabelled/train/Final_Fantasy_9_SkiesOverAlexandra.mid\n",
            "> Parse MIDI-File: ./data/vgmidi-0.1/unlabelled/train/Mario_Kart_Double_Dash_MenuTheme.mid\n",
            "> Parse MIDI-File: ./data/vgmidi-0.1/unlabelled/train/Mega_Man_2_QuickMansStage.mid\n",
            "> Parse MIDI-File: ./data/vgmidi-0.1/unlabelled/train/BanjoTooie_ChillyWillyChilliBilli.mid\n",
            "> Parse MIDI-File: ./data/vgmidi-0.1/unlabelled/train/Legend_Of_Zelda_The_The_Wind_Waker_FencingInstruction.mid\n",
            "> Parse MIDI-File: ./data/vgmidi-0.1/unlabelled/train/Harvest_Moon_Back_to_Nature_Spring.mid\n",
            "> Parse MIDI-File: ./data/vgmidi-0.1/unlabelled/train/Monkey_Island_2_-_LeChucks_Revenge_-_Jojo_the_Monkey_by_w3sp.mid\n",
            "> Parse MIDI-File: ./data/vgmidi-0.1/unlabelled/train/Legend_of_Zelda_A_Link_to_the_Past_Mini_Game_by_Gori_Fater.mid\n",
            "> Parse MIDI-File: ./data/vgmidi-0.1/unlabelled/train/Final_Fantasy_2_Prologue.mid\n",
            "> Parse MIDI-File: ./data/vgmidi-0.1/unlabelled/train/Suikoden_II_ChildrenPlayingintheField.mid\n",
            "> Parse MIDI-File: ./data/vgmidi-0.1/unlabelled/train/Sonic_the_Hedgehog_-_Ending_by_Gori_Fater.mid\n",
            "> Parse MIDI-File: ./data/vgmidi-0.1/unlabelled/train/Prince_of_Persia_-_Main_Theme_and_Sound_Effects_by_w3sp.mid\n",
            "> Parse MIDI-File: ./data/vgmidi-0.1/unlabelled/train/Wario_Land_2_BossBasketballGame.mid\n",
            "> Parse MIDI-File: ./data/vgmidi-0.1/unlabelled/train/Legend_Of_Zelda_A_Link_To_the_Past_LightWorldOverworld.mid\n",
            "> Parse MIDI-File: ./data/vgmidi-0.1/unlabelled/train/Kingdom_Hearts_Chain_of_Memories_SimpleandClean.mid\n",
            "> Parse MIDI-File: ./data/vgmidi-0.1/unlabelled/train/Sonic_the_Hedgehog_2_Options_by_Shazomei.mid\n",
            "> Parse MIDI-File: ./data/vgmidi-0.1/unlabelled/train/Halo_Wars_SpiritofFire.mid\n",
            "> Parse MIDI-File: ./data/vgmidi-0.1/unlabelled/train/Legend_Of_Zelda_The_The_Wind_Waker_IntroductionStory.mid\n",
            "> Parse MIDI-File: ./data/vgmidi-0.1/unlabelled/train/Xenogears_TwoPieces.mid\n",
            "> Parse MIDI-File: ./data/vgmidi-0.1/unlabelled/train/Donkey_Kong_LevelOne.mid\n",
            "> Parse MIDI-File: ./data/vgmidi-0.1/unlabelled/train/Kirby_Super_Star_GreenGreens.mid\n",
            "> Parse MIDI-File: ./data/vgmidi-0.1/unlabelled/train/Sonic_the_Hedgehog_3_FinalBossDuet.mid\n",
            "> Parse MIDI-File: ./data/vgmidi-0.1/unlabelled/train/Aion_Tower_of_Eternity_WingsoftheKnight.mid\n",
            "> Parse MIDI-File: ./data/vgmidi-0.1/unlabelled/train/Might_and_Magic_Heroes_VI_GhostsofthePast.mid\n",
            "> Parse MIDI-File: ./data/vgmidi-0.1/unlabelled/train/Legend_of_Mana_SouthernCityPolporta.mid\n",
            "> Parse MIDI-File: ./data/vgmidi-0.1/unlabelled/train/Final_Fantasy_3_Shadow.mid\n",
            "> Parse MIDI-File: ./data/vgmidi-0.1/unlabelled/train/Final_Fantasy_MatoyasCave.mid\n",
            "> Parse MIDI-File: ./data/vgmidi-0.1/unlabelled/train/Sonic_3D_Blast_DiamondDustZoneAct2.mid\n",
            "> Parse MIDI-File: ./data/vgmidi-0.1/unlabelled/train/Halo_MainThemeExtendedMawVersion.mid\n",
            "> Parse MIDI-File: ./data/vgmidi-0.1/unlabelled/train/Donkey_Kong_Country_2_KrooksMarch.mid\n",
            "> Parse MIDI-File: ./data/vgmidi-0.1/unlabelled/train/SimCity_Budget.mid\n",
            "> Parse MIDI-File: ./data/vgmidi-0.1/unlabelled/train/Sonic_the_Hedgehog_2_ChemicalPlantZone.mid\n",
            "> Parse MIDI-File: ./data/vgmidi-0.1/unlabelled/train/Kirby_Super_Star_SaveArea.mid\n",
            "> Parse MIDI-File: ./data/vgmidi-0.1/unlabelled/train/Flintstones_The_BasketballGame.mid\n",
            "> Parse MIDI-File: ./data/vgmidi-0.1/unlabelled/train/BanjoTooie_IsleOHagsCauldronKeep.mid\n",
            "> Parse MIDI-File: ./data/vgmidi-0.1/unlabelled/train/Final_Fantasy_9_BlackWaltz.mid\n",
            "> Parse MIDI-File: ./data/vgmidi-0.1/unlabelled/train/Cuphead_RuggedRidge.mid\n",
            "> Parse MIDI-File: ./data/vgmidi-0.1/unlabelled/train/Wheel_of_Fortune_GameThemeChangingKeys.mid\n",
            "> Parse MIDI-File: ./data/vgmidi-0.1/unlabelled/train/Street_Fighter_II_Guile_Stage.mid\n",
            "> Parse MIDI-File: ./data/vgmidi-0.1/unlabelled/train/Seiken_Densetsu_3_Japan_DecisionBell.mid\n",
            "> Parse MIDI-File: ./data/vgmidi-0.1/unlabelled/train/Pokemon_Gold_Silver_Route42.mid\n",
            "> Parse MIDI-File: ./data/vgmidi-0.1/unlabelled/train/Super_Mario_64_Final_Bowser.mid\n",
            "> Parse MIDI-File: ./data/vgmidi-0.1/unlabelled/train/Street_Fighter_II_Chun_Li_Stage.mid\n",
            "> Parse MIDI-File: ./data/vgmidi-0.1/unlabelled/train/Mystical_Ninja_Starring_Goemon_FestivalTempleCastle.mid\n",
            "> Parse MIDI-File: ./data/vgmidi-0.1/unlabelled/train/Adventures_of_Dino_Riki_Level1.mid\n",
            "> Parse MIDI-File: ./data/vgmidi-0.1/unlabelled/test/Tetris_EnterYourName.mid\n",
            "> Parse MIDI-File: ./data/vgmidi-0.1/unlabelled/test/Super_Mario_World_Overworld.mid\n",
            "> Parse MIDI-File: ./data/vgmidi-0.1/unlabelled/test/Legend_Of_Zelda_The_Ocarina_Of_Time_PreludeofLight.mid\n",
            "> Parse MIDI-File: ./data/vgmidi-0.1/unlabelled/test/Legend_Of_Zelda_The_Ocarina_Of_Time_GerudoValley.mid\n",
            "> Parse MIDI-File: ./data/vgmidi-0.1/unlabelled/test/Shadow_of_the_Colossus_TheFarthestLand.mid\n",
            "> Parse MIDI-File: ./data/vgmidi-0.1/unlabelled/test/Legend_Of_Zelda_The_Majoras_Mask_DekuPalace.mid\n",
            "> Parse MIDI-File: ./data/vgmidi-0.1/unlabelled/test/BanjoKazooie_FreezeezyPeak.mid\n",
            "> Parse MIDI-File: ./data/vgmidi-0.1/unlabelled/test/Goldeneye_FacilityX.mid\n",
            "> Parse MIDI-File: ./data/vgmidi-0.1/unlabelled/test/Final_Fantasy_7_GreatWarrior.mid\n",
            "> Parse MIDI-File: ./data/vgmidi-0.1/unlabelled/test/Final_Fantasy_7_CostaDelSol.mid\n",
            "> Parse MIDI-File: ./data/vgmidi-0.1/unlabelled/test/Goldeneye_Frigate.mid\n",
            "> Parse MIDI-File: ./data/vgmidi-0.1/unlabelled/test/Final_Fantasy_7_MiningTown.mid\n",
            "> Parse MIDI-File: ./data/vgmidi-0.1/unlabelled/test/Goldeneye_Dam.mid\n",
            "> Parse MIDI-File: ./data/vgmidi-0.1/unlabelled/test/Final_Fantasy_7_OppressedPeople.mid\n",
            "> Parse MIDI-File: ./data/vgmidi-0.1/unlabelled/test/Final_Fantasy_7_FortressoftheCondor.mid\n",
            "> Parse MIDI-File: ./data/vgmidi-0.1/unlabelled/test/Final_Fantasy_7_TrailofBlood.mid\n",
            "> Parse MIDI-File: ./data/vgmidi-0.1/unlabelled/test/Final_Fantasy_7_JudgementDay.mid\n",
            "> Parse MIDI-File: ./data/vgmidi-0.1/unlabelled/test/Donkey_Kong_Country_2_BayouBoogie.mid\n",
            "> Parse MIDI-File: ./data/vgmidi-0.1/unlabelled/test/BanjoKazooie_BoggysIglooSad.mid\n",
            "> Parse MIDI-File: ./data/vgmidi-0.1/unlabelled/test/Super_Mario_World_TitleScreen.mid\n",
            "> Parse MIDI-File: ./data/vgmidi-0.1/unlabelled/test/Donkey_Kong_Country_2_HotHeadBop.mid\n",
            "> Parse MIDI-File: ./data/vgmidi-0.1/unlabelled/test/BanjoKazooie_MumbosMountain.mid\n",
            "> Parse MIDI-File: ./data/vgmidi-0.1/unlabelled/test/Final_Fantasy_7_TheNightmareBegins.mid\n",
            "> Parse MIDI-File: ./data/vgmidi-0.1/unlabelled/test/Final_Fantasy_7_SandyBadlands.mid\n",
            "> Parse MIDI-File: ./data/vgmidi-0.1/unlabelled/test/Final_Fantasy_7_CincodeChocobo.mid\n",
            "> Parse MIDI-File: ./data/vgmidi-0.1/unlabelled/test/Final_Fantasy_7_Overworld.mid\n",
            "> Parse MIDI-File: ./data/vgmidi-0.1/unlabelled/test/Shadow_of_the_Colossus_Memories.mid\n",
            "> Parse MIDI-File: ./data/vgmidi-0.1/unlabelled/test/Final_Fantasy_7_VincentsTheme.mid\n",
            "> Parse MIDI-File: ./data/vgmidi-0.1/unlabelled/test/Final_Fantasy_7_WaltzdeChocobo.mid\n",
            "> Parse MIDI-File: ./data/vgmidi-0.1/unlabelled/test/Goldeneye_Caverns.mid\n",
            "> Parse MIDI-File: ./data/vgmidi-0.1/unlabelled/test/Legend_Of_Zelda_The_Majoras_Mask_AlienInvasion.mid\n",
            "> Parse MIDI-File: ./data/vgmidi-0.1/unlabelled/test/Final_Fantasy_7_DescendentofShinobi.mid\n",
            "> Parse MIDI-File: ./data/vgmidi-0.1/unlabelled/test/Legend_Of_Zelda_The_Ocarina_Of_Time_OwlsTheme.mid\n",
            "> Parse MIDI-File: ./data/vgmidi-0.1/unlabelled/test/Final_Fantasy_7_Tifa.mid\n",
            "> Parse MIDI-File: ./data/vgmidi-0.1/unlabelled/test/Shadow_of_the_Colossus_Prayer.mid\n",
            "> Parse MIDI-File: ./data/vgmidi-0.1/unlabelled/test/Legend_Of_Zelda_The_Ocarina_Of_Time_InsideJabuJabusBelly.mid\n",
            "> Parse MIDI-File: ./data/vgmidi-0.1/unlabelled/test/Goldeneye_FinishthejobJamesIfyoucan.mid\n",
            "> Parse MIDI-File: ./data/vgmidi-0.1/unlabelled/test/Final_Fantasy_7_GoldSaucer.mid\n",
            "> Parse MIDI-File: ./data/vgmidi-0.1/unlabelled/test/Shadow_of_the_Colossus_TheTaleofthe16Sacrifices.mid\n",
            "> Parse MIDI-File: ./data/vgmidi-0.1/unlabelled/test/Final_Fantasy_7_RufussWelcomingCeremony.mid\n",
            "> Parse MIDI-File: ./data/vgmidi-0.1/unlabelled/test/Legend_Of_Zelda_The_Majoras_Mask_ClockTown.mid\n",
            "> Parse MIDI-File: ./data/vgmidi-0.1/unlabelled/test/Super_Mario_World_EndingTheme.mid\n",
            "> Parse MIDI-File: ./data/vgmidi-0.1/unlabelled/test/Legend_Of_Zelda_The_Ocarina_Of_Time_WindmillHut.mid\n",
            "> Parse MIDI-File: ./data/vgmidi-0.1/unlabelled/test/BanjoKazooie_Motzhand.mid\n",
            "> Parse MIDI-File: ./data/vgmidi-0.1/unlabelled/test/Goldeneye_Runway.mid\n",
            "> Parse MIDI-File: ./data/vgmidi-0.1/unlabelled/test/Final_Fantasy_7_AHighwindtakestotheSkies.mid\n",
            "> Parse MIDI-File: ./data/vgmidi-0.1/unlabelled/test/Final_Fantasy_7_LifeStream.mid\n",
            "> Parse MIDI-File: ./data/vgmidi-0.1/unlabelled/test/Legend_Of_Zelda_The_Majoras_Mask_TheMayorsOffice.mid\n",
            "> Parse MIDI-File: ./data/vgmidi-0.1/unlabelled/test/Tetris_MusicA.mid\n",
            "> Parse MIDI-File: ./data/vgmidi-0.1/unlabelled/test/Legend_Of_Zelda_The_Ocarina_Of_Time_HyruleCastleTown.mid\n",
            "> Parse MIDI-File: ./data/vgmidi-0.1/unlabelled/test/BanjoKazooie_BubblegloopSwamp.mid\n",
            "> Parse MIDI-File: ./data/vgmidi-0.1/unlabelled/test/Legend_Of_Zelda_The_Ocarina_Of_Time_LostWoods.mid\n",
            "> Parse MIDI-File: ./data/vgmidi-0.1/unlabelled/test/Donkey_Kong_Country_2_SnakeyChantey.mid\n",
            "> Parse MIDI-File: ./data/vgmidi-0.1/unlabelled/test/Super_Mario_World_ForestofIllusion.mid\n",
            "> Parse MIDI-File: ./data/vgmidi-0.1/unlabelled/test/Goldeneye_Statue.mid\n",
            "> Parse MIDI-File: ./data/vgmidi-0.1/unlabelled/test/Final_Fantasy_7_AerithsTheme.mid\n",
            "> Parse MIDI-File: ./data/vgmidi-0.1/unlabelled/test/Super_Mario_Bros_MainTheme.mid\n",
            "> Parse MIDI-File: ./data/vgmidi-0.1/unlabelled/test/Final_Fantasy_7_JenovaAbsolute.mid\n",
            "> Parse MIDI-File: ./data/vgmidi-0.1/unlabelled/test/Legend_Of_Zelda_The_Ocarina_Of_Time_SariasSong.mid\n",
            "> Parse MIDI-File: ./data/vgmidi-0.1/unlabelled/test/BanjoKazooie_BoggysIglooHappy.mid\n",
            "> Parse MIDI-File: ./data/vgmidi-0.1/unlabelled/test/Final_Fantasy_7_WhoAreYou.mid\n",
            "> Parse MIDI-File: ./data/vgmidi-0.1/unlabelled/test/Final_Fantasy_7_Continue.mid\n",
            "> Parse MIDI-File: ./data/vgmidi-0.1/unlabelled/test/Donkey_Kong_Country_2_JibJig.mid\n",
            "> Parse MIDI-File: ./data/vgmidi-0.1/unlabelled/test/Final_Fantasy_7_OnThatDay5YearsAgo.mid\n",
            "> Parse MIDI-File: ./data/vgmidi-0.1/unlabelled/test/Legend_Of_Zelda_The_Majoras_Mask_StoneTowerTempleInverted.mid\n",
            "> Parse MIDI-File: ./data/vgmidi-0.1/unlabelled/test/Final_Fantasy_7_AnxiousHeart.mid\n",
            "> Parse MIDI-File: ./data/vgmidi-0.1/unlabelled/test/Legend_Of_Zelda_The_Majoras_Mask_ChaseTheme.mid\n",
            "> Parse MIDI-File: ./data/vgmidi-0.1/unlabelled/test/Final_Fantasy_7_BattleTheme.mid\n",
            "> Parse MIDI-File: ./data/vgmidi-0.1/unlabelled/test/Legend_Of_Zelda_The_Ocarina_Of_Time_Introduction.mid\n",
            "> Parse MIDI-File: ./data/vgmidi-0.1/unlabelled/test/Legend_Of_Zelda_The_Ocarina_of_Time_TempleofTime.mid\n",
            "> Parse MIDI-File: ./data/vgmidi-0.1/unlabelled/test/Final_Fantasy_7_ChasingTheBlackCapedMan.mid\n",
            "> Parse MIDI-File: ./data/vgmidi-0.1/unlabelled/test/Legend_Of_Zelda_The_Majoras_Mask_StoneTempleTower.mid\n",
            "> Parse MIDI-File: ./data/vgmidi-0.1/unlabelled/test/Legend_Of_Zelda_The_Ocarina_Of_Time_KokiriForest.mid\n",
            "> Parse MIDI-File: ./data/vgmidi-0.1/unlabelled/test/Super_Mario_Bros_Underwater.mid\n",
            "> Parse MIDI-File: ./data/vgmidi-0.1/unlabelled/test/BanjoKazooie_ClickClockWood.mid\n",
            "> Parse MIDI-File: ./data/vgmidi-0.1/unlabelled/test/Super_Mario_64_KoopasTheme.mid\n",
            "> Parse MIDI-File: ./data/vgmidi-0.1/unlabelled/test/Final_Fantasy_7_ItsDifficultToStandOnBothFeetIsntIt.mid\n",
            "> Parse MIDI-File: ./data/vgmidi-0.1/unlabelled/test/BanjoKazooie_GobisValley.mid\n",
            "> Parse MIDI-File: ./data/vgmidi-0.1/unlabelled/test/Final_Fantasy_7_WeaponRaid.mid\n",
            "> Parse MIDI-File: ./data/vgmidi-0.1/unlabelled/test/Super_Mario_Bros_Underworld.mid\n",
            "> Parse MIDI-File: ./data/vgmidi-0.1/unlabelled/test/Super_Mario_World_Overworld2.mid\n",
            "> Parse MIDI-File: ./data/vgmidi-0.1/unlabelled/test/Legend_Of_Zelda_The_Ocarina_Of_Time_Ganondorf.mid\n",
            "> Parse MIDI-File: ./data/vgmidi-0.1/unlabelled/test/Final_Fantasy_7_MarkoftheTraitor.mid\n",
            "> Parse MIDI-File: ./data/vgmidi-0.1/unlabelled/test/BanjoKazooie_Ending.mid\n",
            "> Parse MIDI-File: ./data/vgmidi-0.1/unlabelled/test/Legend_Of_Zelda_The_Ocarina_Of_Time_GoronCity.mid\n",
            "> Parse MIDI-File: ./data/vgmidi-0.1/unlabelled/test/Goldeneye_RunwayX.mid\n",
            "> Parse MIDI-File: ./data/vgmidi-0.1/unlabelled/test/Legend_Of_Zelda_The_Majoras_Mask_CremiasWagonRide.mid\n",
            "> Parse MIDI-File: ./data/vgmidi-0.1/unlabelled/test/Super_Mario_64_SelectaFile.mid\n",
            "> Parse MIDI-File: ./data/vgmidi-0.1/unlabelled/test/Shadow_of_the_Colossus_TheOpenedWay.mid\n",
            "> Parse MIDI-File: ./data/vgmidi-0.1/unlabelled/test/Super_Mario_World_Map.mid\n",
            "> Parse MIDI-File: ./data/vgmidi-0.1/unlabelled/test/Final_Fantasy_7_ThoseChosenBythePlanet.mid\n",
            "> Parse MIDI-File: ./data/vgmidi-0.1/unlabelled/test/Final_Fantasy_7_LurkingInTheDarkness.mid\n",
            "> Parse MIDI-File: ./data/vgmidi-0.1/unlabelled/test/Final_Fantasy_7_ElectricdeChocobo.mid\n",
            "> Parse MIDI-File: ./data/vgmidi-0.1/unlabelled/test/Final_Fantasy_7_CidsTheme.mid\n",
            "> Parse MIDI-File: ./data/vgmidi-0.1/unlabelled/test/Final_Fantasy_7_HoldingMyThoughtsinMyHeart.mid\n",
            "> Parse MIDI-File: ./data/vgmidi-0.1/unlabelled/test/Final_Fantasy_7_MainTheme.mid\n",
            "> Parse MIDI-File: ./data/vgmidi-0.1/unlabelled/test/Super_Mario_World_Castle.mid\n",
            "> Parse MIDI-File: ./data/vgmidi-0.1/unlabelled/test/Legend_Of_Zelda_The_Majoras_Mask_SongOfHealing.mid\n",
            "> Parse MIDI-File: ./data/vgmidi-0.1/unlabelled/test/BanjoKazooie_MadMonsterMansion.mid\n"
          ],
          "name": "stdout"
        }
      ]
    },
    {
      "cell_type": "code",
      "metadata": {
        "id": "3LNPd3_nX6wn"
      },
      "source": [
        "# Dictionary zum Konvertiern von Chars zu Integers\n",
        "char_to_index, vocab_size = build_char_to_index(train_vocab, test_vocab)"
      ],
      "execution_count": null,
      "outputs": []
    },
    {
      "cell_type": "code",
      "metadata": {
        "id": "fJt2aTs5X6wp"
      },
      "source": [
        "# Konstanten definieren\n",
        "SEQ_LEN = 256\n",
        "BATCH_SIZE = 64"
      ],
      "execution_count": null,
      "outputs": []
    },
    {
      "cell_type": "code",
      "metadata": {
        "id": "S7onc5O3X6wq"
      },
      "source": [
        "# Erstelle Datensatz von den codierten ungelabelten Midi-Dateien\n",
        "train_dataset = build_dataset(train_text, char_to_index, SEQ_LEN, BATCH_SIZE)\n",
        "test_dataset = build_dataset(test_text, char_to_index, SEQ_LEN, BATCH_SIZE)"
      ],
      "execution_count": null,
      "outputs": []
    },
    {
      "cell_type": "markdown",
      "metadata": {
        "id": "WUTOjCrKX6wr"
      },
      "source": [
        "## Erstellen des Neuronalen Netzwerks"
      ]
    },
    {
      "cell_type": "code",
      "metadata": {
        "id": "UVoqJKhNX6wr"
      },
      "source": [
        "# Konstanten des Models\n",
        "\n",
        "#https://machinelearningmastery.com/use-word-embedding-layers-deep-learning-keras/\n",
        "EMB_DIM = 256\n",
        "\n",
        "# Anzahl der LSTM-Layer\n",
        "N_LSTM_LAYERS = 4\n",
        "\n",
        "# Anzahl der Units in einem LSTM-Layer\n",
        "N_UNTIS = 512\n",
        "\n",
        "# Vocab_size wird beim Erstellen der Codierung zurückgegeben\n",
        "VOCAB_SIZE = vocab_size\n",
        "\n",
        "DROPOUT = 0.05"
      ],
      "execution_count": null,
      "outputs": []
    },
    {
      "cell_type": "markdown",
      "metadata": {
        "id": "PqZwKmz8X6wt"
      },
      "source": [
        "### Architektur des Models"
      ]
    },
    {
      "cell_type": "code",
      "metadata": {
        "tags": [],
        "id": "TeNongo_X6wt"
      },
      "source": [
        "def build_model(batch_size):\n",
        "    model = tf.keras.Sequential()\n",
        "    model.add(tf.keras.layers.Embedding(VOCAB_SIZE, EMB_DIM, batch_input_shape=[batch_size, None]))\n",
        "\n",
        "    # Gegebene Anzahl an LSTM-Layer wird hinzugefügt\n",
        "    for _ in range(N_LSTM_LAYERS):\n",
        "        model.add(tf.keras.layers.LSTM(N_UNTIS, stateful=True, return_sequences=True))\n",
        "\n",
        "    # Fully-Connected Layer mit Vocab-Size als Dimension\n",
        "    model.add(tf.keras.layers.Dense(vocab_size))\n",
        "\n",
        "    model.summary()\n",
        "    return model\n"
      ],
      "execution_count": null,
      "outputs": []
    },
    {
      "cell_type": "code",
      "metadata": {
        "tags": [],
        "id": "3EyIHrxYX6wu",
        "outputId": "3c151ce8-8c46-4227-916e-cc1a7db84889",
        "colab": {
          "base_uri": "https://localhost:8080/",
          "height": 357
        }
      },
      "source": [
        "# Build actual model\n",
        "model = build_model(BATCH_SIZE)"
      ],
      "execution_count": null,
      "outputs": [
        {
          "output_type": "stream",
          "text": [
            "Model: \"sequential\"\n",
            "_________________________________________________________________\n",
            "Layer (type)                 Output Shape              Param #   \n",
            "=================================================================\n",
            "embedding (Embedding)        (64, None, 256)           64512     \n",
            "_________________________________________________________________\n",
            "lstm (LSTM)                  (64, None, 512)           1574912   \n",
            "_________________________________________________________________\n",
            "lstm_1 (LSTM)                (64, None, 512)           2099200   \n",
            "_________________________________________________________________\n",
            "lstm_2 (LSTM)                (64, None, 512)           2099200   \n",
            "_________________________________________________________________\n",
            "lstm_3 (LSTM)                (64, None, 512)           2099200   \n",
            "_________________________________________________________________\n",
            "dense (Dense)                (64, None, 252)           129276    \n",
            "=================================================================\n",
            "Total params: 8,066,300\n",
            "Trainable params: 8,066,300\n",
            "Non-trainable params: 0\n",
            "_________________________________________________________________\n"
          ],
          "name": "stdout"
        }
      ]
    },
    {
      "cell_type": "code",
      "metadata": {
        "tags": [],
        "id": "o1dU5T1eX6ww",
        "outputId": "e899cb2e-4937-47cb-a69c-29de22317ebd",
        "colab": {
          "base_uri": "https://localhost:8080/",
          "height": 661
        }
      },
      "source": [
        "# Visualisierung des Models\n",
        "tf.keras.utils.plot_model(model, to_file='model.png')\n"
      ],
      "execution_count": null,
      "outputs": [
        {
          "output_type": "execute_result",
          "data": {
            "image/png": "[encoded data removed]",
            "text/plain": [
              "<IPython.core.display.Image object>"
            ]
          },
          "metadata": {
            "tags": []
          },
          "execution_count": 13
        }
      ]
    },
    {
      "cell_type": "code",
      "metadata": {
        "id": "dYOvq1DfX6wy"
      },
      "source": [
        "# Optional können jetzt noch vorhandene Gewichtungen geladen werden\n",
        "# Dazu Kommentierung entfernen und \"<PATH>\" mit dem Pfad der Gewichtungen ersetzen\n",
        "\n",
        "model.load_weights(tf.train.latest_checkpoint(tf.train.latest_checkpoint(\"<PATH>\")))"
      ],
      "execution_count": null,
      "outputs": []
    },
    {
      "cell_type": "markdown",
      "metadata": {
        "id": "BhSehwjBX6wz"
      },
      "source": [
        "### Trainieren des Models"
      ]
    },
    {
      "cell_type": "code",
      "metadata": {
        "id": "D2AqFzx_X6w0"
      },
      "source": [
        "# Konstanten\n",
        "\n",
        "LERN_RATE = 0.00001\n",
        "\n",
        "N_EPOCHS = 15\n"
      ],
      "execution_count": null,
      "outputs": []
    },
    {
      "cell_type": "code",
      "metadata": {
        "id": "DrQ9gSYuX6w1"
      },
      "source": [
        "# Verlust-Funktion\n",
        "def generative_loss(labels, logits):\n",
        "    return tf.keras.losses.sparse_categorical_crossentropy(labels, logits, from_logits=True)"
      ],
      "execution_count": null,
      "outputs": []
    },
    {
      "cell_type": "code",
      "metadata": {
        "id": "EmehAnvYX6w2"
      },
      "source": [
        "# Kompilieren des Models\n",
        "# mit Adam Opitmizer und eigener Velust-Funktion\n",
        "optimizer = tf.keras.optimizers.Adam(learning_rate=LERN_RATE)\n",
        "model.compile(optimizer=optimizer, loss=generative_loss)"
      ],
      "execution_count": null,
      "outputs": []
    },
    {
      "cell_type": "code",
      "metadata": {
        "id": "veh7A6oqX6w3"
      },
      "source": [
        "# Name der Checkpoints\n",
        "checkpoint_name = os.path.join(TRAIN_DIR, \"unlabelled_checkpoint_{epoch}\")\n",
        "checkpoint_callback = tf.keras.callbacks.ModelCheckpoint(filepath=checkpoint_name, save_weights_only=True)"
      ],
      "execution_count": null,
      "outputs": []
    },
    {
      "cell_type": "code",
      "metadata": {
        "tags": [],
        "id": "AucKwfKiX6w4",
        "outputId": "91931650-8974-4d49-c9af-2d5319df39f0"
      },
      "source": [
        "# Training wird gestartet\n",
        "history = model.fit(train_dataset, epochs=N_EPOCHS, validation_data=test_dataset, callbacks=[checkpoint_callback])"
      ],
      "execution_count": null,
      "outputs": [
        {
          "output_type": "stream",
          "text": [
            "Epoch 1/15\n",
            "   6/4686 [..............................] - ETA: 7:46:54 - loss: 5.5289"
          ],
          "name": "stdout"
        }
      ]
    },
    {
      "cell_type": "markdown",
      "metadata": {
        "id": "N5r4iqjyX6w5"
      },
      "source": [
        "## Erzeugen einer Midi-Datei (ohne Gefühlsstimmung)"
      ]
    },
    {
      "cell_type": "code",
      "metadata": {
        "tags": [],
        "id": "NQHfM0_GX6w6",
        "outputId": "ce2da204-7382-4007-a3ed-c89e2850d323",
        "colab": {
          "base_uri": "https://localhost:8080/",
          "height": 357
        }
      },
      "source": [
        "import midi_generator\n",
        "\n",
        "# neues Model mit Batch-Size=1 wird erstellt\n",
        "generative_model = build_model(1)\n",
        "\n",
        "# vorhandene Gewichte werden geladen\n",
        "generative_model.load_weights(tf.train.latest_checkpoint(TRAIN_DIR))\n",
        "\n",
        "# Input shape anpassen\n",
        "generative_model.build(tf.TensorShape([1, None]))\n",
        "\n",
        "# Umkehrung der Codierung: Index zu Char\n",
        "index_to_char = {index : char for char, index in char_to_index.items()}\n",
        "\n",
        "####### SEQ\n",
        "text = midi_generator.generate_midi(model=generative_model, char2idx=char_to_index, idx2char=index_to_char, seq_len=512)"
      ],
      "execution_count": null,
      "outputs": [
        {
          "output_type": "stream",
          "text": [
            "Model: \"sequential_1\"\n",
            "_________________________________________________________________\n",
            "Layer (type)                 Output Shape              Param #   \n",
            "=================================================================\n",
            "embedding_1 (Embedding)      (1, None, 256)            64512     \n",
            "_________________________________________________________________\n",
            "lstm_4 (LSTM)                (1, None, 512)            1574912   \n",
            "_________________________________________________________________\n",
            "lstm_5 (LSTM)                (1, None, 512)            2099200   \n",
            "_________________________________________________________________\n",
            "lstm_6 (LSTM)                (1, None, 512)            2099200   \n",
            "_________________________________________________________________\n",
            "lstm_7 (LSTM)                (1, None, 512)            2099200   \n",
            "_________________________________________________________________\n",
            "dense_1 (Dense)              (1, None, 252)            129276    \n",
            "=================================================================\n",
            "Total params: 8,066,300\n",
            "Trainable params: 8,066,300\n",
            "Non-trainable params: 0\n",
            "_________________________________________________________________\n"
          ],
          "name": "stdout"
        }
      ]
    },
    {
      "cell_type": "code",
      "metadata": {
        "id": "bRG8SMhPX6w7"
      },
      "source": [
        "midi_loader.write(text, \"midi-test.mid\")"
      ],
      "execution_count": null,
      "outputs": []
    },
    {
      "cell_type": "code",
      "metadata": {
        "tags": [],
        "id": "ial881lYX6w8",
        "outputId": "78db8e1f-73b5-461c-d8c7-063c8c594ee5",
        "colab": {
          "base_uri": "https://localhost:8080/",
          "height": 71
        }
      },
      "source": [
        "print(text)\n"
      ],
      "execution_count": null,
      "outputs": [
        {
          "output_type": "stream",
          "text": [
            "\n",
            "  n_55 n_42 w_2 w_2 w_2 w_2 w_2 w_2 d_eighth_0 w_2 d_eighth_0 d_eighth_0 w_2 w_2 d_eighth_0 w_2 d_eighth_0 d_eighth_0 w_2 w_2 w_2 d_eighth_0 d_eighth_0 w_2 w_2 d_quarter_0 d_eighth_0 d_quarter_0 d_quarter_0 d_eighth_0 w_2 d_eighth_0 w_2 w_2 d_eighth_0 w_2 w_2 d_eighth_0 d_eighth_0 d_quarter_0 w_2 w_2 d_eighth_0 w_2 d_quarter_0 w_2 d_eighth_0 d_quarter_0 w_2 d_eighth_0 d_eighth_0 d_quarter_0 w_2 w_2 d_eighth_0 d_eighth_0 w_2 w_2 d_eighth_0 d_eighth_0 w_2 d_quarter_0 d_eighth_0 d_eighth_0 w_2 d_quarter_0 d_eighth_0 d_eighth_0 w_2 d_eighth_0 d_eighth_0 w_2 w_2 w_2 w_2 d_quarter_0 w_2 d_eighth_0 w_2 d_eighth_0 d_eighth_0 w_2 d_quarter_0 w_2 w_2 w_2 w_2 w_2 w_2 d_eighth_0 w_2 d_quarter_0 d_eighth_0 w_2 d_quarter_0 d_eighth_0 w_2 d_eighth_0 w_2 d_eighth_0 d_eighth_0 d_quarter_0 w_2 d_quarter_0 d_eighth_0 d_eighth_0 w_2 d_eighth_0 w_2 w_2 w_2 d_quarter_0 w_2 w_2 w_2 d_quarter_0 d_quarter_0 d_eighth_0 d_eighth_0 w_2 d_eighth_0 d_eighth_0 d_eighth_0 w_2 d_eighth_0 d_eighth_0 d_eighth_0 w_2 w_2 w_2 w_2 d_eighth_0 d_eighth_0 d_eighth_0 d_eighth_0 d_quarter_0 d_eighth_0 d_eighth_0 w_2 w_2 d_eighth_0 d_eighth_0 d_eighth_0 d_eighth_0 w_2 w_2 d_eighth_0 w_2 w_2 w_2 w_2 w_2 w_2 w_2 w_2 d_eighth_0 d_eighth_0 w_2 w_2 d_eighth_0 w_2 d_eighth_0 d_eighth_0 w_2 d_eighth_0 w_2 d_eighth_0 d_eighth_0 d_quarter_0 d_eighth_0 d_eighth_0 d_eighth_0 d_eighth_0 d_eighth_0 w_2 w_2 w_2 d_eighth_0 d_eighth_0 w_2 d_quarter_0 d_eighth_0 w_2 d_eighth_0 w_2 d_eighth_0 w_2 w_2 d_quarter_0 d_eighth_0 d_quarter_0 d_eighth_0 w_2 d_quarter_0 w_2 w_2 w_2 d_quarter_0 w_2 d_eighth_0 d_quarter_0 w_2 w_2 w_2 w_2 w_2 d_eighth_0 d_eighth_0 w_2 w_2 d_eighth_0 w_2 w_2 w_2 d_eighth_0 d_quarter_0 d_quarter_0 w_2 d_eighth_0 w_2 w_2 w_2 w_2 d_quarter_0 d_quarter_0 w_2 d_quarter_0 d_quarter_0 d_eighth_0 d_quarter_0 w_2 w_2 d_eighth_0 w_2 w_2 d_eighth_0 w_2 w_2 d_eighth_0 d_quarter_0 w_2 w_2 d_eighth_0 d_eighth_0 d_eighth_0 d_eighth_0 w_2 d_eighth_0 d_eighth_0 w_2 d_quarter_0 w_2 w_2 w_2 w_2 w_2 d_eighth_0 w_2 w_2 w_2 d_eighth_0 d_quarter_0 d_eighth_0 d_eighth_0 d_eighth_0 d_eighth_0 w_2 w_2 d_eighth_0 w_2 w_2 d_eighth_0 d_eighth_0 w_2 w_2 w_2 d_quarter_0 w_2 d_eighth_0 d_quarter_0 w_2 w_2 d_eighth_0 w_2 d_quarter_0 d_eighth_0 d_quarter_0 w_2 w_2 d_eighth_0 w_2 w_2 w_2 w_2 w_2 w_2 d_quarter_0 w_2 w_2 d_quarter_0 w_2 w_2 w_2 d_eighth_0 w_2 d_eighth_0 w_2 w_2 w_2 d_quarter_0 d_eighth_0 d_quarter_0 d_quarter_0 d_eighth_0 w_2 w_2 d_eighth_0 w_2 w_2 w_2 d_eighth_0 d_eighth_0 d_eighth_0 d_quarter_0 d_eighth_0 d_eighth_0 d_eighth_0 d_eighth_0 w_2 w_2 d_eighth_0 d_eighth_0 w_2 d_eighth_0 d_quarter_0 d_quarter_0 d_eighth_0 w_2 w_2 d_eighth_0 w_2 d_eighth_0 d_eighth_0 w_2 w_2 d_eighth_0 d_eighth_0 d_quarter_0 w_2 w_2 w_2 d_quarter_0 w_2 d_eighth_0 w_2 d_quarter_0 d_eighth_0 w_2 w_2 w_2 w_2 w_2 d_quarter_0 w_2 w_2 d_eighth_0 d_eighth_0 w_2 w_2 d_eighth_0 d_quarter_0 w_2 d_eighth_0 w_2 w_2 d_eighth_0 w_2 d_quarter_0 w_2 d_eighth_0 w_2 d_eighth_0 w_2 d_quarter_0 w_2 d_eighth_0 w_2 d_eighth_0 d_eighth_0 w_2 w_2 d_eighth_0 w_2 d_eighth_0 d_eighth_0 d_quarter_0 w_2 d_eighth_0 w_2 w_2 d_eighth_0 d_eighth_0 w_2 w_2 d_eighth_0 d_eighth_0 w_2 d_quarter_0 d_eighth_0 w_2 d_quarter_0 w_2 d_quarter_0 w_2 d_quarter_0 d_quarter_0 d_eighth_0 d_eighth_0 w_2 d_quarter_0 d_eighth_0 w_2 w_2 w_2 d_quarter_0 w_2 w_2 w_2 d_eighth_0 d_eighth_0 w_2 w_2 d_quarter_0 w_2 w_2 w_2 w_2 d_eighth_0 d_eighth_0 d_eighth_0 w_2 w_2 w_2 d_eighth_0 w_2 w_2 w_2 d_eighth_0 w_2 d_eighth_0 w_2 d_quarter_0 d_quarter_0 d_eighth_0 d_quarter_0 w_2 d_eighth_0 w_2 d_quarter_0 d_eighth_0 d_eighth_0 w_2 w_2 w_2 w_2 w_2 w_2 w_2 d_quarter_0 w_2 w_2 w_2 w_2 w_2 w_2 w_2 w_2 w_2 w_2 d_quarter_0 d_eighth_0 w_2 d_eighth_0 w_2 w_2 d_eighth_0 w_2 d_quarter_0 d_eighth_0 w_2 d_eighth_0 d_quarter_0 w_2 d_eighth_0 d_quarter_0 d_eighth_0 w_2 w_2 d_eighth_0 w_2 w_2 w_2 d_eighth_0 d_eighth_0 d_quarter_0 w_2 w_2 d_eighth_0 d_eighth_0 d_eighth_0 d_eighth_0 d_eighth_0\n"
          ],
          "name": "stdout"
        }
      ]
    },
    {
      "cell_type": "markdown",
      "metadata": {
        "id": "z4EJe3XMX6w9"
      },
      "source": [
        "## Hinzufügen einer Logistischen Regression für die Erkennung der Gefühlslage"
      ]
    },
    {
      "cell_type": "code",
      "metadata": {
        "id": "_IMaE25tX6w9"
      },
      "source": [
        "# Imports\n",
        "import csv\n",
        "import pickle\n",
        "\n",
        "from midi_generator import preprocess_sentence\n",
        "import graph_plotter\n",
        "from sklearn.linear_model import LogisticRegression"
      ],
      "execution_count": null,
      "outputs": []
    },
    {
      "cell_type": "code",
      "metadata": {
        "id": "8X7-MrqVX6w-"
      },
      "source": [
        "def encode_sentence(model, text, char2idx, layer_idx):\n",
        "    text = preprocess_sentence(text)\n",
        "\n",
        "    # Zurücksetzen des Models \n",
        "    model.reset_states()\n",
        "\n",
        "    for c in text.split(\" \"):\n",
        "        # Hinzufügen der Batch Dimension\n",
        "        try:\n",
        "            input_eval = tf.expand_dims([char2idx[c]], 0)\n",
        "            predictions = model(input_eval)\n",
        "        except KeyError:\n",
        "            if c != \"\":\n",
        "                print(\"Can't process char\", c)\n",
        "\n",
        "    h_state, c_state = model.get_layer(index=layer_idx).states\n",
        "\n",
        "    # Entfernen der Batch Dimension\n",
        "    c_state = tf.squeeze(c_state, 0)\n",
        "\n",
        "    return tf.math.tanh(c_state).numpy()"
      ],
      "execution_count": null,
      "outputs": []
    },
    {
      "cell_type": "code",
      "metadata": {
        "id": "-FBfoPIhX6w_"
      },
      "source": [
        "def build_dataset(datapath, generative_model, char2idx, layer_idx):\n",
        "    xs, ys = [], []\n",
        "\n",
        "    # Laden des Datensatzes\n",
        "    csv_file = open(datapath, \"r\")\n",
        "    data = csv.DictReader(csv_file)\n",
        "\n",
        "    for row in data:\n",
        "        label = int(row[\"label\"])\n",
        "        filepath = row[\"filepath\"]\n",
        "\n",
        "        data_dir = os.path.dirname(datapath)\n",
        "        phrase_path = os.path.join(data_dir, filepath) + \".mid\"\n",
        "        encoded_path = os.path.join(data_dir, filepath) + \".npy\"\n",
        "\n",
        "        # Laden der Midi-Datei als Text\n",
        "        if os.path.isfile(encoded_path):\n",
        "            encoding = np.load(encoded_path)\n",
        "        else:\n",
        "            text, vocab = midi_loader.load_midi(phrase_path, transpo_range=1, stretching_range=1)\n",
        "\n",
        "            # Codieren des Midi texts mit dem Model\n",
        "            encoding = encode_sentence(generative_model, text, char2idx, layer_idx)\n",
        "\n",
        "            # Codierung speichern, damit. sie beim nächsten Mal schneller geladen werden kann\n",
        "            np.save(encoded_path, encoding)\n",
        "\n",
        "        xs.append(encoding)\n",
        "        ys.append(label)\n",
        "\n",
        "    return np.array(xs), np.array(ys)"
      ],
      "execution_count": null,
      "outputs": []
    },
    {
      "cell_type": "code",
      "metadata": {
        "id": "Yevewe4-X6xA"
      },
      "source": [
        "def train_classifier_model(train_dataset, test_dataset, C=2**np.arange(-8, 1).astype(np.float), seed=42, penalty=\"l1\"):\n",
        "    trX, trY = train_dataset\n",
        "    teX, teY = test_dataset\n",
        "\n",
        "    scores = []\n",
        "\n",
        "    # Optimierung der Hyper-parameter \n",
        "    for i, c in enumerate(C):\n",
        "        logreg_model = LogisticRegression(C=c, penalty=penalty, random_state=seed+i, solver=\"liblinear\")\n",
        "        logreg_model.fit(trX, trY)\n",
        "\n",
        "        score = logreg_model.score(teX, teY)\n",
        "        scores.append(score)\n",
        "\n",
        "    c = C[np.argmax(scores)]\n",
        "\n",
        "    sent_classfier = LogisticRegression(C=c, penalty=penalty, random_state=seed+len(C), solver=\"liblinear\")\n",
        "    sent_classfier.fit(trX, trY)\n",
        "\n",
        "    score =  sent_classfier.score(teX, teY) * 100.\n",
        "\n",
        "    # Gefühlsklassifizierer wird gespeichert\n",
        "    with open(os.path.join(TRAIN_DIR, \"classifier_ckpt.p\"), \"wb\") as f:\n",
        "        pickle.dump(sent_classfier, f)\n",
        "\n",
        "    sentneuron_ixs = get_activated_neurons(sent_classfier)\n",
        "\n",
        "    # Speichern der resultierenden Gewichtungen (als Graph)\n",
        "    graph_plotter.plot_weight_contribs(sent_classfier.coef_)\n",
        "    graph_plotter.plot_logits(trX, trY, sentneuron_ixs)\n",
        "\n",
        "    return sentneuron_ixs, score"
      ],
      "execution_count": null,
      "outputs": []
    },
    {
      "cell_type": "code",
      "metadata": {
        "id": "rPNa01RkX6xB"
      },
      "source": [
        "def get_activated_neurons(sent_classfier):\n",
        "    neurons_not_zero = len(np.argwhere(sent_classfier.coef_))\n",
        "\n",
        "    weights = sent_classfier.coef_.T\n",
        "    weight_penalties = np.squeeze(np.linalg.norm(weights, ord=1, axis=1))\n",
        "\n",
        "    if neurons_not_zero == 1:\n",
        "        neuron_ixs = np.array([np.argmax(weight_penalties)])\n",
        "    elif neurons_not_zero >= np.log(len(weight_penalties)):\n",
        "        neuron_ixs = np.argsort(weight_penalties)[-neurons_not_zero:][::-1]\n",
        "    else:\n",
        "        neuron_ixs = np.argpartition(weight_penalties, -neurons_not_zero)[-neurons_not_zero:]\n",
        "        neuron_ixs = (neuron_ixs[np.argsort(weight_penalties[neuron_ixs])])[::-1]\n",
        "\n",
        "    return neuron_ixs"
      ],
      "execution_count": null,
      "outputs": []
    },
    {
      "cell_type": "code",
      "metadata": {
        "tags": [],
        "id": "apz64j6eX6xC",
        "outputId": "be56af98-f8cd-4df5-be8c-24a5f825d35e",
        "colab": {
          "base_uri": "https://localhost:8080/",
          "height": 1000
        }
      },
      "source": [
        "# Laden der Gewichtungen des Models\n",
        "generative_model = build_model(1)\n",
        "generative_model.load_weights(tf.train.latest_checkpoint(TRAIN_DIR))\n",
        "generative_model.build(tf.TensorShape([1, None]))"
      ],
      "execution_count": null,
      "outputs": [
        {
          "output_type": "stream",
          "text": [
            "Model: \"sequential_2\"\n",
            "_________________________________________________________________\n",
            "Layer (type)                 Output Shape              Param #   \n",
            "=================================================================\n",
            "embedding_2 (Embedding)      (1, None, 256)            64512     \n",
            "_________________________________________________________________\n",
            "lstm_8 (LSTM)                (1, None, 512)            1574912   \n",
            "_________________________________________________________________\n",
            "lstm_9 (LSTM)                (1, None, 512)            2099200   \n",
            "_________________________________________________________________\n",
            "lstm_10 (LSTM)               (1, None, 512)            2099200   \n",
            "_________________________________________________________________\n",
            "lstm_11 (LSTM)               (1, None, 512)            2099200   \n",
            "_________________________________________________________________\n",
            "dense_2 (Dense)              (1, None, 252)            129276    \n",
            "=================================================================\n",
            "Total params: 8,066,300\n",
            "Trainable params: 8,066,300\n",
            "Non-trainable params: 0\n",
            "_________________________________________________________________\n",
            "WARNING:tensorflow:Unresolved object in checkpoint: (root).optimizer\n",
            "WARNING:tensorflow:Unresolved object in checkpoint: (root).optimizer.iter\n",
            "WARNING:tensorflow:Unresolved object in checkpoint: (root).optimizer.beta_1\n",
            "WARNING:tensorflow:Unresolved object in checkpoint: (root).optimizer.beta_2\n",
            "WARNING:tensorflow:Unresolved object in checkpoint: (root).optimizer.decay\n",
            "WARNING:tensorflow:Unresolved object in checkpoint: (root).optimizer.learning_rate\n",
            "WARNING:tensorflow:Unresolved object in checkpoint: (root).optimizer's state 'm' for (root).layer_with_weights-0.embeddings\n",
            "WARNING:tensorflow:Unresolved object in checkpoint: (root).optimizer's state 'm' for (root).layer_with_weights-5.kernel\n",
            "WARNING:tensorflow:Unresolved object in checkpoint: (root).optimizer's state 'm' for (root).layer_with_weights-5.bias\n",
            "WARNING:tensorflow:Unresolved object in checkpoint: (root).optimizer's state 'm' for (root).layer_with_weights-1.cell.kernel\n",
            "WARNING:tensorflow:Unresolved object in checkpoint: (root).optimizer's state 'm' for (root).layer_with_weights-1.cell.recurrent_kernel\n",
            "WARNING:tensorflow:Unresolved object in checkpoint: (root).optimizer's state 'm' for (root).layer_with_weights-1.cell.bias\n",
            "WARNING:tensorflow:Unresolved object in checkpoint: (root).optimizer's state 'm' for (root).layer_with_weights-2.cell.kernel\n",
            "WARNING:tensorflow:Unresolved object in checkpoint: (root).optimizer's state 'm' for (root).layer_with_weights-2.cell.recurrent_kernel\n",
            "WARNING:tensorflow:Unresolved object in checkpoint: (root).optimizer's state 'm' for (root).layer_with_weights-2.cell.bias\n",
            "WARNING:tensorflow:Unresolved object in checkpoint: (root).optimizer's state 'm' for (root).layer_with_weights-3.cell.kernel\n",
            "WARNING:tensorflow:Unresolved object in checkpoint: (root).optimizer's state 'm' for (root).layer_with_weights-3.cell.recurrent_kernel\n",
            "WARNING:tensorflow:Unresolved object in checkpoint: (root).optimizer's state 'm' for (root).layer_with_weights-3.cell.bias\n",
            "WARNING:tensorflow:Unresolved object in checkpoint: (root).optimizer's state 'm' for (root).layer_with_weights-4.cell.kernel\n",
            "WARNING:tensorflow:Unresolved object in checkpoint: (root).optimizer's state 'm' for (root).layer_with_weights-4.cell.recurrent_kernel\n",
            "WARNING:tensorflow:Unresolved object in checkpoint: (root).optimizer's state 'm' for (root).layer_with_weights-4.cell.bias\n",
            "WARNING:tensorflow:Unresolved object in checkpoint: (root).optimizer's state 'v' for (root).layer_with_weights-0.embeddings\n",
            "WARNING:tensorflow:Unresolved object in checkpoint: (root).optimizer's state 'v' for (root).layer_with_weights-5.kernel\n",
            "WARNING:tensorflow:Unresolved object in checkpoint: (root).optimizer's state 'v' for (root).layer_with_weights-5.bias\n",
            "WARNING:tensorflow:Unresolved object in checkpoint: (root).optimizer's state 'v' for (root).layer_with_weights-1.cell.kernel\n",
            "WARNING:tensorflow:Unresolved object in checkpoint: (root).optimizer's state 'v' for (root).layer_with_weights-1.cell.recurrent_kernel\n",
            "WARNING:tensorflow:Unresolved object in checkpoint: (root).optimizer's state 'v' for (root).layer_with_weights-1.cell.bias\n",
            "WARNING:tensorflow:Unresolved object in checkpoint: (root).optimizer's state 'v' for (root).layer_with_weights-2.cell.kernel\n",
            "WARNING:tensorflow:Unresolved object in checkpoint: (root).optimizer's state 'v' for (root).layer_with_weights-2.cell.recurrent_kernel\n",
            "WARNING:tensorflow:Unresolved object in checkpoint: (root).optimizer's state 'v' for (root).layer_with_weights-2.cell.bias\n",
            "WARNING:tensorflow:Unresolved object in checkpoint: (root).optimizer's state 'v' for (root).layer_with_weights-3.cell.kernel\n",
            "WARNING:tensorflow:Unresolved object in checkpoint: (root).optimizer's state 'v' for (root).layer_with_weights-3.cell.recurrent_kernel\n",
            "WARNING:tensorflow:Unresolved object in checkpoint: (root).optimizer's state 'v' for (root).layer_with_weights-3.cell.bias\n",
            "WARNING:tensorflow:Unresolved object in checkpoint: (root).optimizer's state 'v' for (root).layer_with_weights-4.cell.kernel\n",
            "WARNING:tensorflow:Unresolved object in checkpoint: (root).optimizer's state 'v' for (root).layer_with_weights-4.cell.recurrent_kernel\n",
            "WARNING:tensorflow:Unresolved object in checkpoint: (root).optimizer's state 'v' for (root).layer_with_weights-4.cell.bias\n",
            "WARNING:tensorflow:A checkpoint was restored (e.g. tf.train.Checkpoint.restore or tf.keras.Model.load_weights) but not all checkpointed values were used. See above for specific issues. Use expect_partial() on the load status object, e.g. tf.train.Checkpoint.restore(...).expect_partial(), to silence these warnings, or use assert_consumed() to make the check explicit. See https://www.tensorflow.org/guide/checkpoint#loading_mechanics for details.\n"
          ],
          "name": "stdout"
        }
      ]
    },
    {
      "cell_type": "markdown",
      "metadata": {
        "id": "ODnP4SuPX6xD"
      },
      "source": [
        "_Anmerkung: Auch hier benötigt das erstmalige Laden der Midi-Dateien deutlich mehr Zeit als danach._"
      ]
    },
    {
      "cell_type": "code",
      "metadata": {
        "tags": [],
        "id": "IHF8FvoXX6xD",
        "outputId": "79fca40c-d7f8-43a6-8dbd-152cecc7b230",
        "colab": {
          "base_uri": "https://localhost:8080/",
          "height": 714
        }
      },
      "source": [
        "# Erstellen des Datensatzes von den codierten gelabelten Midis\n",
        "train_dataset = build_dataset(\"./data/vgmidi-0.1/labelled/vgmidi_sent_train.csv\", generative_model, char_to_index, 4)\n",
        "test_dataset = build_dataset(\"./data/vgmidi-0.1/labelled/vgmidi_sent_test.csv\", generative_model, char_to_index, 4)"
      ],
      "execution_count": null,
      "outputs": [
        {
          "output_type": "stream",
          "text": [
            "> Parse MIDI-File: ./data/vgmidi-0.1/labelled/phrases/BanjoKazooie_BoggysIglooHappy_0.mid\n",
            "> Parse MIDI-File: ./data/vgmidi-0.1/labelled/phrases/BanjoKazooie_BoggysIglooHappy_1.mid\n",
            "> Parse MIDI-File: ./data/vgmidi-0.1/labelled/phrases/BanjoKazooie_BoggysIglooHappy_2.mid\n",
            "> Parse MIDI-File: ./data/vgmidi-0.1/labelled/phrases/BanjoKazooie_BoggysIglooHappy_3.mid\n",
            "> Parse MIDI-File: ./data/vgmidi-0.1/labelled/phrases/BanjoKazooie_BoggysIglooHappy_4.mid\n",
            "> Parse MIDI-File: ./data/vgmidi-0.1/labelled/phrases/BanjoKazooie_BoggysIglooSad_0.mid\n",
            "> Parse MIDI-File: ./data/vgmidi-0.1/labelled/phrases/BanjoKazooie_BoggysIglooSad_1.mid\n",
            "> Parse MIDI-File: ./data/vgmidi-0.1/labelled/phrases/BanjoKazooie_BoggysIglooSad_2.mid\n",
            "> Parse MIDI-File: ./data/vgmidi-0.1/labelled/phrases/BanjoKazooie_BoggysIglooSad_3.mid\n",
            "> Parse MIDI-File: ./data/vgmidi-0.1/labelled/phrases/BanjoKazooie_BubblegloopSwamp_0.mid\n",
            "> Parse MIDI-File: ./data/vgmidi-0.1/labelled/phrases/BanjoKazooie_BubblegloopSwamp_1.mid\n",
            "> Parse MIDI-File: ./data/vgmidi-0.1/labelled/phrases/BanjoKazooie_BubblegloopSwamp_10.mid\n",
            "> Parse MIDI-File: ./data/vgmidi-0.1/labelled/phrases/BanjoKazooie_BubblegloopSwamp_2.mid\n",
            "> Parse MIDI-File: ./data/vgmidi-0.1/labelled/phrases/BanjoKazooie_BubblegloopSwamp_3.mid\n",
            "> Parse MIDI-File: ./data/vgmidi-0.1/labelled/phrases/BanjoKazooie_BubblegloopSwamp_4.mid\n",
            "> Parse MIDI-File: ./data/vgmidi-0.1/labelled/phrases/BanjoKazooie_BubblegloopSwamp_5.mid\n",
            "> Parse MIDI-File: ./data/vgmidi-0.1/labelled/phrases/BanjoKazooie_BubblegloopSwamp_6.mid\n",
            "> Parse MIDI-File: ./data/vgmidi-0.1/labelled/phrases/BanjoKazooie_BubblegloopSwamp_7.mid\n",
            "> Parse MIDI-File: ./data/vgmidi-0.1/labelled/phrases/BanjoKazooie_BubblegloopSwamp_8.mid\n",
            "> Parse MIDI-File: ./data/vgmidi-0.1/labelled/phrases/BanjoKazooie_BubblegloopSwamp_9.mid\n",
            "> Parse MIDI-File: ./data/vgmidi-0.1/labelled/phrases/BanjoKazooie_ClickClockWood_0.mid\n",
            "> Parse MIDI-File: ./data/vgmidi-0.1/labelled/phrases/BanjoKazooie_ClickClockWood_1.mid\n",
            "> Parse MIDI-File: ./data/vgmidi-0.1/labelled/phrases/BanjoKazooie_ClickClockWood_2.mid\n",
            "> Parse MIDI-File: ./data/vgmidi-0.1/labelled/phrases/BanjoKazooie_ClickClockWood_3.mid\n",
            "> Parse MIDI-File: ./data/vgmidi-0.1/labelled/phrases/BanjoKazooie_ClickClockWood_4.mid\n",
            "> Parse MIDI-File: ./data/vgmidi-0.1/labelled/phrases/BanjoKazooie_ClickClockWood_5.mid\n",
            "> Parse MIDI-File: ./data/vgmidi-0.1/labelled/phrases/BanjoKazooie_ClickClockWood_6.mid\n",
            "> Parse MIDI-File: ./data/vgmidi-0.1/labelled/phrases/BanjoKazooie_ClickClockWood_7.mid\n",
            "> Parse MIDI-File: ./data/vgmidi-0.1/labelled/phrases/BanjoKazooie_ClickClockWood_8.mid\n",
            "> Parse MIDI-File: ./data/vgmidi-0.1/labelled/phrases/BanjoKazooie_ClickClockWood_9.mid\n",
            "> Parse MIDI-File: ./data/vgmidi-0.1/labelled/phrases/BanjoKazooie_Ending_0.mid\n",
            "> Parse MIDI-File: ./data/vgmidi-0.1/labelled/phrases/BanjoKazooie_Ending_1.mid\n",
            "> Parse MIDI-File: ./data/vgmidi-0.1/labelled/phrases/BanjoKazooie_Ending_2.mid\n",
            "> Parse MIDI-File: ./data/vgmidi-0.1/labelled/phrases/BanjoKazooie_Ending_3.mid\n",
            "> Parse MIDI-File: ./data/vgmidi-0.1/labelled/phrases/BanjoKazooie_Ending_4.mid\n",
            "> Parse MIDI-File: ./data/vgmidi-0.1/labelled/phrases/BanjoKazooie_Ending_5.mid\n",
            "> Parse MIDI-File: ./data/vgmidi-0.1/labelled/phrases/BanjoKazooie_Ending_6.mid\n",
            "> Parse MIDI-File: ./data/vgmidi-0.1/labelled/phrases/BanjoKazooie_Ending_8.mid\n",
            "> Parse MIDI-File: ./data/vgmidi-0.1/labelled/phrases/BanjoKazooie_FreezeezyPeak_0.mid\n",
            "> Parse MIDI-File: ./data/vgmidi-0.1/labelled/phrases/BanjoKazooie_FreezeezyPeak_1.mid\n",
            "> Parse MIDI-File: ./data/vgmidi-0.1/labelled/phrases/BanjoKazooie_FreezeezyPeak_2.mid\n"
          ],
          "name": "stdout"
        }
      ]
    },
    {
      "cell_type": "code",
      "metadata": {
        "id": "Jlkq-xB6X6xE"
      },
      "source": [
        "sentneuron_ixs, score = train_classifier_model(train_dataset, test_dataset)"
      ],
      "execution_count": null,
      "outputs": []
    },
    {
      "cell_type": "code",
      "metadata": {
        "tags": [],
        "id": "DMjX38rBX6xF"
      },
      "source": [
        "print(f\"> Anzahl der genutzten Neuronen: {len(sentneuron_ixs)} \\n{sentneuron_ixs}\")\n",
        "print(f\"Genauigkeit: {score}\")"
      ],
      "execution_count": null,
      "outputs": []
    },
    {
      "cell_type": "markdown",
      "metadata": {
        "id": "W401h3QjX6xG"
      },
      "source": [
        "## Start der 'Evolution': Anpassen der Neuronen\n",
        "Die Neuronen werden nun trainiert, um Musik mit Stimmung erzeugen zu könnnen\n",
        "\n",
        "\n",
        "_Jetzt werden Methoden zuerst definiert, die später benutzt werden, um die Neuronen zu trainieren, die die gewünschte Stimmung erzeugen sollen._"
      ]
    },
    {
      "cell_type": "code",
      "metadata": {
        "id": "xsw_8kt5X6xG"
      },
      "source": [
        "# Konstanten\n",
        "GEN_MIN = -1\n",
        "GEN_MAX = 1"
      ],
      "execution_count": null,
      "outputs": []
    },
    {
      "cell_type": "code",
      "metadata": {
        "id": "IZi8i7ffX6xH"
      },
      "source": [
        "def mutation(individual, mutation_rate):\n",
        "    for i in range(len(individual)):\n",
        "        if np.random.uniform(0, 1) < mutation_rate:\n",
        "            individual[i] = np.random.uniform(GEN_MIN, GEN_MAX)"
      ],
      "execution_count": null,
      "outputs": []
    },
    {
      "cell_type": "code",
      "metadata": {
        "id": "QfJO-elTX6xJ"
      },
      "source": [
        "def crossover(parent_a, parent_b, ind_size):\n",
        "    # durchschnittliches Crossover\n",
        "    return (parent_a + parent_b)/2"
      ],
      "execution_count": null,
      "outputs": []
    },
    {
      "cell_type": "code",
      "metadata": {
        "id": "I2UD7g7MX6xJ"
      },
      "source": [
        "def reproduce(mating_pool, new_population_size, ind_size, mutation_rate):\n",
        "    # Neue 'Population' wird erzeugt\n",
        "    new_population = np.zeros((new_population_size, ind_size))\n",
        "\n",
        "    for i in range(new_population_size):\n",
        "        a = np.random.randint(len(mating_pool))\n",
        "        b = np.random.randint(len(mating_pool))\n",
        "\n",
        "        new_population[i] = crossover(mating_pool[a], mating_pool[b], ind_size)\n",
        "\n",
        "    # Mutation von neuen Kindern\n",
        "    np.apply_along_axis(mutation, 1, new_population, mutation_rate)\n",
        "\n",
        "    return new_population"
      ],
      "execution_count": null,
      "outputs": []
    },
    {
      "cell_type": "code",
      "metadata": {
        "id": "gMKpVMAJX6xK"
      },
      "source": [
        "def roulette_wheel(population, fitness_pop):\n",
        "    \n",
        "    norm_fitness_pop = fitness_pop/np.sum(fitness_pop)\n",
        "\n",
        "    # Zufällige Auswahl\n",
        "    r = np.random.uniform(0, 1)\n",
        "\n",
        "    fitness_so_far = 0\n",
        "    for i in range(len(population)):\n",
        "        fitness_so_far += norm_fitness_pop[i]\n",
        "\n",
        "        if r < fitness_so_far:\n",
        "            return population[i]\n",
        "\n",
        "    return population[-1]\n"
      ],
      "execution_count": null,
      "outputs": []
    },
    {
      "cell_type": "code",
      "metadata": {
        "id": "sW47wPZTX6xL"
      },
      "source": [
        "def select(population, fitness_pop, mating_pool_size, ind_size, elite_rate):\n",
        "    mating_pool = np.zeros((mating_pool_size, ind_size))\n",
        "\n",
        "    # Roulette whell wird aufgerufen, um 'mating_pool_size' indiviuals zu erhalten\n",
        "    for i in range(mating_pool_size):\n",
        "        mating_pool[i] = roulette_wheel(population, fitness_pop)\n",
        "\n",
        "    assert elite_rate >= 0 and elite_rate <= 1\n",
        "    elite_size = int(np.ceil(elite_rate * len(population)))\n",
        "    elite_idxs = np.argsort(-fitness_pop)\n",
        "\n",
        "    for i in range(elite_size):\n",
        "        r = np.random.randint(0, mating_pool_size)\n",
        "        mating_pool[r] = elite_idxs[i]\n",
        "\n",
        "    return mating_pool"
      ],
      "execution_count": null,
      "outputs": []
    },
    {
      "cell_type": "code",
      "metadata": {
        "id": "IkFHKTkqX6xM"
      },
      "source": [
        "def calc_fitness(individual, gen_model, cls_model, char_to_index, index_to_char, layer_index, sentiment, runs=30):\n",
        "    encoding_size = gen_model.layers[layer_index].units\n",
        "    generated_midis = np.zeros((runs, encoding_size))\n",
        "\n",
        "    # Aktivierung der Neuronen\n",
        "    sentneuron_ixs = get_activated_neurons(cls_model)\n",
        "    assert len(individual) == len(sentneuron_ixs)\n",
        "\n",
        "    # die neuen 'Gene' werden verwendet, um die Neuronen des Models zu überschreiben\n",
        "    override = {}\n",
        "    for i, ix in enumerate(sentneuron_ixs):\n",
        "        override[ix] = individual[i]\n",
        "\n",
        "    # Erzeugen neuer Stücke und Codieren mit dem Generative Model\n",
        "    for i in range(runs):\n",
        "        midi_text = midi_generator.generate_midi(gen_model, char_to_index, index_to_char, seq_len=64, layer_idx=layer_index, override=override)\n",
        "        generated_midis[i] = encode_sentence(gen_model, midi_text, char_to_index, layer_index)\n",
        "\n",
        "    midis_sentiment = cls_model.predict(generated_midis).clip(min=0)\n",
        "    return 1.0 - np.sum(np.abs(midis_sentiment - sentiment))/runs\n"
      ],
      "execution_count": null,
      "outputs": []
    },
    {
      "cell_type": "code",
      "metadata": {
        "id": "EBWrP8TbX6xN"
      },
      "source": [
        "def evaluate(population, gen_model, cls_model, char_to_index, index_to_char, layer_index, sentiment):\n",
        "    fitness = np.zeros((len(population), 1))\n",
        "\n",
        "    for i in range(len(population)):\n",
        "        fitness[i] = calc_fitness(population[i], gen_model, cls_model, char_to_index, index_to_char, layer_index, sentiment)\n",
        "\n",
        "    return fitness"
      ],
      "execution_count": null,
      "outputs": []
    },
    {
      "cell_type": "code",
      "metadata": {
        "id": "VEywxplHX6xO"
      },
      "source": [
        "def evolve(pop_size, ind_size, mut_rate, elite_rate, epochs, generative_model, classifier_model, sentiment):\n",
        "    # Erschaffen der initialen Population\n",
        "    print(f\"> Erste Population wird gestartet\")\n",
        "    population = np.random.uniform(GEN_MIN, GEN_MAX, (pop_size, ind_size))\n",
        "\n",
        "    # Bewerten der ersten Population\n",
        "    fitness_pop = evaluate(population, generative_model, classifier_model, char_to_index, index_to_char, 4, sentiment)\n",
        "    print(\">> Fitness: \\n\", fitness_pop)\n",
        "\n",
        "    for i in range(epochs):\n",
        "        print(f\"\\n> Epoch {i+1}/{epochs+1} >>\")\n",
        "\n",
        "        # Einzelne Indiviuals werden über das Roulette Wheel ausgewählt\n",
        "        mating_pool = select(population, fitness_pop, pop_size, ind_size, elite_rate)\n",
        "\n",
        "        # Crossovers und Mutation erschaffen die neue Population\n",
        "        population = reproduce(mating_pool, pop_size, ind_size, mut_rate)\n",
        "\n",
        "        # Jedes Individual wird bewertet\n",
        "        fitness_pop = evaluate(population, generative_model, classifier_model, char_to_index, index_to_char, 4, sentiment)\n",
        "        print(\">> Fitness: \\n\", fitness_pop)\n",
        "\n",
        "    return population, fitness_pop"
      ],
      "execution_count": null,
      "outputs": []
    },
    {
      "cell_type": "markdown",
      "metadata": {
        "id": "Fn11KLoAX6xP"
      },
      "source": [
        "\n",
        "_Jetzt werden die definierten Methoden benutzt, um die Neuronen zu trainieren, die die gewünschte Stimmung erzeugen sollen._"
      ]
    },
    {
      "cell_type": "code",
      "metadata": {
        "id": "_8Cq7Ub2X6xP"
      },
      "source": [
        "# weitere Konstanten\n",
        "POPULATION_SIZE = 10\n",
        "EVOLVE_EPOCHS = 10\n",
        "\n",
        "MUTATION_RATE = 0.1\n",
        "ELISTM = 0.1"
      ],
      "execution_count": null,
      "outputs": []
    },
    {
      "cell_type": "markdown",
      "metadata": {
        "id": "FQEWpSAiX6xQ"
      },
      "source": [
        "### Starten der Evolution für positive Stimmung"
      ]
    },
    {
      "cell_type": "code",
      "metadata": {
        "id": "7CCymHteX6xQ"
      },
      "source": [
        "SENTIMENT = 1\n",
        "NAME = \"positive\"\n",
        "# für negative Gefühlslage -1"
      ],
      "execution_count": null,
      "outputs": []
    },
    {
      "cell_type": "code",
      "metadata": {
        "id": "zn7lZ6ROX6xR"
      },
      "source": [
        "# falls das Verzeichnis der Codierung nicht mehr vorhanden ist\n",
        "try: (char_to_index)\n",
        "except NameError:\n",
        "    with open(os.path.join(TRAIN_DIR, \"char_to_index.json\"), \"w+\") as f:\n",
        "        char_to_index = json.load(f)"
      ],
      "execution_count": null,
      "outputs": []
    },
    {
      "cell_type": "code",
      "metadata": {
        "id": "3dddT4nuX6xS"
      },
      "source": [
        "try: (index_to_char)\n",
        "except NameError:\n",
        "    index_to_char = {index : char for char, index in char_to_index.items()}"
      ],
      "execution_count": null,
      "outputs": []
    },
    {
      "cell_type": "code",
      "metadata": {
        "id": "vkNVtr-QX6xT"
      },
      "source": [
        "VOCAB_SIZE = len(char_to_index)"
      ],
      "execution_count": null,
      "outputs": []
    },
    {
      "cell_type": "code",
      "metadata": {
        "tags": [],
        "id": "T3d-rmRwX6xT",
        "outputId": "f6efa94d-aa82-4b28-b8b4-dba6595bf04e"
      },
      "source": [
        "generative_model_positive = build_model(1)\n",
        "generative_model_positive.load_weights(tf.train.latest_checkpoint(TRAIN_DIR))\n",
        "generative_model_positive.build(tf.TensorShape([1, None]))"
      ],
      "execution_count": null,
      "outputs": [
        {
          "output_type": "stream",
          "text": [
            "Model: \"sequential_3\"\n",
            "_________________________________________________________________\n",
            "Layer (type)                 Output Shape              Param #   \n",
            "=================================================================\n",
            "embedding (Embedding)        (1, None, 256)            64512     \n",
            "_________________________________________________________________\n",
            "lstm (LSTM)                  (1, None, 512)            1574912   \n",
            "_________________________________________________________________\n",
            "lstm_1 (LSTM)                (1, None, 512)            2099200   \n",
            "_________________________________________________________________\n",
            "lstm_2 (LSTM)                (1, None, 512)            2099200   \n",
            "_________________________________________________________________\n",
            "lstm_3 (LSTM)                (1, None, 512)            2099200   \n",
            "_________________________________________________________________\n",
            "dense (Dense)                (1, None, 252)            129276    \n",
            "=================================================================\n",
            "Total params: 8,066,300\n",
            "Trainable params: 8,066,300\n",
            "Non-trainable params: 0\n",
            "_________________________________________________________________\n"
          ],
          "name": "stdout"
        }
      ]
    },
    {
      "cell_type": "code",
      "metadata": {
        "tags": [],
        "id": "jbXaasgYX6xV",
        "outputId": "15346d30-f68c-4783-9165-8f6b7a2e40c7"
      },
      "source": [
        "# Laden des Klassifizierungsmodels\n",
        "with open(os.path.join(TRAIN_DIR, \"classifier_ckpt.p\"), \"rb\") as f:\n",
        "    classifier_model_positive = pickle.load(f)\n",
        "\n",
        "print(classifier_model_positive)"
      ],
      "execution_count": null,
      "outputs": [
        {
          "output_type": "stream",
          "text": [
            "LogisticRegression(C=0.015625, penalty='l1', random_state=51,\n",
            "                   solver='liblinear')\n"
          ],
          "name": "stdout"
        }
      ]
    },
    {
      "cell_type": "code",
      "metadata": {
        "id": "vGIlScRSX6xW"
      },
      "source": [
        "sentneuron_ixs = get_activated_neurons(classifier_model_positive)\n",
        "index_size = len(sentneuron_ixs)"
      ],
      "execution_count": null,
      "outputs": []
    },
    {
      "cell_type": "code",
      "metadata": {
        "tags": [],
        "id": "GnElIRV1X6xW",
        "outputId": "e01c7202-d3bb-4379-85af-e3e756d001b9"
      },
      "source": [
        "population_positive, fitness_pop_positive = evolve(POPULATION_SIZE, index_size, MUTATION_RATE, ELISTM, EVOLVE_EPOCHS, generative_model_positive, classifier_model_positive, sentiment=SENTIMENT)"
      ],
      "execution_count": null,
      "outputs": [
        {
          "output_type": "stream",
          "text": [
            ">> Fitness: \n",
            " [[1.        ]\n",
            " [0.86666667]\n",
            " [0.96666667]\n",
            " [1.        ]\n",
            " [0.86666667]\n",
            " [0.96666667]\n",
            " [0.9       ]\n",
            " [0.86666667]\n",
            " [1.        ]\n",
            " [0.9       ]]\n",
            "> Epoch 0 >>\n",
            ">> Fitness: \n",
            " [[0.86666667]\n",
            " [0.86666667]\n",
            " [0.96666667]\n",
            " [0.93333333]\n",
            " [0.86666667]\n",
            " [0.96666667]\n",
            " [0.93333333]\n",
            " [0.83333333]\n",
            " [0.76666667]\n",
            " [0.93333333]]\n",
            "> Epoch 1 >>\n",
            ">> Fitness: \n",
            " [[0.86666667]\n",
            " [0.93333333]\n",
            " [0.9       ]\n",
            " [0.93333333]\n",
            " [0.96666667]\n",
            " [0.83333333]\n",
            " [0.93333333]\n",
            " [0.83333333]\n",
            " [0.96666667]\n",
            " [0.96666667]]\n",
            "> Epoch 2 >>\n",
            ">> Fitness: \n",
            " [[0.93333333]\n",
            " [0.86666667]\n",
            " [0.9       ]\n",
            " [0.9       ]\n",
            " [0.86666667]\n",
            " [0.86666667]\n",
            " [0.9       ]\n",
            " [0.9       ]\n",
            " [0.93333333]\n",
            " [0.83333333]]\n",
            "> Epoch 3 >>\n",
            ">> Fitness: \n",
            " [[0.73333333]\n",
            " [0.86666667]\n",
            " [0.86666667]\n",
            " [0.83333333]\n",
            " [0.93333333]\n",
            " [0.93333333]\n",
            " [0.93333333]\n",
            " [0.83333333]\n",
            " [0.96666667]\n",
            " [0.8       ]]\n",
            "> Epoch 4 >>\n",
            ">> Fitness: \n",
            " [[0.9       ]\n",
            " [0.83333333]\n",
            " [0.9       ]\n",
            " [0.86666667]\n",
            " [0.76666667]\n",
            " [0.9       ]\n",
            " [0.76666667]\n",
            " [0.93333333]\n",
            " [0.83333333]\n",
            " [0.93333333]]\n",
            "> Epoch 5 >>\n",
            ">> Fitness: \n",
            " [[0.86666667]\n",
            " [0.86666667]\n",
            " [0.83333333]\n",
            " [0.83333333]\n",
            " [0.86666667]\n",
            " [0.93333333]\n",
            " [0.96666667]\n",
            " [0.86666667]\n",
            " [0.86666667]\n",
            " [0.93333333]]\n",
            "> Epoch 6 >>\n",
            ">> Fitness: \n",
            " [[0.9       ]\n",
            " [0.9       ]\n",
            " [0.86666667]\n",
            " [0.86666667]\n",
            " [0.93333333]\n",
            " [0.93333333]\n",
            " [0.8       ]\n",
            " [0.93333333]\n",
            " [0.76666667]\n",
            " [0.93333333]]\n",
            "> Epoch 7 >>\n",
            ">> Fitness: \n",
            " [[0.86666667]\n",
            " [0.96666667]\n",
            " [1.        ]\n",
            " [0.96666667]\n",
            " [0.9       ]\n",
            " [0.9       ]\n",
            " [0.93333333]\n",
            " [0.93333333]\n",
            " [0.9       ]\n",
            " [0.93333333]]\n",
            "> Epoch 8 >>\n",
            ">> Fitness: \n",
            " [[0.83333333]\n",
            " [0.83333333]\n",
            " [0.96666667]\n",
            " [0.96666667]\n",
            " [0.86666667]\n",
            " [0.9       ]\n",
            " [0.9       ]\n",
            " [0.86666667]\n",
            " [0.8       ]\n",
            " [0.86666667]]\n",
            "> Epoch 9 >>\n",
            ">> Fitness: \n",
            " [[0.9       ]\n",
            " [0.9       ]\n",
            " [0.96666667]\n",
            " [0.9       ]\n",
            " [0.9       ]\n",
            " [0.73333333]\n",
            " [0.83333333]\n",
            " [0.86666667]\n",
            " [0.9       ]\n",
            " [0.8       ]]\n"
          ],
          "name": "stdout"
        }
      ]
    },
    {
      "cell_type": "code",
      "metadata": {
        "id": "C53MGsTFX6xX"
      },
      "source": [
        "# get bestes Individuum\n",
        "best_index_positive = np.argmax(fitness_pop_positive)\n",
        "best_individual_positive = population_positive[best_index_positive]"
      ],
      "execution_count": null,
      "outputs": []
    },
    {
      "cell_type": "code",
      "metadata": {
        "id": "TnXSDsDUX6xY"
      },
      "source": [
        "# Use best individual gens to create a dictionary with cell values\n",
        "neurons_positive = {}\n",
        "for i, ix in enumerate(sentneuron_ixs):\n",
        "    neurons_positive[str(ix)] = best_individual_positive[i]"
      ],
      "execution_count": null,
      "outputs": []
    },
    {
      "cell_type": "code",
      "metadata": {
        "tags": [],
        "id": "oQlnkNx8X6xY",
        "outputId": "341fe26f-0c36-43f8-90cb-8f7bec90975e"
      },
      "source": [
        "print(neurons_positive)"
      ],
      "execution_count": null,
      "outputs": [
        {
          "output_type": "stream",
          "text": [
            "{'466': -0.7949991649771533, '282': -0.0816157120330953, '147': -0.23277896665297285}\n"
          ],
          "name": "stdout"
        }
      ]
    },
    {
      "cell_type": "code",
      "metadata": {
        "id": "niB_m8tFX6xZ"
      },
      "source": [
        "# speichern der positiven Neuronen\n",
        "with open(os.path.join(TRAIN_DIR, \"neurons_\"+NAME+\".json\"), \"w\") as f:\n",
        "    json.dump(neurons, f)"
      ],
      "execution_count": null,
      "outputs": []
    },
    {
      "cell_type": "markdown",
      "metadata": {
        "id": "ZFCcv7d7X6xa"
      },
      "source": [
        "### Starten der Evolution für negative Gefühlslage"
      ]
    },
    {
      "cell_type": "code",
      "metadata": {
        "id": "cXfV2lTpX6xa"
      },
      "source": [
        "SENTIMENT = -1\n",
        "NAME = \"negative\""
      ],
      "execution_count": null,
      "outputs": []
    },
    {
      "cell_type": "code",
      "metadata": {
        "tags": [],
        "id": "xDUyogcBX6xb"
      },
      "source": [
        "generative_model_negative = build_model(1)\n",
        "generative_model_negative.load_weights(tf.train.latest_checkpoint(TRAIN_DIR))\n",
        "generative_model_negative.build(tf.TensorShape([1, None]))"
      ],
      "execution_count": null,
      "outputs": []
    },
    {
      "cell_type": "code",
      "metadata": {
        "tags": [],
        "id": "OMSgbc1_X6xc",
        "outputId": "3a8c25ba-a90b-4552-a639-94d184fc44d5"
      },
      "source": [
        "# Laden des Klassifizierungsmodels\n",
        "with open(os.path.join(TRAIN_DIR, \"classifier_ckpt.p\"), \"rb\") as f:\n",
        "    classifier_model_negative = pickle.load(f)\n",
        "\n",
        "print(classifier_model_negative)"
      ],
      "execution_count": null,
      "outputs": [
        {
          "output_type": "stream",
          "text": [
            "LogisticRegression(C=0.015625, penalty='l1', random_state=51,\n",
            "                   solver='liblinear')\n"
          ],
          "name": "stdout"
        }
      ]
    },
    {
      "cell_type": "code",
      "metadata": {
        "id": "urJdoUMWX6xd"
      },
      "source": [
        "sentneuron_ixs = get_activated_neurons(classifier_model_negative)\n",
        "index_size = len(sentneuron_ixs)"
      ],
      "execution_count": null,
      "outputs": []
    },
    {
      "cell_type": "code",
      "metadata": {
        "tags": [],
        "id": "WJLkgRRwX6xe",
        "outputId": "44cab302-9530-4f8e-931d-a140775718d9"
      },
      "source": [
        "population_negative, fitness_pop_negative = evolve(POPULATION_SIZE, index_size, MUTATION_RATE, ELISTM, EVOLVE_EPOCHS, generative_model_negative, classifier_model_negative, sentiment=SENTIMENT)"
      ],
      "execution_count": null,
      "outputs": [
        {
          "output_type": "stream",
          "text": [
            "> Erste Population wird gestartet\n",
            ">> Fitness: \n",
            " [[-0.93333333]\n",
            " [-0.9       ]\n",
            " [-0.9       ]\n",
            " [-0.93333333]\n",
            " [-0.86666667]\n",
            " [-0.76666667]\n",
            " [-0.8       ]\n",
            " [-0.96666667]\n",
            " [-0.93333333]\n",
            " [-0.86666667]]\n",
            "> Epoch 0/10 >>\n",
            ">> Fitness: \n",
            " [[-0.83333333]\n",
            " [-0.83333333]\n",
            " [-0.86666667]\n",
            " [-0.83333333]\n",
            " [-0.86666667]\n",
            " [-0.96666667]\n",
            " [-0.9       ]\n",
            " [-0.93333333]\n",
            " [-0.83333333]\n",
            " [-0.83333333]]\n",
            "> Epoch 1/10 >>\n",
            ">> Fitness: \n",
            " [[-0.96666667]\n",
            " [-0.9       ]\n",
            " [-0.86666667]\n",
            " [-0.96666667]\n",
            " [-0.8       ]\n",
            " [-0.9       ]\n",
            " [-0.9       ]\n",
            " [-0.86666667]\n",
            " [-0.93333333]\n",
            " [-1.        ]]\n",
            "> Epoch 2/10 >>\n",
            ">> Fitness: \n",
            " [[-0.83333333]\n",
            " [-0.9       ]\n",
            " [-0.93333333]\n",
            " [-0.83333333]\n",
            " [-0.83333333]\n",
            " [-0.96666667]\n",
            " [-0.93333333]\n",
            " [-0.93333333]\n",
            " [-0.93333333]\n",
            " [-0.9       ]]\n",
            "> Epoch 3/10 >>\n",
            ">> Fitness: \n",
            " [[-0.93333333]\n",
            " [-0.96666667]\n",
            " [-0.86666667]\n",
            " [-0.93333333]\n",
            " [-1.        ]\n",
            " [-0.96666667]\n",
            " [-0.93333333]\n",
            " [-0.86666667]\n",
            " [-0.9       ]\n",
            " [-0.9       ]]\n",
            "> Epoch 4/10 >>\n",
            ">> Fitness: \n",
            " [[-0.86666667]\n",
            " [-0.93333333]\n",
            " [-0.93333333]\n",
            " [-1.        ]\n",
            " [-0.9       ]\n",
            " [-0.96666667]\n",
            " [-0.93333333]\n",
            " [-0.86666667]\n",
            " [-0.86666667]\n",
            " [-0.93333333]]\n",
            "> Epoch 5/10 >>\n",
            ">> Fitness: \n",
            " [[-0.93333333]\n",
            " [-0.9       ]\n",
            " [-0.96666667]\n",
            " [-0.86666667]\n",
            " [-0.9       ]\n",
            " [-0.96666667]\n",
            " [-0.9       ]\n",
            " [-0.9       ]\n",
            " [-0.86666667]\n",
            " [-0.83333333]]\n",
            "> Epoch 6/10 >>\n",
            ">> Fitness: \n",
            " [[-0.96666667]\n",
            " [-0.9       ]\n",
            " [-0.83333333]\n",
            " [-0.9       ]\n",
            " [-0.93333333]\n",
            " [-0.83333333]\n",
            " [-0.86666667]\n",
            " [-0.9       ]\n",
            " [-0.86666667]\n",
            " [-0.93333333]]\n",
            "> Epoch 7/10 >>\n",
            ">> Fitness: \n",
            " [[-0.93333333]\n",
            " [-0.86666667]\n",
            " [-0.93333333]\n",
            " [-0.96666667]\n",
            " [-0.96666667]\n",
            " [-0.86666667]\n",
            " [-0.86666667]\n",
            " [-0.93333333]\n",
            " [-0.86666667]\n",
            " [-0.9       ]]\n",
            "> Epoch 8/10 >>\n",
            ">> Fitness: \n",
            " [[-0.83333333]\n",
            " [-0.93333333]\n",
            " [-0.86666667]\n",
            " [-0.9       ]\n",
            " [-0.9       ]\n",
            " [-0.9       ]\n",
            " [-0.96666667]\n",
            " [-0.86666667]\n",
            " [-0.8       ]\n",
            " [-0.9       ]]\n",
            "> Epoch 9/10 >>\n",
            ">> Fitness: \n",
            " [[-0.8       ]\n",
            " [-0.83333333]\n",
            " [-0.86666667]\n",
            " [-0.83333333]\n",
            " [-0.9       ]\n",
            " [-0.96666667]\n",
            " [-0.86666667]\n",
            " [-0.8       ]\n",
            " [-0.9       ]\n",
            " [-0.9       ]]\n"
          ],
          "name": "stdout"
        }
      ]
    },
    {
      "cell_type": "code",
      "metadata": {
        "id": "f4cMp-n-X6xf"
      },
      "source": [
        "# get bestes Individuum\n",
        "best_index_negative = np.argmax(fitness_pop_negative)\n",
        "best_individual_negative = population_negative[best_index_negative]"
      ],
      "execution_count": null,
      "outputs": []
    },
    {
      "cell_type": "code",
      "metadata": {
        "id": "i5lba-YjX6xf"
      },
      "source": [
        "# Use best individual gens to create a dictionary with cell values\n",
        "neurons_negative = {}\n",
        "for i, ix in enumerate(sentneuron_ixs):\n",
        "    neurons_negative[str(ix)] = best_individual_negative[i]"
      ],
      "execution_count": null,
      "outputs": []
    },
    {
      "cell_type": "code",
      "metadata": {
        "tags": [],
        "id": "lnrIRSGbX6xh"
      },
      "source": [
        "print(neurons_negative)"
      ],
      "execution_count": null,
      "outputs": []
    },
    {
      "cell_type": "code",
      "metadata": {
        "id": "wPzXDVXRX6xi"
      },
      "source": [
        "# speichern der positiven Neuronen\n",
        "with open(os.path.join(TRAIN_DIR, \"neurons_\"+NAME+\".json\"), \"w\") as f:\n",
        "    json.dump(neurons, f)"
      ],
      "execution_count": null,
      "outputs": []
    },
    {
      "cell_type": "markdown",
      "metadata": {
        "id": "WEQahbrDX6xi"
      },
      "source": [
        "## Erzeugen von Musik mit einer Gefühlslage"
      ]
    },
    {
      "cell_type": "code",
      "metadata": {
        "id": "O8J7P-CXX6xi"
      },
      "source": [
        "# Imports\n",
        "import os\n",
        "import json\n",
        "import numpy as np\n",
        "import tensorflow as tf\n",
        "import pickle\n",
        "\n",
        "import midi_loader\n",
        "import midi_generator"
      ],
      "execution_count": null,
      "outputs": []
    },
    {
      "cell_type": "code",
      "metadata": {
        "id": "AzVDnVVMX6xj"
      },
      "source": [
        "# Konstanten beliebig verändern:\n",
        "\n",
        "# gewünschte Länge des Stücks\n",
        "DESIRED_SEQ_LEN = 512\n",
        "\n",
        "# gewünschte Gefühlslage \n",
        "# für positive: 1; für negative: -1\n",
        "DESIRED_SENTIMENT = 1\n",
        "\n",
        "# Name der Midi-Datei\n",
        "# hier den ersten String verändern, die Dateiendung (\".mid\") aber behalten\n",
        "MIDI_FILE_NAME = \"midi-positive\" + \".mid\""
      ],
      "execution_count": null,
      "outputs": []
    },
    {
      "cell_type": "code",
      "metadata": {
        "id": "dzB1Hj2ZX6xk"
      },
      "source": [
        "def get_neurons(sentiment):\n",
        "    if sentiment > 0:\n",
        "        name = \"positive\"\n",
        "    else: \n",
        "        name = \"negative\"\n",
        "\n",
        "    with open(os.path.join(TRAIN_DIR, \"neurons_\"+name+\".json\")) as f:\n",
        "        neurons = json.load(f)\n",
        "\n",
        "    return neurons"
      ],
      "execution_count": null,
      "outputs": []
    },
    {
      "cell_type": "code",
      "metadata": {
        "tags": [],
        "id": "G6L1X4uhX6xk",
        "outputId": "53a73446-6daa-4e15-db41-8947d7f1cf9e"
      },
      "source": [
        "final_generative_model = build_model(1)\n",
        "final_generative_model.load_weights(tf.train.latest_checkpoint(TRAIN_DIR))\n",
        "final_generative_model.build(tf.TensorShape([1, None]))\n"
      ],
      "execution_count": null,
      "outputs": [
        {
          "output_type": "stream",
          "text": [
            "Model: \"sequential_4\"\n",
            "_________________________________________________________________\n",
            "Layer (type)                 Output Shape              Param #   \n",
            "=================================================================\n",
            "embedding_4 (Embedding)      (1, None, 256)            64512     \n",
            "_________________________________________________________________\n",
            "lstm_16 (LSTM)               (1, None, 512)            1574912   \n",
            "_________________________________________________________________\n",
            "lstm_17 (LSTM)               (1, None, 512)            2099200   \n",
            "_________________________________________________________________\n",
            "lstm_18 (LSTM)               (1, None, 512)            2099200   \n",
            "_________________________________________________________________\n",
            "lstm_19 (LSTM)               (1, None, 512)            2099200   \n",
            "_________________________________________________________________\n",
            "dense_4 (Dense)              (1, None, 252)            129276    \n",
            "=================================================================\n",
            "Total params: 8,066,300\n",
            "Trainable params: 8,066,300\n",
            "Non-trainable params: 0\n",
            "_________________________________________________________________\n",
            "WARNING:tensorflow:Unresolved object in checkpoint: (root).optimizer\n",
            "WARNING:tensorflow:Unresolved object in checkpoint: (root).optimizer.iter\n",
            "WARNING:tensorflow:Unresolved object in checkpoint: (root).optimizer.beta_1\n",
            "WARNING:tensorflow:Unresolved object in checkpoint: (root).optimizer.beta_2\n",
            "WARNING:tensorflow:Unresolved object in checkpoint: (root).optimizer.decay\n",
            "WARNING:tensorflow:Unresolved object in checkpoint: (root).optimizer.learning_rate\n",
            "WARNING:tensorflow:Unresolved object in checkpoint: (root).optimizer's state 'm' for (root).layer_with_weights-0.embeddings\n",
            "WARNING:tensorflow:Unresolved object in checkpoint: (root).optimizer's state 'm' for (root).layer_with_weights-5.kernel\n",
            "WARNING:tensorflow:Unresolved object in checkpoint: (root).optimizer's state 'm' for (root).layer_with_weights-5.bias\n",
            "WARNING:tensorflow:Unresolved object in checkpoint: (root).optimizer's state 'm' for (root).layer_with_weights-1.cell.kernel\n",
            "WARNING:tensorflow:Unresolved object in checkpoint: (root).optimizer's state 'm' for (root).layer_with_weights-1.cell.recurrent_kernel\n",
            "WARNING:tensorflow:Unresolved object in checkpoint: (root).optimizer's state 'm' for (root).layer_with_weights-1.cell.bias\n",
            "WARNING:tensorflow:Unresolved object in checkpoint: (root).optimizer's state 'm' for (root).layer_with_weights-2.cell.kernel\n",
            "WARNING:tensorflow:Unresolved object in checkpoint: (root).optimizer's state 'm' for (root).layer_with_weights-2.cell.recurrent_kernel\n",
            "WARNING:tensorflow:Unresolved object in checkpoint: (root).optimizer's state 'm' for (root).layer_with_weights-2.cell.bias\n",
            "WARNING:tensorflow:Unresolved object in checkpoint: (root).optimizer's state 'm' for (root).layer_with_weights-3.cell.kernel\n",
            "WARNING:tensorflow:Unresolved object in checkpoint: (root).optimizer's state 'm' for (root).layer_with_weights-3.cell.recurrent_kernel\n",
            "WARNING:tensorflow:Unresolved object in checkpoint: (root).optimizer's state 'm' for (root).layer_with_weights-3.cell.bias\n",
            "WARNING:tensorflow:Unresolved object in checkpoint: (root).optimizer's state 'm' for (root).layer_with_weights-4.cell.kernel\n",
            "WARNING:tensorflow:Unresolved object in checkpoint: (root).optimizer's state 'm' for (root).layer_with_weights-4.cell.recurrent_kernel\n",
            "WARNING:tensorflow:Unresolved object in checkpoint: (root).optimizer's state 'm' for (root).layer_with_weights-4.cell.bias\n",
            "WARNING:tensorflow:Unresolved object in checkpoint: (root).optimizer's state 'v' for (root).layer_with_weights-0.embeddings\n",
            "WARNING:tensorflow:Unresolved object in checkpoint: (root).optimizer's state 'v' for (root).layer_with_weights-5.kernel\n",
            "WARNING:tensorflow:Unresolved object in checkpoint: (root).optimizer's state 'v' for (root).layer_with_weights-5.bias\n",
            "WARNING:tensorflow:Unresolved object in checkpoint: (root).optimizer's state 'v' for (root).layer_with_weights-1.cell.kernel\n",
            "WARNING:tensorflow:Unresolved object in checkpoint: (root).optimizer's state 'v' for (root).layer_with_weights-1.cell.recurrent_kernel\n",
            "WARNING:tensorflow:Unresolved object in checkpoint: (root).optimizer's state 'v' for (root).layer_with_weights-1.cell.bias\n",
            "WARNING:tensorflow:Unresolved object in checkpoint: (root).optimizer's state 'v' for (root).layer_with_weights-2.cell.kernel\n",
            "WARNING:tensorflow:Unresolved object in checkpoint: (root).optimizer's state 'v' for (root).layer_with_weights-2.cell.recurrent_kernel\n",
            "WARNING:tensorflow:Unresolved object in checkpoint: (root).optimizer's state 'v' for (root).layer_with_weights-2.cell.bias\n",
            "WARNING:tensorflow:Unresolved object in checkpoint: (root).optimizer's state 'v' for (root).layer_with_weights-3.cell.kernel\n",
            "WARNING:tensorflow:Unresolved object in checkpoint: (root).optimizer's state 'v' for (root).layer_with_weights-3.cell.recurrent_kernel\n",
            "WARNING:tensorflow:Unresolved object in checkpoint: (root).optimizer's state 'v' for (root).layer_with_weights-3.cell.bias\n",
            "WARNING:tensorflow:Unresolved object in checkpoint: (root).optimizer's state 'v' for (root).layer_with_weights-4.cell.kernel\n",
            "WARNING:tensorflow:Unresolved object in checkpoint: (root).optimizer's state 'v' for (root).layer_with_weights-4.cell.recurrent_kernel\n",
            "WARNING:tensorflow:Unresolved object in checkpoint: (root).optimizer's state 'v' for (root).layer_with_weights-4.cell.bias\n",
            "WARNING:tensorflow:A checkpoint was restored (e.g. tf.train.Checkpoint.restore or tf.keras.Model.load_weights) but not all checkpointed values were used. See above for specific issues. Use expect_partial() on the load status object, e.g. tf.train.Checkpoint.restore(...).expect_partial(), to silence these warnings, or use assert_consumed() to make the check explicit. See https://www.tensorflow.org/guide/checkpoint#loading_mechanics for details.\n"
          ],
          "name": "stdout"
        }
      ]
    },
    {
      "cell_type": "code",
      "metadata": {
        "tags": [],
        "id": "YazM97DpX6xl"
      },
      "source": [
        "midi_text = midi_generator.generate_midi(final_generative_model, char_to_index, index_to_char, seq_len=512, layer_idx=4, override=get_neurons(DESIRED_SENTIMENT)\n",
        ")\n"
      ],
      "execution_count": null,
      "outputs": []
    },
    {
      "cell_type": "code",
      "metadata": {
        "tags": [],
        "id": "H_6hPU1gX6xq",
        "outputId": "ca4686bf-0c3b-48e3-d102-f32401d7fa5d"
      },
      "source": [
        "print(midi_text)"
      ],
      "execution_count": null,
      "outputs": [
        {
          "output_type": "stream",
          "text": [
            "\n",
            "  t_128 t_128 t_128 t_128 t_113 t_128 \n",
            " t_128 t_128 v_108 d_eighth_0 n_35 n_47 w_1 v_124 n_47 w_1 v_92 d_eighth_1 n_40 w_1 d_eighth_0 n_40 w_3 d_16th_0 n_40 w_1 d_eighth_1 n_40 w_4 n_40 w_4 n_40 w_1 \n",
            " n_40 w_2 n_40 w_4 d_eighth_0 n_40 w_2 n_40 d_eighth_1 n_64 w_2 d_eighth_0 n_42 w_2 d_eighth_1 n_40 d_16th_0 n_59 w_1 n_59 n_64 w_1 d_eighth_1 n_64 w_1 d_eighth_0 n_42 w_2 n_40 d_16th_0 n_66 w_1 n_64 n_71 w_2 d_quarter_0 n_40 d_16th_0 n_64 w_1 n_64 w_1 n_64 w_2 d_eighth_1 n_64 w_4 d_eighth_0 n_35 d_quarter_0 n_61 n_64 w_2 d_16th_0 n_37 w_1 d_eighth_0 n_61 w_1 d_quarter_0 n_61 w_1 d_eighth_0 n_64 w_1 d_16th_0 n_64 w_1 d_eighth_0 n_37 d_eighth_1 n_64 n_64 w_2 d_eighth_0 n_47 w_2 d_quarter_0 n_37 d_16th_0 n_61 w_1 n_64 w_1 n_61 w_1 d_eighth_1 n_61 w_3 d_16th_0 n_37 n_61 w_2 d_quarter_0 n_37 d_16th_0 n_61 w_2 d_quarter_0 n_37 d_16th_0 n_64 w_1 n_61 w_1 n_61 w_1 d_quarter_0 n_37 d_16th_0 n_61 w_1 n_37 w_2 n_37 w_2 n_37 w_2 d_quarter_0 n_37 d_eighth_0 n_61 w_1 d_quarter_0 n_64 w_2 d_quarter_0 n_35 w_2 d_16th_0 n_37 w_1 n_37 w_1 n_37 n_61 w_1 n_37 d_quarter_0 n_59 n_64 w_2 d_eighth_0 n_37 d_16th_0 n_61 w_2 d_quarter_0 n_35 d_16th_0 n_64 w_1 n_66 n_66 w_2 d_eighth_0 n_37 w_2 n_37 d_quarter_0 n_64 w_2 d_eighth_0 n_37 d_16th_0 n_68 w_2 n_37 d_quarter_0 n_66 w_2 d_eighth_0 n_37 w_2 d_16th_0 n_37 d_quarter_0 n_66 w_1 d_16th_0 n_37 w_1 d_eighth_0 n_35 w_1 d_eighth_1 n_64 w_1 d_eighth_0 n_40 w_1 d_eighth_1 n_64 w_1 d_eighth_0 n_35 w_2 n_35 d_half_0 n_64 w_2 d_16th_0 n_35 w_1 d_eighth_0 n_40 w_2 d_16th_0 n_47 w_4 n_35 d_eighth_0 n_59 w_2 n_35 w_2 d_16th_0 n_35 w_2 n_35 w_1 d_eighth_0 n_35 w_1 d_16th_0 n_59 w_2 n_35 w_2 n_35 w_1 n_59 w_1 d_eighth_0 n_35 w_2 d_16th_0 n_35 w_1 d_eighth_0 n_47 w_1 d_16th_0 n_35 w_2 d_eighth_0 n_36 d_eighth_1 n_66 n_71 w_2 d_16th_0 n_36 w_1 d_eighth_0 n_33 w_1 d_16th_0 n_64 w_1 d_eighth_0 n_35 w_2 d_16th_0 n_40 w_1 n_35 d_eighth_1 n_64 w_1 d_16th_0 n_36 w_2 n_35 d_eighth_1 n_67 w_1 d_eighth_0 n_35 w_1 n_64 n_71 w_1 n_35 w_1 n_64 w_1 d_16th_0 n_35 d_eighth_0 n_66 w_1 d_16th_0 n_47 d_eighth_0 n_66 w_2 d_eighth_1 n_40 d_eighth_0 n_59 n_66 w_3 d_16th_0 n_66 w_1 d_eighth_0 n_40 d_16th_0 n_66 w_1 n_64 n_64 w_1 d_eighth_0 n_40 w_1 d_eighth_1 n_40 w_3 d_eighth_0 n_35 w_1 d_16th_0 n_40 w_1 d_eighth_0 n_40 w_2 n_47 w_2 d_eighth_1 n_42 w_4 d_eighth_0 n_42 w_1 n_54 w_1 d_16th_0 n_59 w_1 d_eighth_1 n_40 d_eighth_0 n_59 w_2 d_16th_0 n_40 w_1 d_eighth_1 n_40 d_eighth_0 n_59 w_1 d_16th_0 n_59 w_1 n_40 d_eighth_0 n_61 w_1 d_16th_0 n_42 d_eighth_0 n_64 n_71 w_1 n_40 w_1 d_eighth_1 n_64 w_1 d_16th_0 n_42 w_1 d_eighth_0 n_47 n_59 w_2 n_42 d_eighth_1 n_66 n_73 w_2 d_16th_0 n_42 w_1 n_42 w_1 d_eighth_1 n_42 d_quarter_0 n_61 n_66 n_73 w_3 d_eighth_0 n_42 w_1 d_quarter_0 n_66 n_70 w_2 d_eighth_0 n_37 w_1 d_16th_0 n_42 w_1 d_eighth_0 n_42 d_half_0 n_59 n_66 n_73 w_2 d_eighth_0 n_42 w_3 d_16th_0 n_47 w_2 d_quarter_0 n_42 w_4 d_half_0 n_42 w_2 d_16th_0 n_42 w_2 n_42 w_1 n_42 w_1 n_42 w_1 n_42 w_1 n_42 w_1 n_54 w_2 d_quarter_0 n_35 w_4 d_16th_0 n_35 w_1 n_47 w_2 n_35 w_2 d_eighth_0 n_47 d_16th_0 n_54 w_1 n_59 w_1 d_eighth_0 n_35 w_2 d_16th_0 n_35 w_2 n_47 w_2 d_quarter_0 n_35 w_4 d_eighth_0 n_40 w_2 n_35 w_2 \n",
            " t_128 t_128 t_128   t_128 t_128 v_108 d_eighth_0 n_35 n_42 w_3 n_35 n_47 w_3 n_42 n_47 w_2 n_42 n_47 w_1 n_42 n_49 n_54 w_1 d_eighth_0 n_37 n_49 w_2 n_37 n_49 w_3 d_16th_0 n_37 w_1 n_49 w_1 d_eighth_0 n_49 w_2 n_37 w_1 d_eighth_1 n_37 w_1 d_16th_0 n_37 w_1 n_37 w_1 n_37 d_eighth_0 n_37 n_49 w_1 n_37 w_1 d_eighth_1 n_35 w_3 d_eighth_0 n_35 w_2 n_35 d_eighth_1 n_64 n_71 w_1 d_eighth_0 n_47 w_2 d_16th_0 n_40 d_eighth_0 n_66 n_71 w_2 d_16th_0 n_40 d_eighth_1 n_66 n_71 w_1 d_16th_0 n_42 w_1 n_40 w_1 n_40 d_eighth_0 n_68 n_76 w_2 n_35 d_16th_0 n_64 n_71 w_2 d_eighth_0 n_40 w_2 d_eighth_1 n_40 d_eighth_0 n_68 n_76 w_3 d_16th_0 n_40 w_1 d_eighth_0 n_40 d_16th_0 n_71 n_73 w_1 n_71 n_76 w_2 n_40 d_eighth_1 n_71 w_1 d_16th_0 n_40 w_1 d_eighth_0 n_40 w_2 d_16th_0 n_42 d_eighth_0 n_71 n_76 w_1 n_40 w_2 n_40 w_1 n_52 w_2 d_16th_0 n_40 w_1 n_40 w_1 d_eighth_0 n_47 d_eighth_1 n_66 n_71 n_76 w_3 d_eighth_0 n_40 w_1 d_eighth_1 n_64 n_71 n_76 w_2 d_eighth_0 n_40 w_2 n_40 n_71 n_76 w_2 d_eighth_1 n_40 d_eighth_0 n_64 n_71 n_71 w_2 n_69 w_1 d_16th_0 n_40 n_52 n_64 n_69 n_71 w_2 d_eighth_0 n_40 w_1 n_52 w_1 d_eighth_1 n_40 d_16th_0 n_52 w_1 n_52 w_2 d_eighth_0 n_40 w_1 d_16th_0 n_40 w_1 d_eighth_0 n_40 w_2 d_eighth_1 n_52 n_59 w_2 d_eighth_0 n_40 d_eighth_1 n_59 n_71 w_2 d_16th_0 n_40 w_1 n_40 w_1 d_eighth_1 n_47 d_eighth_0 n_64 w_2 d_eighth_1 n_59 n_71 w_3 d_16th_0 n_40 w_1 d_eighth_1 n_47 d_quarter_0 n_64 w_2 d_16th_0 n_40 w_1 d_eighth_0 n_40 w_1 d_quarter_0 n_59 w_1 d_eighth_0 n_35 w_1 d_eighth_1 n_64 w_1 d_16th_0 n_35 w_1 n_35 d_eighth_1 n_54 n_66 w_2 d_16th_0 n_35 w_1 n_47 w_1 n_35 d_half_0 n_59 w_1 d_16th_0 n_47 w_2 n_47 w_1 n_54 w_2 n_47 w_2 n_35 w_2 n_47 w_2 n_47 w_1 n_54 w_2 n_35 d_half_0 n_66 w_2 d_16th_0 n_54 w_1 n_47 w_1 n_50 w_1 n_47 w_1 n_50 w_2 d_eighth_0 n_50 d_half_0 n_69 w_2 d_quarter_0 n_50 w_4 d_16th_0 n_50 w_1 n_50 w_1 n_45 d_eighth_0 n_62 d_half_0 n_74 w_1 d_quarter_0 n_50 w_1 d_16th_0 n_50 w_2 d_eighth_0 n_50 w_2 n_50 d_quarter_0 n_69 w_2 d_16th_0 n_53 w_1 n_50 d_eighth_0 n_69 w_2 d_16th_0 n_50 d_half_0 n_69 w_1 d_quarter_0 n_50 w_3 d_eighth_0 n_69 w_3 d_16th_0 n_45 d_quarter_0 n_69 w_2 d_quarter_0 n_50 w_2 d_eighth_0 n_62 w_1 d_16th_0 n_50 w_1 n_50 d_quarter_0 n_62 w_1 d_16th_0 n_50 w_2 d_quarter_0 n_45 d_eighth_0 n_57 w_2 n_62 n_69 w_2 d_16th_0 n_45 d_eighth_0 n_62 w_1 d_quarter_0 n_38 w_1 d_eighth_0 n_57 n_62 w_2 d_quarter_0 n_50 n_57 n_62 w_4 d_16th_0 n_62 n_66 w_1 n_62 n_67 w_1 d_quarter_0 n_62 n_66 w_2 d_16th_0 n_50 w_1 n_50 w_1 d_quarter_0 n_54 d_eighth_0 n_61 n_66 w_2 d_16th_0 n_62 w_1 n_66 n_66 w_1 d_quarter_0 n_54 n_62 n_69 n_69 w_6 d_16th_0 n_57 n_62 n_67 n_69 w_1 n_57 n_66 n_69 w_2 d_quarter_0 n_57 n_64 n_66 n_69 w_6 d_eighth_0 n_45 w_2 d_half_1 n_45 w_2 d_16th_0 n_45 w_1 n_52 w_1 d_quarter_0 n_43 d_16th_0 n_57 n_69 w_1 n_64 n_71 w_2 n_64 n_69 w_2 d_quarter_0 n_64 n_71 w_1 d_quarter_0 n_40 w_2 d_16th_0 n_40 d_quarter_0 n_64 n_71 w_2 d_quarter_0 n_35 w_1 d_16th_0 n_66 n_71 w_1 n_67 n_71 w_2 d_eighth_0 n_35 d_quarter_0 n_64 n_71 w_2 d_16th_0 n_35 w_1 n_35 w_1 d_eighth_0 n_35 w_2 n_47 n_64 n_67 w_2 n_35 d_quarter_0 n_66 w_3 w_1 n_35 n_40 n_40 d_eighth_0 n_40 n_47 w_2 n_40 n_40 w_2 n_40 n_47 w_2 n_40 n_47 n_52 w_2 n_35 n_47 n_52 w_1 n_40 n_47 n_52 w_2 d_eighth_0 n_40 n_52 n_52 v_124 d_eighth_1 n_64 n_76 n_83 w_2 v_108 d_eighth_0 n_40 n_47 n_52 v_124 d_16th_0 n_83 n_83 n_88 w_1 v_108 n_40 n_83 n_83 n_88 n_91 w_2 v_108 d_16th_0 n_40 n_52 n_52 v_108 d_quarter_0 n_81 n_88 n_91 n_91 w_2 v_112 d_16th_0 n_40 n_52 w_1 n_47 n_52 w_1 d_eighth_0 n_52 n_52 n_59 v_124 d_eighth_0 n_83 n_88 w_2 v_108 d_16th_0 n_40 n_50 n_52 v_124 d_eighth_0 n_83 n_90 w_1 v_108 d_eighth_0 n_40 n_45 w_2 n_40 v_124 d_16th_0 n_52 n_81 n_88 n_92 w_2 v_108 n_40 v_124 n_52 n_83 n_88 n_92 w_2 v_108 n_40 n_52 v_124 d_16th_0 n_83 n_83 n_88 w_2 v_108 d_eighth_0 n_40 v_124 d_16th_0 n_83 n_92 w_1 v_108 d_eighth_1 n_40 v_124 d_16th_0 n_83 n_88 w_1 v_108 d_eighth_0 n_83 n_92 w_1 d_16th_0 n_52 n_83 w_1 d_eighth_1 n_52 v_124 d_eighth_0 n_83 n_88 w_1 v_124 n_81 w_1 v_124 d_16th_0 n_83 w_1 d_eighth_1 n_52 v_124 d_eighth_0 n_83 n_88 w_2 v_124 d_16th_0 n_76 w_1 d_quarter_0 n_52 v_124 n_76 n_88 w_2 v_92 n_47 v_124 d_quarter_0 n_76 n_85 w_2 d_eighth_0 n_47 w_1 d_16th_0 n_47 v_124 d_quarter_0 n_78 n_83 w_2 v_112 d_16th_0 n_47 w_1 d_eighth_0 n_52 w_2 d_eighth_1 n_47 d_eighth_0 n_71 n_83 w_1 d_16th_0 n_66 n_66 n_71 w_2 d_eighth_0 n_47 w_2 n_47 v_124 d_half_0 n_71 n_83 w_2 v_108 d_quarter_0 n_54 w_2 n_47 w_2 n_47 w_2 d_eighth_1 n_47 v_124 d_eighth_0 n_66 n_78 w_1 v_124 n_66 n_74 n_78 w_2 v_108 d_quarter_0 n_47 v_124 d_eighth_0 n_66 n_73 w_2 n_66 n_78 w_2 v_124 d_quarter_0 n_47 v_124 n_66 n_78 w_2 v_108 n_47 n_59 w_2 v_124 n_47 n_59 w_2 n_47 n_54 v_124 n_66 n_73 w_4 v_124 n_42 n_49 n_66 n_73 w_4 v_108 n_42 n_49 n_66 n_73 w_4 v_124 n_37 v_124 n_66 n_73 w_4 v_124 n_37 v_124 n_68 n_73 w_2 v_120 n_61 n_69 w_2 v_120 n_61 v_124 n_66 w_2 n_64 v_124 n_68 w_2 v_108 n_68 v_124 n_73 w_2 v_124 n_61 v_124 n_68 w_4 v_108 n_56 v_124 n_64 v_124 n_68 w_2 n_56 n_61 w_2 n_56 n_61 v_124 n_68 w_2 n_56 n_56 n_68 w_2 n_56 v_124 n_68 v_124 n_68 w_2 n_56 v_124 n_63 w_2 v_124 n_56 v_124 n_68 w_4 n_56 v_124 n_68 w_2 v_108 n_51 n_56 v_124 n_63 w_2 n_56 w_2 n_54 v_124 n_63 w_4 v_124 n_51 n_56 v_124 n_68 w_2 n_56 n_56 w_2 n_56 v_124 n_68 w_2 n_56 v_124 n_68 w_2 v_108 n_51 v_124 n_56 v_124 n_68 w_4 v_108 n_56 v_124 n_56 w_2 n_56 v_124 n_63 w_2 n_56 w_2 n_56 v_124 n_56 w_2 v_108 n_51 v_124 n_63 w_4 n_56 n_56 v_124 n_63 v_124 n_68 w_4 n_56 n_63 w_2 v_108 n_56 n_56 v_124 n_68 w_4 v_124 n_56 v_124 n_68 w_2 n_56 w_2 n_59 v_124 n_68 w_2 n_56 w_2 n_54 n_56 w_2 n_56 w_2 n_56 v_124 n_68 w_2 v_108 n_56 n_56 w_2 v_124 n_56 w_2 n_56 n_56 v_124 n_68 w_2 v_108 n_56 w_2 n_56 n_68 w_4 n_56 w_2 n_56 w_2 n_51 w_2 n_51 n_56 w_4 n_44 n_51 w_4 n_51 n_56 w_2 n_51 n_63 w_2 n_51 n_56 w_2 n_51 n_56 w_4 n_51 n_56 w_2 n_51 n_63 w_2 n_56 n_68 w_2 d_quarter_0 n_56 n_68 w_4 d_eighth_0\n"
          ],
          "name": "stdout"
        }
      ]
    },
    {
      "cell_type": "code",
      "metadata": {
        "id": "dg90kLuoX6xr"
      },
      "source": [
        "midi_loader.write(midi_text, MIDI_FILE_NAME)"
      ],
      "execution_count": null,
      "outputs": []
    },
    {
      "cell_type": "markdown",
      "metadata": {
        "id": "C_lyZG3zX6xs"
      },
      "source": [
        "###Musik die im Stück die Stimmung ändert\n"
      ]
    },
    {
      "cell_type": "code",
      "metadata": {
        "id": "xP5tbhOiX6xs"
      },
      "source": [
        "midi_text = midi_generator.generate_midi_2_sentiments(final_generative_model, char_to_index, index_to_char, seq_len=1024, layer_idx=4, \n",
        "first_override=get_neurons(1), second_override=get_neurons(-1))"
      ],
      "execution_count": null,
      "outputs": []
    },
    {
      "cell_type": "code",
      "metadata": {
        "tags": [],
        "id": "_elU5ZTvX6xt",
        "outputId": "848b97aa-150a-474b-c1d6-a53d58e416c2"
      },
      "source": [
        "pos_neurons = get_neurons(1)\n",
        "neg_neurons = get_neurons(-1)\n",
        "\n",
        "print(pos_neurons, \"\\n\", neg_neurons)"
      ],
      "execution_count": null,
      "outputs": [
        {
          "output_type": "stream",
          "text": [
            "{'466': -0.7949991649771533, '282': -0.0816157120330953, '147': -0.23277896665297285} \n",
            " {'466': 0.15586915277840535, '282': 0.40943974529414623, '147': 0.08178910856027838}\n"
          ],
          "name": "stdout"
        }
      ]
    },
    {
      "cell_type": "code",
      "metadata": {
        "tags": [],
        "id": "H8htDV23X6xv"
      },
      "source": [
        "midi_loader.write(midi_text, \"midi_pos_neg.mid\")"
      ],
      "execution_count": null,
      "outputs": []
    },
    {
      "cell_type": "code",
      "metadata": {
        "id": "SpjhhIVxX6xw"
      },
      "source": [
        ""
      ],
      "execution_count": null,
      "outputs": []
    }
  ]
}